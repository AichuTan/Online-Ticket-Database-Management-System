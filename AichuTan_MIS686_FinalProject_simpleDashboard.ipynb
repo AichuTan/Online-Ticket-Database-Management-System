{
 "cells": [
  {
   "cell_type": "markdown",
   "metadata": {
    "id": "If8WJKHngecW"
   },
   "source": [
    "# Ticket Reservation Insight Dashboard\n",
    "## Introduction\n",
    "\n",
    "### Business Overview\n",
    "This database is designed to support an online ticket reservation system that efficiently manages multiple events across various venues. It provides a seamless booking experience for individual customers, corporate clients, and event organizers, integrating flexible pricing strategies and multiple payment options.\n",
    "\n",
    "The system facilitates data-driven decision-making by offering insights into revenue trends, customer behavior, and venue performance to optimize business growth and profitability.\n",
    "\n",
    "\n",
    "Database Schema :\n",
    "![TicketReservationSystem Database](https://drive.google.com/uc?export=view&id=1Kgz6_C3RE8BVuTsobbw6lBmIu6FOhWiC)\n",
    "\n",
    "\n",
    "Here is my database DDL file\n",
    "[OnlineTicketReservationSystem MySQL DDL](https://drive.google.com/uc?export=view&id=1WcOPEZli7lINTukzF4Dzu1qoW0DoyEc8)\n"
   ]
  },
  {
   "cell_type": "code",
   "execution_count": 279,
   "metadata": {
    "colab": {
     "base_uri": "https://localhost:8080/",
     "height": 1000
    },
    "id": "dxDMRDwBgqk8",
    "outputId": "e4311729-646a-4937-bd51-3b38b81405b0"
   },
   "outputs": [
    {
     "name": "stdout",
     "output_type": "stream",
     "text": [
      "Requirement already satisfied: pandas in /opt/anaconda3/lib/python3.12/site-packages (1.5.3)\n",
      "Requirement already satisfied: numpy>=1.21.0 in /opt/anaconda3/lib/python3.12/site-packages (from pandas) (1.26.4)\n",
      "Requirement already satisfied: python-dateutil>=2.8.1 in /opt/anaconda3/lib/python3.12/site-packages (from pandas) (2.9.0.post0)\n",
      "Requirement already satisfied: pytz>=2020.1 in /opt/anaconda3/lib/python3.12/site-packages (from pandas) (2024.1)\n",
      "Requirement already satisfied: six>=1.5 in /opt/anaconda3/lib/python3.12/site-packages (from python-dateutil>=2.8.1->pandas) (1.16.0)\n",
      "Requirement already satisfied: numpy in /opt/anaconda3/lib/python3.12/site-packages (1.26.4)\n",
      "Requirement already satisfied: datapane in /opt/anaconda3/lib/python3.12/site-packages (0.17.0)\n",
      "Requirement already satisfied: altair<6.0.0,>=5.0.0 in /opt/anaconda3/lib/python3.12/site-packages (from datapane) (5.0.1)\n",
      "Requirement already satisfied: chardet<6.0.0,>=5.0.0 in /opt/anaconda3/lib/python3.12/site-packages (from datapane) (5.2.0)\n",
      "Requirement already satisfied: colorlog<7.0.0,>=6.4.0 in /opt/anaconda3/lib/python3.12/site-packages (from datapane) (6.9.0)\n",
      "Requirement already satisfied: dominate<3.0.0,>=2.7.0 in /opt/anaconda3/lib/python3.12/site-packages (from datapane) (2.9.1)\n",
      "Requirement already satisfied: importlib_resources>=5.6.0 in /opt/anaconda3/lib/python3.12/site-packages (from datapane) (6.5.2)\n",
      "Requirement already satisfied: ipynbname>=2021.3.2 in /opt/anaconda3/lib/python3.12/site-packages (from datapane) (2024.1.0.0)\n",
      "Requirement already satisfied: lxml<5.0.0,>=4.7.1 in /opt/anaconda3/lib/python3.12/site-packages (from datapane) (4.9.4)\n",
      "Requirement already satisfied: micawber>=0.5.3 in /opt/anaconda3/lib/python3.12/site-packages (from datapane) (0.5.6)\n",
      "Requirement already satisfied: multimethod<2.0.0,>=1.9.0 in /opt/anaconda3/lib/python3.12/site-packages (from datapane) (1.12)\n",
      "Requirement already satisfied: packaging<24.0.0,>=21.0.0 in /opt/anaconda3/lib/python3.12/site-packages (from datapane) (23.2)\n",
      "Requirement already satisfied: pandas<2.0.0,>=1.4.0 in /opt/anaconda3/lib/python3.12/site-packages (from datapane) (1.5.3)\n",
      "Requirement already satisfied: pyarrow>=9.0.0 in /opt/anaconda3/lib/python3.12/site-packages (from datapane) (14.0.2)\n",
      "Requirement already satisfied: typing-extensions<5.0.0,>=4.4.0 in /opt/anaconda3/lib/python3.12/site-packages (from datapane) (4.11.0)\n",
      "Requirement already satisfied: vega-datasets<1.0.0,>=0.9.0 in /opt/anaconda3/lib/python3.12/site-packages (from datapane) (0.9.0)\n",
      "Requirement already satisfied: jinja2 in /opt/anaconda3/lib/python3.12/site-packages (from altair<6.0.0,>=5.0.0->datapane) (3.1.4)\n",
      "Requirement already satisfied: jsonschema>=3.0 in /opt/anaconda3/lib/python3.12/site-packages (from altair<6.0.0,>=5.0.0->datapane) (4.19.2)\n",
      "Requirement already satisfied: numpy in /opt/anaconda3/lib/python3.12/site-packages (from altair<6.0.0,>=5.0.0->datapane) (1.26.4)\n",
      "Requirement already satisfied: toolz in /opt/anaconda3/lib/python3.12/site-packages (from altair<6.0.0,>=5.0.0->datapane) (0.12.0)\n",
      "Requirement already satisfied: ipykernel in /opt/anaconda3/lib/python3.12/site-packages (from ipynbname>=2021.3.2->datapane) (6.28.0)\n",
      "Requirement already satisfied: python-dateutil>=2.8.1 in /opt/anaconda3/lib/python3.12/site-packages (from pandas<2.0.0,>=1.4.0->datapane) (2.9.0.post0)\n",
      "Requirement already satisfied: pytz>=2020.1 in /opt/anaconda3/lib/python3.12/site-packages (from pandas<2.0.0,>=1.4.0->datapane) (2024.1)\n",
      "Requirement already satisfied: attrs>=22.2.0 in /opt/anaconda3/lib/python3.12/site-packages (from jsonschema>=3.0->altair<6.0.0,>=5.0.0->datapane) (23.1.0)\n",
      "Requirement already satisfied: jsonschema-specifications>=2023.03.6 in /opt/anaconda3/lib/python3.12/site-packages (from jsonschema>=3.0->altair<6.0.0,>=5.0.0->datapane) (2023.7.1)\n",
      "Requirement already satisfied: referencing>=0.28.4 in /opt/anaconda3/lib/python3.12/site-packages (from jsonschema>=3.0->altair<6.0.0,>=5.0.0->datapane) (0.30.2)\n",
      "Requirement already satisfied: rpds-py>=0.7.1 in /opt/anaconda3/lib/python3.12/site-packages (from jsonschema>=3.0->altair<6.0.0,>=5.0.0->datapane) (0.10.6)\n",
      "Requirement already satisfied: six>=1.5 in /opt/anaconda3/lib/python3.12/site-packages (from python-dateutil>=2.8.1->pandas<2.0.0,>=1.4.0->datapane) (1.16.0)\n",
      "Requirement already satisfied: appnope in /opt/anaconda3/lib/python3.12/site-packages (from ipykernel->ipynbname>=2021.3.2->datapane) (0.1.3)\n",
      "Requirement already satisfied: comm>=0.1.1 in /opt/anaconda3/lib/python3.12/site-packages (from ipykernel->ipynbname>=2021.3.2->datapane) (0.2.1)\n",
      "Requirement already satisfied: debugpy>=1.6.5 in /opt/anaconda3/lib/python3.12/site-packages (from ipykernel->ipynbname>=2021.3.2->datapane) (1.6.7)\n",
      "Requirement already satisfied: ipython>=7.23.1 in /opt/anaconda3/lib/python3.12/site-packages (from ipykernel->ipynbname>=2021.3.2->datapane) (8.25.0)\n",
      "Requirement already satisfied: jupyter-client>=6.1.12 in /opt/anaconda3/lib/python3.12/site-packages (from ipykernel->ipynbname>=2021.3.2->datapane) (8.6.0)\n",
      "Requirement already satisfied: jupyter-core!=5.0.*,>=4.12 in /opt/anaconda3/lib/python3.12/site-packages (from ipykernel->ipynbname>=2021.3.2->datapane) (5.7.2)\n",
      "Requirement already satisfied: matplotlib-inline>=0.1 in /opt/anaconda3/lib/python3.12/site-packages (from ipykernel->ipynbname>=2021.3.2->datapane) (0.1.6)\n",
      "Requirement already satisfied: nest-asyncio in /opt/anaconda3/lib/python3.12/site-packages (from ipykernel->ipynbname>=2021.3.2->datapane) (1.6.0)\n",
      "Requirement already satisfied: psutil in /opt/anaconda3/lib/python3.12/site-packages (from ipykernel->ipynbname>=2021.3.2->datapane) (5.9.0)\n",
      "Requirement already satisfied: pyzmq>=24 in /opt/anaconda3/lib/python3.12/site-packages (from ipykernel->ipynbname>=2021.3.2->datapane) (25.1.2)\n",
      "Requirement already satisfied: tornado>=6.1 in /opt/anaconda3/lib/python3.12/site-packages (from ipykernel->ipynbname>=2021.3.2->datapane) (6.4.1)\n",
      "Requirement already satisfied: traitlets>=5.4.0 in /opt/anaconda3/lib/python3.12/site-packages (from ipykernel->ipynbname>=2021.3.2->datapane) (5.14.3)\n",
      "Requirement already satisfied: MarkupSafe>=2.0 in /opt/anaconda3/lib/python3.12/site-packages (from jinja2->altair<6.0.0,>=5.0.0->datapane) (2.1.3)\n",
      "Requirement already satisfied: decorator in /opt/anaconda3/lib/python3.12/site-packages (from ipython>=7.23.1->ipykernel->ipynbname>=2021.3.2->datapane) (5.1.1)\n",
      "Requirement already satisfied: jedi>=0.16 in /opt/anaconda3/lib/python3.12/site-packages (from ipython>=7.23.1->ipykernel->ipynbname>=2021.3.2->datapane) (0.18.1)\n",
      "Requirement already satisfied: prompt-toolkit<3.1.0,>=3.0.41 in /opt/anaconda3/lib/python3.12/site-packages (from ipython>=7.23.1->ipykernel->ipynbname>=2021.3.2->datapane) (3.0.43)\n",
      "Requirement already satisfied: pygments>=2.4.0 in /opt/anaconda3/lib/python3.12/site-packages (from ipython>=7.23.1->ipykernel->ipynbname>=2021.3.2->datapane) (2.15.1)\n",
      "Requirement already satisfied: stack-data in /opt/anaconda3/lib/python3.12/site-packages (from ipython>=7.23.1->ipykernel->ipynbname>=2021.3.2->datapane) (0.2.0)\n",
      "Requirement already satisfied: pexpect>4.3 in /opt/anaconda3/lib/python3.12/site-packages (from ipython>=7.23.1->ipykernel->ipynbname>=2021.3.2->datapane) (4.8.0)\n",
      "Requirement already satisfied: platformdirs>=2.5 in /opt/anaconda3/lib/python3.12/site-packages (from jupyter-core!=5.0.*,>=4.12->ipykernel->ipynbname>=2021.3.2->datapane) (3.10.0)\n",
      "Requirement already satisfied: parso<0.9.0,>=0.8.0 in /opt/anaconda3/lib/python3.12/site-packages (from jedi>=0.16->ipython>=7.23.1->ipykernel->ipynbname>=2021.3.2->datapane) (0.8.3)\n",
      "Requirement already satisfied: ptyprocess>=0.5 in /opt/anaconda3/lib/python3.12/site-packages (from pexpect>4.3->ipython>=7.23.1->ipykernel->ipynbname>=2021.3.2->datapane) (0.7.0)\n",
      "Requirement already satisfied: wcwidth in /opt/anaconda3/lib/python3.12/site-packages (from prompt-toolkit<3.1.0,>=3.0.41->ipython>=7.23.1->ipykernel->ipynbname>=2021.3.2->datapane) (0.2.5)\n",
      "Requirement already satisfied: executing in /opt/anaconda3/lib/python3.12/site-packages (from stack-data->ipython>=7.23.1->ipykernel->ipynbname>=2021.3.2->datapane) (0.8.3)\n",
      "Requirement already satisfied: asttokens in /opt/anaconda3/lib/python3.12/site-packages (from stack-data->ipython>=7.23.1->ipykernel->ipynbname>=2021.3.2->datapane) (2.0.5)\n",
      "Requirement already satisfied: pure-eval in /opt/anaconda3/lib/python3.12/site-packages (from stack-data->ipython>=7.23.1->ipykernel->ipynbname>=2021.3.2->datapane) (0.2.2)\n",
      "Requirement already satisfied: plotly in /opt/anaconda3/lib/python3.12/site-packages (5.22.0)\n",
      "Requirement already satisfied: tenacity>=6.2.0 in /opt/anaconda3/lib/python3.12/site-packages (from plotly) (8.2.2)\n",
      "Requirement already satisfied: packaging in /opt/anaconda3/lib/python3.12/site-packages (from plotly) (23.2)\n",
      "Requirement already satisfied: pymysql in /opt/anaconda3/lib/python3.12/site-packages (1.1.1)\n",
      "Requirement already satisfied: mysql-connector-python in /opt/anaconda3/lib/python3.12/site-packages (9.2.0)\n"
     ]
    }
   ],
   "source": [
    "import sys\n",
    "!pip install pandas\n",
    "!pip install numpy\n",
    "!pip install datapane\n",
    "!pip install plotly\n",
    "!pip install pymysql\n",
    "!pip install mysql-connector-python"
   ]
  },
  {
   "cell_type": "code",
   "execution_count": 280,
   "metadata": {},
   "outputs": [],
   "source": [
    "## Setup python system"
   ]
  },
  {
   "cell_type": "code",
   "execution_count": 281,
   "metadata": {
    "colab": {
     "base_uri": "https://localhost:8080/",
     "height": 384
    },
    "id": "eVP5iUCGgecY",
    "outputId": "70fc0281-16cc-4161-958b-7d46ed54dba3",
    "tags": []
   },
   "outputs": [],
   "source": [
    "# import sqlite3\n",
    "import pandas as pd\n",
    "import numpy as np\n",
    "import plotly.express as px\n",
    "import plotly.graph_objects as go\n",
    "import datapane as dp\n",
    "import pymysql\n",
    "import warnings\n",
    "import pymysql\n",
    "import sys\n",
    "import os\n",
    "\n",
    "warnings.filterwarnings('ignore')\n",
    "\n"
   ]
  },
  {
   "cell_type": "code",
   "execution_count": 282,
   "metadata": {
    "id": "iUkaFjnymkK_"
   },
   "outputs": [
    {
     "name": "stdout",
     "output_type": "stream",
     "text": [
      "Database version: 8.0.40 \n"
     ]
    }
   ],
   "source": [
    "host = 'database-mis686-tp.c7a2o0gm26x0.us-east-2.rds.amazonaws.com'\n",
    "user = 'admin'\n",
    "password = 'rememberM33!!!'\n",
    "database = 'TicketReservationSystem'\n",
    "\n",
    "connection = pymysql.connect(host=host, user=user, passwd=password, database=database)\n",
    "with connection:\n",
    "    cur = connection.cursor()\n",
    "    cur.execute(\"SELECT VERSION()\")\n",
    "    version = cur.fetchone()\n",
    "    print(\"Database version: {} \".format(version[0]))"
   ]
  },
  {
   "cell_type": "code",
   "execution_count": 283,
   "metadata": {
    "id": "tHEnobyxgecZ",
    "tags": []
   },
   "outputs": [],
   "source": [
    "\n",
    "def run_query(q: str) -> pd.DataFrame:\n",
    "    with pymysql.connect(host=host, user=user, passwd=password, database=database) as conn:\n",
    "        return pd.read_sql(q, conn)\n",
    "\n",
    "\n",
    "def run_command(c: str):\n",
    "    with pymysql.connect(host=host, user=user, passwd=password, database=database) as conn:\n",
    "        conn.isolation_level = None\n",
    "        conn.execute(c)"
   ]
  },
  {
   "cell_type": "code",
   "execution_count": 284,
   "metadata": {
    "id": "gzn5tUI7geca",
    "tags": []
   },
   "outputs": [
    {
     "data": {
      "text/html": [
       "<div>\n",
       "<style scoped>\n",
       "    .dataframe tbody tr th:only-of-type {\n",
       "        vertical-align: middle;\n",
       "    }\n",
       "\n",
       "    .dataframe tbody tr th {\n",
       "        vertical-align: top;\n",
       "    }\n",
       "\n",
       "    .dataframe thead th {\n",
       "        text-align: right;\n",
       "    }\n",
       "</style>\n",
       "<table border=\"1\" class=\"dataframe\">\n",
       "  <thead>\n",
       "    <tr style=\"text-align: right;\">\n",
       "      <th></th>\n",
       "      <th>TABLE_NAME</th>\n",
       "      <th>row_count</th>\n",
       "    </tr>\n",
       "  </thead>\n",
       "  <tbody>\n",
       "    <tr>\n",
       "      <th>0</th>\n",
       "      <td>Booking</td>\n",
       "      <td>183</td>\n",
       "    </tr>\n",
       "    <tr>\n",
       "      <th>1</th>\n",
       "      <td>BookingSeat</td>\n",
       "      <td>183</td>\n",
       "    </tr>\n",
       "    <tr>\n",
       "      <th>2</th>\n",
       "      <td>CorporateCustomer</td>\n",
       "      <td>17</td>\n",
       "    </tr>\n",
       "    <tr>\n",
       "      <th>3</th>\n",
       "      <td>Discount</td>\n",
       "      <td>9</td>\n",
       "    </tr>\n",
       "    <tr>\n",
       "      <th>4</th>\n",
       "      <td>Event</td>\n",
       "      <td>79</td>\n",
       "    </tr>\n",
       "    <tr>\n",
       "      <th>5</th>\n",
       "      <td>EventVenue</td>\n",
       "      <td>77</td>\n",
       "    </tr>\n",
       "    <tr>\n",
       "      <th>6</th>\n",
       "      <td>IndividualCustomer</td>\n",
       "      <td>20</td>\n",
       "    </tr>\n",
       "    <tr>\n",
       "      <th>7</th>\n",
       "      <td>Organizer</td>\n",
       "      <td>20</td>\n",
       "    </tr>\n",
       "    <tr>\n",
       "      <th>8</th>\n",
       "      <td>Payment</td>\n",
       "      <td>178</td>\n",
       "    </tr>\n",
       "    <tr>\n",
       "      <th>9</th>\n",
       "      <td>Seat</td>\n",
       "      <td>168</td>\n",
       "    </tr>\n",
       "    <tr>\n",
       "      <th>10</th>\n",
       "      <td>User</td>\n",
       "      <td>57</td>\n",
       "    </tr>\n",
       "    <tr>\n",
       "      <th>11</th>\n",
       "      <td>Venue</td>\n",
       "      <td>20</td>\n",
       "    </tr>\n",
       "  </tbody>\n",
       "</table>\n",
       "</div>"
      ],
      "text/plain": [
       "            TABLE_NAME  row_count\n",
       "0              Booking        183\n",
       "1          BookingSeat        183\n",
       "2    CorporateCustomer         17\n",
       "3             Discount          9\n",
       "4                Event         79\n",
       "5           EventVenue         77\n",
       "6   IndividualCustomer         20\n",
       "7            Organizer         20\n",
       "8              Payment        178\n",
       "9                 Seat        168\n",
       "10                User         57\n",
       "11               Venue         20"
      ]
     },
     "execution_count": 284,
     "metadata": {},
     "output_type": "execute_result"
    }
   ],
   "source": [
    "def show_tables() -> pd.DataFrame:\n",
    "    q = \"\"\"\n",
    "          SELECT table_name\n",
    "          FROM information_schema.tables\n",
    "          WHERE table_schema = 'TicketReservationSystem' AND table_type = 'BASE TABLE';\n",
    "        \"\"\"\n",
    "    return run_query(q)\n",
    "\n",
    "\n",
    "def get_table_row_count(tablename) -> int:\n",
    "    q = (\n",
    "        \"\"\"\n",
    "        SELECT\n",
    "            COUNT(1)\n",
    "        FROM %s;\n",
    "        \"\"\"\n",
    "        % tablename\n",
    "    )\n",
    "    return run_query(q)[\"COUNT(1)\"][0]\n",
    "\n",
    "\n",
    "tables = show_tables()\n",
    "tables[\"row_count\"] = [get_table_row_count(t) for t in tables['TABLE_NAME']]\n",
    "\n",
    "tables"
   ]
  },
  {
   "cell_type": "code",
   "execution_count": null,
   "metadata": {
    "id": "IPMQv416geca",
    "tags": []
   },
   "outputs": [],
   "source": []
  },
  {
   "cell_type": "markdown",
   "metadata": {
    "id": "JS9c4cMkgeca"
   },
   "source": [
    "\n",
    "## Building a dashboard\n",
    "\n",
    "#### 1. Calculating Key Performance Indicator (KPIs Summary)\n",
    "#### - Total Revenue : \n",
    "Displays the cumulative revenue generated from ticket sales\n",
    "#### - Total Bookings : \n",
    "Shows the total number of reservations made\n",
    "#### - Total Customer : \n",
    "Indicates the number of unique customers."
   ]
  },
  {
   "cell_type": "code",
   "execution_count": 286,
   "metadata": {},
   "outputs": [],
   "source": [
    "def get_total_revenue() -> float:\n",
    "    \"\"\"Fetches the total revenue from the Payment table.\"\"\"\n",
    "    query = \"SELECT SUM(Amount) AS total_revenue FROM Payment;\"\n",
    "    return run_query(query)[\"total_revenue\"][0] or 0\n",
    "\n",
    "def get_total_bookings() -> int:\n",
    "    \"\"\"Fetches the total number of bookings.\"\"\"\n",
    "    query = \"SELECT COUNT(*) AS total_bookings FROM Booking;\"\n",
    "    return run_query(query)[\"total_bookings\"][0] or 0\n",
    "\n",
    "def get_total_customers() -> int:\n",
    "    \"\"\"Fetches the total number of unique customers.\"\"\"\n",
    "    query = \"SELECT COUNT(DISTINCT UserID) AS total_customers FROM Booking;\"\n",
    "    return run_query(query)[\"total_customers\"][0] or 0\n",
    "\n",
    "\n",
    "# Fetch the key metrics\n",
    "total_revenue = get_total_revenue()\n",
    "total_bookings = get_total_bookings()\n",
    "total_customers = get_total_customers()\n"
   ]
  },
  {
   "cell_type": "markdown",
   "metadata": {},
   "source": [
    "#### - Upcoming 10 Events : Lists the next ten scheduled events."
   ]
  },
  {
   "cell_type": "code",
   "execution_count": 288,
   "metadata": {},
   "outputs": [
    {
     "data": {
      "text/html": [
       "<div>\n",
       "<style scoped>\n",
       "    .dataframe tbody tr th:only-of-type {\n",
       "        vertical-align: middle;\n",
       "    }\n",
       "\n",
       "    .dataframe tbody tr th {\n",
       "        vertical-align: top;\n",
       "    }\n",
       "\n",
       "    .dataframe thead th {\n",
       "        text-align: right;\n",
       "    }\n",
       "</style>\n",
       "<table border=\"1\" class=\"dataframe\">\n",
       "  <thead>\n",
       "    <tr style=\"text-align: right;\">\n",
       "      <th></th>\n",
       "      <th>EventName</th>\n",
       "      <th>VenueName</th>\n",
       "      <th>Date</th>\n",
       "    </tr>\n",
       "  </thead>\n",
       "  <tbody>\n",
       "    <tr>\n",
       "      <th>0</th>\n",
       "      <td>Chess Tournament</td>\n",
       "      <td>Rooftop Arena</td>\n",
       "      <td>2025-03-21</td>\n",
       "    </tr>\n",
       "    <tr>\n",
       "      <th>1</th>\n",
       "      <td>Chess Tournament</td>\n",
       "      <td>Grand Theater</td>\n",
       "      <td>2025-03-28</td>\n",
       "    </tr>\n",
       "    <tr>\n",
       "      <th>2</th>\n",
       "      <td>Chess Tournament</td>\n",
       "      <td>Conference Hall A</td>\n",
       "      <td>2025-04-04</td>\n",
       "    </tr>\n",
       "    <tr>\n",
       "      <th>3</th>\n",
       "      <td>Startup Pitch Night</td>\n",
       "      <td>Cultural Center</td>\n",
       "      <td>2025-04-15</td>\n",
       "    </tr>\n",
       "    <tr>\n",
       "      <th>4</th>\n",
       "      <td>Comedy Night</td>\n",
       "      <td>Banquet Hall</td>\n",
       "      <td>2025-05-10</td>\n",
       "    </tr>\n",
       "  </tbody>\n",
       "</table>\n",
       "</div>"
      ],
      "text/plain": [
       "             EventName          VenueName        Date\n",
       "0     Chess Tournament      Rooftop Arena  2025-03-21\n",
       "1     Chess Tournament      Grand Theater  2025-03-28\n",
       "2     Chess Tournament  Conference Hall A  2025-04-04\n",
       "3  Startup Pitch Night    Cultural Center  2025-04-15\n",
       "4         Comedy Night       Banquet Hall  2025-05-10"
      ]
     },
     "execution_count": 288,
     "metadata": {},
     "output_type": "execute_result"
    }
   ],
   "source": [
    "### Upcoming 10 Events\n",
    "import datapane as dp\n",
    "\n",
    "upcoming_event = \"\"\"\n",
    "SELECT \n",
    "    e.EventName, \n",
    "    v.VenueName, \n",
    "    e.Date \n",
    "FROM Event e\n",
    "JOIN EventVenue ev ON e.EventID = ev.EventID\n",
    "JOIN Venue v ON ev.VenueID = v.VenueID\n",
    "WHERE e.Date >= CURDATE()\n",
    "ORDER BY e.Date ASC\n",
    "LIMIT 5\n",
    "\n",
    "\"\"\"\n",
    "\n",
    "upcoming_event_df = run_query(upcoming_event)\n",
    "\n",
    "upcoming_event_df"
   ]
  },
  {
   "cell_type": "markdown",
   "metadata": {
    "id": "0q6rTSHjgeca"
   },
   "source": []
  },
  {
   "cell_type": "markdown",
   "metadata": {},
   "source": [
    "#### 2. Revenue Analytics\n"
   ]
  },
  {
   "cell_type": "markdown",
   "metadata": {},
   "source": [
    "#### - Revenue by Event : \n",
    "A bar chart illustrating each event's total revenue, sorted from highest to lowest."
   ]
  },
  {
   "cell_type": "code",
   "execution_count": 292,
   "metadata": {},
   "outputs": [
    {
     "data": {
      "application/vnd.plotly.v1+json": {
       "config": {
        "plotlyServerURL": "https://plot.ly"
       },
       "data": [
        {
         "alignmentgroup": "True",
         "hovertemplate": "Total Revenue=%{text}<br>Event Name=%{y}<extra></extra>",
         "legendgroup": "",
         "marker": {
          "color": "#636efa",
          "pattern": {
           "shape": ""
          }
         },
         "name": "",
         "offsetgroup": "",
         "orientation": "h",
         "showlegend": false,
         "text": [
          16902.5,
          16099,
          8728.2,
          6260,
          4236.1,
          3772.5,
          2957.8,
          2855,
          1552.5,
          1501.75
         ],
         "textposition": "outside",
         "texttemplate": "%{text:.2f}",
         "type": "bar",
         "x": [
          16902.5,
          16099,
          8728.2,
          6260,
          4236.1,
          3772.5,
          2957.8,
          2855,
          1552.5,
          1501.75
         ],
         "xaxis": "x",
         "y": [
          "Business Summit",
          "Car Expo",
          "Comedy Night",
          "Charity Gala",
          "Chess Tournament",
          "Football Match",
          "Art Exhibition",
          "Rock Concert",
          "Jazz Festival",
          "Opera Night"
         ],
         "yaxis": "y"
        }
       ],
       "layout": {
        "autosize": true,
        "barmode": "relative",
        "legend": {
         "tracegroupgap": 0
        },
        "template": {
         "data": {
          "bar": [
           {
            "error_x": {
             "color": "#2a3f5f"
            },
            "error_y": {
             "color": "#2a3f5f"
            },
            "marker": {
             "line": {
              "color": "#E5ECF6",
              "width": 0.5
             },
             "pattern": {
              "fillmode": "overlay",
              "size": 10,
              "solidity": 0.2
             }
            },
            "type": "bar"
           }
          ],
          "barpolar": [
           {
            "marker": {
             "line": {
              "color": "#E5ECF6",
              "width": 0.5
             },
             "pattern": {
              "fillmode": "overlay",
              "size": 10,
              "solidity": 0.2
             }
            },
            "type": "barpolar"
           }
          ],
          "carpet": [
           {
            "aaxis": {
             "endlinecolor": "#2a3f5f",
             "gridcolor": "white",
             "linecolor": "white",
             "minorgridcolor": "white",
             "startlinecolor": "#2a3f5f"
            },
            "baxis": {
             "endlinecolor": "#2a3f5f",
             "gridcolor": "white",
             "linecolor": "white",
             "minorgridcolor": "white",
             "startlinecolor": "#2a3f5f"
            },
            "type": "carpet"
           }
          ],
          "choropleth": [
           {
            "colorbar": {
             "outlinewidth": 0,
             "ticks": ""
            },
            "type": "choropleth"
           }
          ],
          "contour": [
           {
            "colorbar": {
             "outlinewidth": 0,
             "ticks": ""
            },
            "colorscale": [
             [
              0,
              "#0d0887"
             ],
             [
              0.1111111111111111,
              "#46039f"
             ],
             [
              0.2222222222222222,
              "#7201a8"
             ],
             [
              0.3333333333333333,
              "#9c179e"
             ],
             [
              0.4444444444444444,
              "#bd3786"
             ],
             [
              0.5555555555555556,
              "#d8576b"
             ],
             [
              0.6666666666666666,
              "#ed7953"
             ],
             [
              0.7777777777777778,
              "#fb9f3a"
             ],
             [
              0.8888888888888888,
              "#fdca26"
             ],
             [
              1,
              "#f0f921"
             ]
            ],
            "type": "contour"
           }
          ],
          "contourcarpet": [
           {
            "colorbar": {
             "outlinewidth": 0,
             "ticks": ""
            },
            "type": "contourcarpet"
           }
          ],
          "heatmap": [
           {
            "colorbar": {
             "outlinewidth": 0,
             "ticks": ""
            },
            "colorscale": [
             [
              0,
              "#0d0887"
             ],
             [
              0.1111111111111111,
              "#46039f"
             ],
             [
              0.2222222222222222,
              "#7201a8"
             ],
             [
              0.3333333333333333,
              "#9c179e"
             ],
             [
              0.4444444444444444,
              "#bd3786"
             ],
             [
              0.5555555555555556,
              "#d8576b"
             ],
             [
              0.6666666666666666,
              "#ed7953"
             ],
             [
              0.7777777777777778,
              "#fb9f3a"
             ],
             [
              0.8888888888888888,
              "#fdca26"
             ],
             [
              1,
              "#f0f921"
             ]
            ],
            "type": "heatmap"
           }
          ],
          "heatmapgl": [
           {
            "colorbar": {
             "outlinewidth": 0,
             "ticks": ""
            },
            "colorscale": [
             [
              0,
              "#0d0887"
             ],
             [
              0.1111111111111111,
              "#46039f"
             ],
             [
              0.2222222222222222,
              "#7201a8"
             ],
             [
              0.3333333333333333,
              "#9c179e"
             ],
             [
              0.4444444444444444,
              "#bd3786"
             ],
             [
              0.5555555555555556,
              "#d8576b"
             ],
             [
              0.6666666666666666,
              "#ed7953"
             ],
             [
              0.7777777777777778,
              "#fb9f3a"
             ],
             [
              0.8888888888888888,
              "#fdca26"
             ],
             [
              1,
              "#f0f921"
             ]
            ],
            "type": "heatmapgl"
           }
          ],
          "histogram": [
           {
            "marker": {
             "pattern": {
              "fillmode": "overlay",
              "size": 10,
              "solidity": 0.2
             }
            },
            "type": "histogram"
           }
          ],
          "histogram2d": [
           {
            "colorbar": {
             "outlinewidth": 0,
             "ticks": ""
            },
            "colorscale": [
             [
              0,
              "#0d0887"
             ],
             [
              0.1111111111111111,
              "#46039f"
             ],
             [
              0.2222222222222222,
              "#7201a8"
             ],
             [
              0.3333333333333333,
              "#9c179e"
             ],
             [
              0.4444444444444444,
              "#bd3786"
             ],
             [
              0.5555555555555556,
              "#d8576b"
             ],
             [
              0.6666666666666666,
              "#ed7953"
             ],
             [
              0.7777777777777778,
              "#fb9f3a"
             ],
             [
              0.8888888888888888,
              "#fdca26"
             ],
             [
              1,
              "#f0f921"
             ]
            ],
            "type": "histogram2d"
           }
          ],
          "histogram2dcontour": [
           {
            "colorbar": {
             "outlinewidth": 0,
             "ticks": ""
            },
            "colorscale": [
             [
              0,
              "#0d0887"
             ],
             [
              0.1111111111111111,
              "#46039f"
             ],
             [
              0.2222222222222222,
              "#7201a8"
             ],
             [
              0.3333333333333333,
              "#9c179e"
             ],
             [
              0.4444444444444444,
              "#bd3786"
             ],
             [
              0.5555555555555556,
              "#d8576b"
             ],
             [
              0.6666666666666666,
              "#ed7953"
             ],
             [
              0.7777777777777778,
              "#fb9f3a"
             ],
             [
              0.8888888888888888,
              "#fdca26"
             ],
             [
              1,
              "#f0f921"
             ]
            ],
            "type": "histogram2dcontour"
           }
          ],
          "mesh3d": [
           {
            "colorbar": {
             "outlinewidth": 0,
             "ticks": ""
            },
            "type": "mesh3d"
           }
          ],
          "parcoords": [
           {
            "line": {
             "colorbar": {
              "outlinewidth": 0,
              "ticks": ""
             }
            },
            "type": "parcoords"
           }
          ],
          "pie": [
           {
            "automargin": true,
            "type": "pie"
           }
          ],
          "scatter": [
           {
            "fillpattern": {
             "fillmode": "overlay",
             "size": 10,
             "solidity": 0.2
            },
            "type": "scatter"
           }
          ],
          "scatter3d": [
           {
            "line": {
             "colorbar": {
              "outlinewidth": 0,
              "ticks": ""
             }
            },
            "marker": {
             "colorbar": {
              "outlinewidth": 0,
              "ticks": ""
             }
            },
            "type": "scatter3d"
           }
          ],
          "scattercarpet": [
           {
            "marker": {
             "colorbar": {
              "outlinewidth": 0,
              "ticks": ""
             }
            },
            "type": "scattercarpet"
           }
          ],
          "scattergeo": [
           {
            "marker": {
             "colorbar": {
              "outlinewidth": 0,
              "ticks": ""
             }
            },
            "type": "scattergeo"
           }
          ],
          "scattergl": [
           {
            "marker": {
             "colorbar": {
              "outlinewidth": 0,
              "ticks": ""
             }
            },
            "type": "scattergl"
           }
          ],
          "scattermapbox": [
           {
            "marker": {
             "colorbar": {
              "outlinewidth": 0,
              "ticks": ""
             }
            },
            "type": "scattermapbox"
           }
          ],
          "scatterpolar": [
           {
            "marker": {
             "colorbar": {
              "outlinewidth": 0,
              "ticks": ""
             }
            },
            "type": "scatterpolar"
           }
          ],
          "scatterpolargl": [
           {
            "marker": {
             "colorbar": {
              "outlinewidth": 0,
              "ticks": ""
             }
            },
            "type": "scatterpolargl"
           }
          ],
          "scatterternary": [
           {
            "marker": {
             "colorbar": {
              "outlinewidth": 0,
              "ticks": ""
             }
            },
            "type": "scatterternary"
           }
          ],
          "surface": [
           {
            "colorbar": {
             "outlinewidth": 0,
             "ticks": ""
            },
            "colorscale": [
             [
              0,
              "#0d0887"
             ],
             [
              0.1111111111111111,
              "#46039f"
             ],
             [
              0.2222222222222222,
              "#7201a8"
             ],
             [
              0.3333333333333333,
              "#9c179e"
             ],
             [
              0.4444444444444444,
              "#bd3786"
             ],
             [
              0.5555555555555556,
              "#d8576b"
             ],
             [
              0.6666666666666666,
              "#ed7953"
             ],
             [
              0.7777777777777778,
              "#fb9f3a"
             ],
             [
              0.8888888888888888,
              "#fdca26"
             ],
             [
              1,
              "#f0f921"
             ]
            ],
            "type": "surface"
           }
          ],
          "table": [
           {
            "cells": {
             "fill": {
              "color": "#EBF0F8"
             },
             "line": {
              "color": "white"
             }
            },
            "header": {
             "fill": {
              "color": "#C8D4E3"
             },
             "line": {
              "color": "white"
             }
            },
            "type": "table"
           }
          ]
         },
         "layout": {
          "annotationdefaults": {
           "arrowcolor": "#2a3f5f",
           "arrowhead": 0,
           "arrowwidth": 1
          },
          "autotypenumbers": "strict",
          "coloraxis": {
           "colorbar": {
            "outlinewidth": 0,
            "ticks": ""
           }
          },
          "colorscale": {
           "diverging": [
            [
             0,
             "#8e0152"
            ],
            [
             0.1,
             "#c51b7d"
            ],
            [
             0.2,
             "#de77ae"
            ],
            [
             0.3,
             "#f1b6da"
            ],
            [
             0.4,
             "#fde0ef"
            ],
            [
             0.5,
             "#f7f7f7"
            ],
            [
             0.6,
             "#e6f5d0"
            ],
            [
             0.7,
             "#b8e186"
            ],
            [
             0.8,
             "#7fbc41"
            ],
            [
             0.9,
             "#4d9221"
            ],
            [
             1,
             "#276419"
            ]
           ],
           "sequential": [
            [
             0,
             "#0d0887"
            ],
            [
             0.1111111111111111,
             "#46039f"
            ],
            [
             0.2222222222222222,
             "#7201a8"
            ],
            [
             0.3333333333333333,
             "#9c179e"
            ],
            [
             0.4444444444444444,
             "#bd3786"
            ],
            [
             0.5555555555555556,
             "#d8576b"
            ],
            [
             0.6666666666666666,
             "#ed7953"
            ],
            [
             0.7777777777777778,
             "#fb9f3a"
            ],
            [
             0.8888888888888888,
             "#fdca26"
            ],
            [
             1,
             "#f0f921"
            ]
           ],
           "sequentialminus": [
            [
             0,
             "#0d0887"
            ],
            [
             0.1111111111111111,
             "#46039f"
            ],
            [
             0.2222222222222222,
             "#7201a8"
            ],
            [
             0.3333333333333333,
             "#9c179e"
            ],
            [
             0.4444444444444444,
             "#bd3786"
            ],
            [
             0.5555555555555556,
             "#d8576b"
            ],
            [
             0.6666666666666666,
             "#ed7953"
            ],
            [
             0.7777777777777778,
             "#fb9f3a"
            ],
            [
             0.8888888888888888,
             "#fdca26"
            ],
            [
             1,
             "#f0f921"
            ]
           ]
          },
          "colorway": [
           "#636efa",
           "#EF553B",
           "#00cc96",
           "#ab63fa",
           "#FFA15A",
           "#19d3f3",
           "#FF6692",
           "#B6E880",
           "#FF97FF",
           "#FECB52"
          ],
          "font": {
           "color": "#2a3f5f"
          },
          "geo": {
           "bgcolor": "white",
           "lakecolor": "white",
           "landcolor": "#E5ECF6",
           "showlakes": true,
           "showland": true,
           "subunitcolor": "white"
          },
          "hoverlabel": {
           "align": "left"
          },
          "hovermode": "closest",
          "mapbox": {
           "style": "light"
          },
          "paper_bgcolor": "white",
          "plot_bgcolor": "#E5ECF6",
          "polar": {
           "angularaxis": {
            "gridcolor": "white",
            "linecolor": "white",
            "ticks": ""
           },
           "bgcolor": "#E5ECF6",
           "radialaxis": {
            "gridcolor": "white",
            "linecolor": "white",
            "ticks": ""
           }
          },
          "scene": {
           "xaxis": {
            "backgroundcolor": "#E5ECF6",
            "gridcolor": "white",
            "gridwidth": 2,
            "linecolor": "white",
            "showbackground": true,
            "ticks": "",
            "zerolinecolor": "white"
           },
           "yaxis": {
            "backgroundcolor": "#E5ECF6",
            "gridcolor": "white",
            "gridwidth": 2,
            "linecolor": "white",
            "showbackground": true,
            "ticks": "",
            "zerolinecolor": "white"
           },
           "zaxis": {
            "backgroundcolor": "#E5ECF6",
            "gridcolor": "white",
            "gridwidth": 2,
            "linecolor": "white",
            "showbackground": true,
            "ticks": "",
            "zerolinecolor": "white"
           }
          },
          "shapedefaults": {
           "line": {
            "color": "#2a3f5f"
           }
          },
          "ternary": {
           "aaxis": {
            "gridcolor": "white",
            "linecolor": "white",
            "ticks": ""
           },
           "baxis": {
            "gridcolor": "white",
            "linecolor": "white",
            "ticks": ""
           },
           "bgcolor": "#E5ECF6",
           "caxis": {
            "gridcolor": "white",
            "linecolor": "white",
            "ticks": ""
           }
          },
          "title": {
           "x": 0.05
          },
          "xaxis": {
           "automargin": true,
           "gridcolor": "white",
           "linecolor": "white",
           "ticks": "",
           "title": {
            "standoff": 15
           },
           "zerolinecolor": "white",
           "zerolinewidth": 2
          },
          "yaxis": {
           "automargin": true,
           "gridcolor": "white",
           "linecolor": "white",
           "ticks": "",
           "title": {
            "standoff": 15
           },
           "zerolinecolor": "white",
           "zerolinewidth": 2
          }
         }
        },
        "title": {
         "text": "Revenue by Event"
        },
        "xaxis": {
         "anchor": "y",
         "autorange": true,
         "domain": [
          0,
          1
         ],
         "range": [
          0,
          17792.105263157893
         ],
         "title": {
          "text": "Total Revenue"
         },
         "type": "linear"
        },
        "yaxis": {
         "anchor": "x",
         "autorange": true,
         "domain": [
          0,
          1
         ],
         "range": [
          -0.5,
          9.5
         ],
         "title": {
          "text": "Event Name"
         },
         "type": "category"
        }
       }
      },
      "image/png": "[encoded data removed]",
      "text/html": [
       "<div>                            <div id=\"b958a988-636c-4a7b-b6fc-089fa1dd90dc\" class=\"plotly-graph-div\" style=\"height:525px; width:100%;\"></div>            <script type=\"text/javascript\">                require([\"plotly\"], function(Plotly) {                    window.PLOTLYENV=window.PLOTLYENV || {};                                    if (document.getElementById(\"b958a988-636c-4a7b-b6fc-089fa1dd90dc\")) {                    Plotly.newPlot(                        \"b958a988-636c-4a7b-b6fc-089fa1dd90dc\",                        [{\"alignmentgroup\":\"True\",\"hovertemplate\":\"Total Revenue=%{text}\\u003cbr\\u003eEvent Name=%{y}\\u003cextra\\u003e\\u003c\\u002fextra\\u003e\",\"legendgroup\":\"\",\"marker\":{\"color\":\"#636efa\",\"pattern\":{\"shape\":\"\"}},\"name\":\"\",\"offsetgroup\":\"\",\"orientation\":\"h\",\"showlegend\":false,\"text\":[16902.5,16099.0,8728.2,6260.0,4236.1,3772.5,2957.8,2855.0,1552.5,1501.75],\"textposition\":\"outside\",\"x\":[16902.5,16099.0,8728.2,6260.0,4236.1,3772.5,2957.8,2855.0,1552.5,1501.75],\"xaxis\":\"x\",\"y\":[\"Business Summit\",\"Car Expo\",\"Comedy Night\",\"Charity Gala\",\"Chess Tournament\",\"Football Match\",\"Art Exhibition\",\"Rock Concert\",\"Jazz Festival\",\"Opera Night\"],\"yaxis\":\"y\",\"type\":\"bar\",\"texttemplate\":\"%{text:.2f}\"}],                        {\"template\":{\"data\":{\"histogram2dcontour\":[{\"type\":\"histogram2dcontour\",\"colorbar\":{\"outlinewidth\":0,\"ticks\":\"\"},\"colorscale\":[[0.0,\"#0d0887\"],[0.1111111111111111,\"#46039f\"],[0.2222222222222222,\"#7201a8\"],[0.3333333333333333,\"#9c179e\"],[0.4444444444444444,\"#bd3786\"],[0.5555555555555556,\"#d8576b\"],[0.6666666666666666,\"#ed7953\"],[0.7777777777777778,\"#fb9f3a\"],[0.8888888888888888,\"#fdca26\"],[1.0,\"#f0f921\"]]}],\"choropleth\":[{\"type\":\"choropleth\",\"colorbar\":{\"outlinewidth\":0,\"ticks\":\"\"}}],\"histogram2d\":[{\"type\":\"histogram2d\",\"colorbar\":{\"outlinewidth\":0,\"ticks\":\"\"},\"colorscale\":[[0.0,\"#0d0887\"],[0.1111111111111111,\"#46039f\"],[0.2222222222222222,\"#7201a8\"],[0.3333333333333333,\"#9c179e\"],[0.4444444444444444,\"#bd3786\"],[0.5555555555555556,\"#d8576b\"],[0.6666666666666666,\"#ed7953\"],[0.7777777777777778,\"#fb9f3a\"],[0.8888888888888888,\"#fdca26\"],[1.0,\"#f0f921\"]]}],\"heatmap\":[{\"type\":\"heatmap\",\"colorbar\":{\"outlinewidth\":0,\"ticks\":\"\"},\"colorscale\":[[0.0,\"#0d0887\"],[0.1111111111111111,\"#46039f\"],[0.2222222222222222,\"#7201a8\"],[0.3333333333333333,\"#9c179e\"],[0.4444444444444444,\"#bd3786\"],[0.5555555555555556,\"#d8576b\"],[0.6666666666666666,\"#ed7953\"],[0.7777777777777778,\"#fb9f3a\"],[0.8888888888888888,\"#fdca26\"],[1.0,\"#f0f921\"]]}],\"heatmapgl\":[{\"type\":\"heatmapgl\",\"colorbar\":{\"outlinewidth\":0,\"ticks\":\"\"},\"colorscale\":[[0.0,\"#0d0887\"],[0.1111111111111111,\"#46039f\"],[0.2222222222222222,\"#7201a8\"],[0.3333333333333333,\"#9c179e\"],[0.4444444444444444,\"#bd3786\"],[0.5555555555555556,\"#d8576b\"],[0.6666666666666666,\"#ed7953\"],[0.7777777777777778,\"#fb9f3a\"],[0.8888888888888888,\"#fdca26\"],[1.0,\"#f0f921\"]]}],\"contourcarpet\":[{\"type\":\"contourcarpet\",\"colorbar\":{\"outlinewidth\":0,\"ticks\":\"\"}}],\"contour\":[{\"type\":\"contour\",\"colorbar\":{\"outlinewidth\":0,\"ticks\":\"\"},\"colorscale\":[[0.0,\"#0d0887\"],[0.1111111111111111,\"#46039f\"],[0.2222222222222222,\"#7201a8\"],[0.3333333333333333,\"#9c179e\"],[0.4444444444444444,\"#bd3786\"],[0.5555555555555556,\"#d8576b\"],[0.6666666666666666,\"#ed7953\"],[0.7777777777777778,\"#fb9f3a\"],[0.8888888888888888,\"#fdca26\"],[1.0,\"#f0f921\"]]}],\"surface\":[{\"type\":\"surface\",\"colorbar\":{\"outlinewidth\":0,\"ticks\":\"\"},\"colorscale\":[[0.0,\"#0d0887\"],[0.1111111111111111,\"#46039f\"],[0.2222222222222222,\"#7201a8\"],[0.3333333333333333,\"#9c179e\"],[0.4444444444444444,\"#bd3786\"],[0.5555555555555556,\"#d8576b\"],[0.6666666666666666,\"#ed7953\"],[0.7777777777777778,\"#fb9f3a\"],[0.8888888888888888,\"#fdca26\"],[1.0,\"#f0f921\"]]}],\"mesh3d\":[{\"type\":\"mesh3d\",\"colorbar\":{\"outlinewidth\":0,\"ticks\":\"\"}}],\"scatter\":[{\"fillpattern\":{\"fillmode\":\"overlay\",\"size\":10,\"solidity\":0.2},\"type\":\"scatter\"}],\"parcoords\":[{\"type\":\"parcoords\",\"line\":{\"colorbar\":{\"outlinewidth\":0,\"ticks\":\"\"}}}],\"scatterpolargl\":[{\"type\":\"scatterpolargl\",\"marker\":{\"colorbar\":{\"outlinewidth\":0,\"ticks\":\"\"}}}],\"bar\":[{\"error_x\":{\"color\":\"#2a3f5f\"},\"error_y\":{\"color\":\"#2a3f5f\"},\"marker\":{\"line\":{\"color\":\"#E5ECF6\",\"width\":0.5},\"pattern\":{\"fillmode\":\"overlay\",\"size\":10,\"solidity\":0.2}},\"type\":\"bar\"}],\"scattergeo\":[{\"type\":\"scattergeo\",\"marker\":{\"colorbar\":{\"outlinewidth\":0,\"ticks\":\"\"}}}],\"scatterpolar\":[{\"type\":\"scatterpolar\",\"marker\":{\"colorbar\":{\"outlinewidth\":0,\"ticks\":\"\"}}}],\"histogram\":[{\"marker\":{\"pattern\":{\"fillmode\":\"overlay\",\"size\":10,\"solidity\":0.2}},\"type\":\"histogram\"}],\"scattergl\":[{\"type\":\"scattergl\",\"marker\":{\"colorbar\":{\"outlinewidth\":0,\"ticks\":\"\"}}}],\"scatter3d\":[{\"type\":\"scatter3d\",\"line\":{\"colorbar\":{\"outlinewidth\":0,\"ticks\":\"\"}},\"marker\":{\"colorbar\":{\"outlinewidth\":0,\"ticks\":\"\"}}}],\"scattermapbox\":[{\"type\":\"scattermapbox\",\"marker\":{\"colorbar\":{\"outlinewidth\":0,\"ticks\":\"\"}}}],\"scatterternary\":[{\"type\":\"scatterternary\",\"marker\":{\"colorbar\":{\"outlinewidth\":0,\"ticks\":\"\"}}}],\"scattercarpet\":[{\"type\":\"scattercarpet\",\"marker\":{\"colorbar\":{\"outlinewidth\":0,\"ticks\":\"\"}}}],\"carpet\":[{\"aaxis\":{\"endlinecolor\":\"#2a3f5f\",\"gridcolor\":\"white\",\"linecolor\":\"white\",\"minorgridcolor\":\"white\",\"startlinecolor\":\"#2a3f5f\"},\"baxis\":{\"endlinecolor\":\"#2a3f5f\",\"gridcolor\":\"white\",\"linecolor\":\"white\",\"minorgridcolor\":\"white\",\"startlinecolor\":\"#2a3f5f\"},\"type\":\"carpet\"}],\"table\":[{\"cells\":{\"fill\":{\"color\":\"#EBF0F8\"},\"line\":{\"color\":\"white\"}},\"header\":{\"fill\":{\"color\":\"#C8D4E3\"},\"line\":{\"color\":\"white\"}},\"type\":\"table\"}],\"barpolar\":[{\"marker\":{\"line\":{\"color\":\"#E5ECF6\",\"width\":0.5},\"pattern\":{\"fillmode\":\"overlay\",\"size\":10,\"solidity\":0.2}},\"type\":\"barpolar\"}],\"pie\":[{\"automargin\":true,\"type\":\"pie\"}]},\"layout\":{\"autotypenumbers\":\"strict\",\"colorway\":[\"#636efa\",\"#EF553B\",\"#00cc96\",\"#ab63fa\",\"#FFA15A\",\"#19d3f3\",\"#FF6692\",\"#B6E880\",\"#FF97FF\",\"#FECB52\"],\"font\":{\"color\":\"#2a3f5f\"},\"hovermode\":\"closest\",\"hoverlabel\":{\"align\":\"left\"},\"paper_bgcolor\":\"white\",\"plot_bgcolor\":\"#E5ECF6\",\"polar\":{\"bgcolor\":\"#E5ECF6\",\"angularaxis\":{\"gridcolor\":\"white\",\"linecolor\":\"white\",\"ticks\":\"\"},\"radialaxis\":{\"gridcolor\":\"white\",\"linecolor\":\"white\",\"ticks\":\"\"}},\"ternary\":{\"bgcolor\":\"#E5ECF6\",\"aaxis\":{\"gridcolor\":\"white\",\"linecolor\":\"white\",\"ticks\":\"\"},\"baxis\":{\"gridcolor\":\"white\",\"linecolor\":\"white\",\"ticks\":\"\"},\"caxis\":{\"gridcolor\":\"white\",\"linecolor\":\"white\",\"ticks\":\"\"}},\"coloraxis\":{\"colorbar\":{\"outlinewidth\":0,\"ticks\":\"\"}},\"colorscale\":{\"sequential\":[[0.0,\"#0d0887\"],[0.1111111111111111,\"#46039f\"],[0.2222222222222222,\"#7201a8\"],[0.3333333333333333,\"#9c179e\"],[0.4444444444444444,\"#bd3786\"],[0.5555555555555556,\"#d8576b\"],[0.6666666666666666,\"#ed7953\"],[0.7777777777777778,\"#fb9f3a\"],[0.8888888888888888,\"#fdca26\"],[1.0,\"#f0f921\"]],\"sequentialminus\":[[0.0,\"#0d0887\"],[0.1111111111111111,\"#46039f\"],[0.2222222222222222,\"#7201a8\"],[0.3333333333333333,\"#9c179e\"],[0.4444444444444444,\"#bd3786\"],[0.5555555555555556,\"#d8576b\"],[0.6666666666666666,\"#ed7953\"],[0.7777777777777778,\"#fb9f3a\"],[0.8888888888888888,\"#fdca26\"],[1.0,\"#f0f921\"]],\"diverging\":[[0,\"#8e0152\"],[0.1,\"#c51b7d\"],[0.2,\"#de77ae\"],[0.3,\"#f1b6da\"],[0.4,\"#fde0ef\"],[0.5,\"#f7f7f7\"],[0.6,\"#e6f5d0\"],[0.7,\"#b8e186\"],[0.8,\"#7fbc41\"],[0.9,\"#4d9221\"],[1,\"#276419\"]]},\"xaxis\":{\"gridcolor\":\"white\",\"linecolor\":\"white\",\"ticks\":\"\",\"title\":{\"standoff\":15},\"zerolinecolor\":\"white\",\"automargin\":true,\"zerolinewidth\":2},\"yaxis\":{\"gridcolor\":\"white\",\"linecolor\":\"white\",\"ticks\":\"\",\"title\":{\"standoff\":15},\"zerolinecolor\":\"white\",\"automargin\":true,\"zerolinewidth\":2},\"scene\":{\"xaxis\":{\"backgroundcolor\":\"#E5ECF6\",\"gridcolor\":\"white\",\"linecolor\":\"white\",\"showbackground\":true,\"ticks\":\"\",\"zerolinecolor\":\"white\",\"gridwidth\":2},\"yaxis\":{\"backgroundcolor\":\"#E5ECF6\",\"gridcolor\":\"white\",\"linecolor\":\"white\",\"showbackground\":true,\"ticks\":\"\",\"zerolinecolor\":\"white\",\"gridwidth\":2},\"zaxis\":{\"backgroundcolor\":\"#E5ECF6\",\"gridcolor\":\"white\",\"linecolor\":\"white\",\"showbackground\":true,\"ticks\":\"\",\"zerolinecolor\":\"white\",\"gridwidth\":2}},\"shapedefaults\":{\"line\":{\"color\":\"#2a3f5f\"}},\"annotationdefaults\":{\"arrowcolor\":\"#2a3f5f\",\"arrowhead\":0,\"arrowwidth\":1},\"geo\":{\"bgcolor\":\"white\",\"landcolor\":\"#E5ECF6\",\"subunitcolor\":\"white\",\"showland\":true,\"showlakes\":true,\"lakecolor\":\"white\"},\"title\":{\"x\":0.05},\"mapbox\":{\"style\":\"light\"}}},\"xaxis\":{\"anchor\":\"y\",\"domain\":[0.0,1.0],\"title\":{\"text\":\"Total Revenue\"}},\"yaxis\":{\"anchor\":\"x\",\"domain\":[0.0,1.0],\"title\":{\"text\":\"Event Name\"}},\"legend\":{\"tracegroupgap\":0},\"title\":{\"text\":\"Revenue by Event\"},\"barmode\":\"relative\"},                        {\"responsive\": true}                    ).then(function(){\n",
       "                            \n",
       "var gd = document.getElementById('b958a988-636c-4a7b-b6fc-089fa1dd90dc');\n",
       "var x = new MutationObserver(function (mutations, observer) {{\n",
       "        var display = window.getComputedStyle(gd).display;\n",
       "        if (!display || display === 'none') {{\n",
       "            console.log([gd, 'removed!']);\n",
       "            Plotly.purge(gd);\n",
       "            observer.disconnect();\n",
       "        }}\n",
       "}});\n",
       "\n",
       "// Listen for the removal of the full notebook cells\n",
       "var notebookContainer = gd.closest('#notebook-container');\n",
       "if (notebookContainer) {{\n",
       "    x.observe(notebookContainer, {childList: true});\n",
       "}}\n",
       "\n",
       "// Listen for the clearing of the current output cell\n",
       "var outputEl = gd.closest('.output');\n",
       "if (outputEl) {{\n",
       "    x.observe(outputEl, {childList: true});\n",
       "}}\n",
       "\n",
       "                        })                };                });            </script>        </div>"
      ]
     },
     "metadata": {},
     "output_type": "display_data"
    }
   ],
   "source": [
    "\n",
    "# Calculate Revenue by Event to show which events generate the most income\n",
    "revenue_by_event = \"\"\"\n",
    "SELECT \n",
    "    E.EventName,\n",
    "    SUM(P.Amount) AS TotalRevenue\n",
    "FROM Payment P\n",
    "JOIN Booking B ON P.BookingID = B.BookingID\n",
    "JOIN Event E ON B.EventID = E.EventID\n",
    "GROUP BY E.EventName\n",
    "ORDER BY TotalRevenue DESC\n",
    "LIMIT 10;\n",
    "\n",
    "\"\"\"\n",
    "\n",
    "revenue_by_event_df = run_query(revenue_by_event)\n",
    "\n",
    "# Define dataframe\n",
    "revenue_by_event_df.columns = [\"Event Name\", \"Total Revenue\"]\n",
    "\n",
    "# Create the bar chart \n",
    "revenue_by_event_plot = px.bar(\n",
    "    revenue_by_event_df, \n",
    "    x=\"Total Revenue\",\n",
    "    y=\"Event Name\",\n",
    "    orientation=\"h\",\n",
    "    text=\"Total Revenue\", \n",
    "    title=\"Revenue by Event\",\n",
    ")\n",
    "\n",
    "# Update text format\n",
    "revenue_by_event_plot.update_traces(texttemplate=\"%{text:.2f}\", textposition=\"outside\")\n",
    "\n",
    "# Show the plot\n",
    "revenue_by_event_plot.show()"
   ]
  },
  {
   "cell_type": "markdown",
   "metadata": {},
   "source": [
    "#### - Monthly Revenue Growth : \n",
    "revenue trends over time"
   ]
  },
  {
   "cell_type": "code",
   "execution_count": 294,
   "metadata": {},
   "outputs": [
    {
     "data": {
      "application/vnd.plotly.v1+json": {
       "config": {
        "plotlyServerURL": "https://plot.ly"
       },
       "data": [
        {
         "hovertemplate": "Month=%{x}<br>Total Revenue=%{text}<extra></extra>",
         "legendgroup": "",
         "line": {
          "color": "#636efa",
          "dash": "solid"
         },
         "marker": {
          "symbol": "circle"
         },
         "mode": "lines+markers+text",
         "name": "",
         "orientation": "v",
         "showlegend": false,
         "text": [
          218.5,
          3052.1,
          2136,
          9365.1,
          10995.85,
          7447,
          9239.8,
          2913.5,
          5959.5,
          5417.5,
          14056,
          157.5
         ],
         "textposition": "top center",
         "texttemplate": "%{text:.2f}",
         "type": "scatter",
         "x": [
          "2025-02-01T00:00:00",
          "2025-03-01T00:00:00",
          "2025-04-01T00:00:00",
          "2025-05-01T00:00:00",
          "2025-06-01T00:00:00",
          "2025-07-01T00:00:00",
          "2025-08-01T00:00:00",
          "2025-09-01T00:00:00",
          "2025-10-01T00:00:00",
          "2025-11-01T00:00:00",
          "2025-12-01T00:00:00",
          "2026-01-01T00:00:00"
         ],
         "xaxis": "x",
         "y": [
          218.5,
          3052.1,
          2136,
          9365.1,
          10995.85,
          7447,
          9239.8,
          2913.5,
          5959.5,
          5417.5,
          14056,
          157.5
         ],
         "yaxis": "y"
        }
       ],
       "layout": {
        "autosize": true,
        "legend": {
         "tracegroupgap": 0
        },
        "template": {
         "data": {
          "bar": [
           {
            "error_x": {
             "color": "#2a3f5f"
            },
            "error_y": {
             "color": "#2a3f5f"
            },
            "marker": {
             "line": {
              "color": "#E5ECF6",
              "width": 0.5
             },
             "pattern": {
              "fillmode": "overlay",
              "size": 10,
              "solidity": 0.2
             }
            },
            "type": "bar"
           }
          ],
          "barpolar": [
           {
            "marker": {
             "line": {
              "color": "#E5ECF6",
              "width": 0.5
             },
             "pattern": {
              "fillmode": "overlay",
              "size": 10,
              "solidity": 0.2
             }
            },
            "type": "barpolar"
           }
          ],
          "carpet": [
           {
            "aaxis": {
             "endlinecolor": "#2a3f5f",
             "gridcolor": "white",
             "linecolor": "white",
             "minorgridcolor": "white",
             "startlinecolor": "#2a3f5f"
            },
            "baxis": {
             "endlinecolor": "#2a3f5f",
             "gridcolor": "white",
             "linecolor": "white",
             "minorgridcolor": "white",
             "startlinecolor": "#2a3f5f"
            },
            "type": "carpet"
           }
          ],
          "choropleth": [
           {
            "colorbar": {
             "outlinewidth": 0,
             "ticks": ""
            },
            "type": "choropleth"
           }
          ],
          "contour": [
           {
            "colorbar": {
             "outlinewidth": 0,
             "ticks": ""
            },
            "colorscale": [
             [
              0,
              "#0d0887"
             ],
             [
              0.1111111111111111,
              "#46039f"
             ],
             [
              0.2222222222222222,
              "#7201a8"
             ],
             [
              0.3333333333333333,
              "#9c179e"
             ],
             [
              0.4444444444444444,
              "#bd3786"
             ],
             [
              0.5555555555555556,
              "#d8576b"
             ],
             [
              0.6666666666666666,
              "#ed7953"
             ],
             [
              0.7777777777777778,
              "#fb9f3a"
             ],
             [
              0.8888888888888888,
              "#fdca26"
             ],
             [
              1,
              "#f0f921"
             ]
            ],
            "type": "contour"
           }
          ],
          "contourcarpet": [
           {
            "colorbar": {
             "outlinewidth": 0,
             "ticks": ""
            },
            "type": "contourcarpet"
           }
          ],
          "heatmap": [
           {
            "colorbar": {
             "outlinewidth": 0,
             "ticks": ""
            },
            "colorscale": [
             [
              0,
              "#0d0887"
             ],
             [
              0.1111111111111111,
              "#46039f"
             ],
             [
              0.2222222222222222,
              "#7201a8"
             ],
             [
              0.3333333333333333,
              "#9c179e"
             ],
             [
              0.4444444444444444,
              "#bd3786"
             ],
             [
              0.5555555555555556,
              "#d8576b"
             ],
             [
              0.6666666666666666,
              "#ed7953"
             ],
             [
              0.7777777777777778,
              "#fb9f3a"
             ],
             [
              0.8888888888888888,
              "#fdca26"
             ],
             [
              1,
              "#f0f921"
             ]
            ],
            "type": "heatmap"
           }
          ],
          "heatmapgl": [
           {
            "colorbar": {
             "outlinewidth": 0,
             "ticks": ""
            },
            "colorscale": [
             [
              0,
              "#0d0887"
             ],
             [
              0.1111111111111111,
              "#46039f"
             ],
             [
              0.2222222222222222,
              "#7201a8"
             ],
             [
              0.3333333333333333,
              "#9c179e"
             ],
             [
              0.4444444444444444,
              "#bd3786"
             ],
             [
              0.5555555555555556,
              "#d8576b"
             ],
             [
              0.6666666666666666,
              "#ed7953"
             ],
             [
              0.7777777777777778,
              "#fb9f3a"
             ],
             [
              0.8888888888888888,
              "#fdca26"
             ],
             [
              1,
              "#f0f921"
             ]
            ],
            "type": "heatmapgl"
           }
          ],
          "histogram": [
           {
            "marker": {
             "pattern": {
              "fillmode": "overlay",
              "size": 10,
              "solidity": 0.2
             }
            },
            "type": "histogram"
           }
          ],
          "histogram2d": [
           {
            "colorbar": {
             "outlinewidth": 0,
             "ticks": ""
            },
            "colorscale": [
             [
              0,
              "#0d0887"
             ],
             [
              0.1111111111111111,
              "#46039f"
             ],
             [
              0.2222222222222222,
              "#7201a8"
             ],
             [
              0.3333333333333333,
              "#9c179e"
             ],
             [
              0.4444444444444444,
              "#bd3786"
             ],
             [
              0.5555555555555556,
              "#d8576b"
             ],
             [
              0.6666666666666666,
              "#ed7953"
             ],
             [
              0.7777777777777778,
              "#fb9f3a"
             ],
             [
              0.8888888888888888,
              "#fdca26"
             ],
             [
              1,
              "#f0f921"
             ]
            ],
            "type": "histogram2d"
           }
          ],
          "histogram2dcontour": [
           {
            "colorbar": {
             "outlinewidth": 0,
             "ticks": ""
            },
            "colorscale": [
             [
              0,
              "#0d0887"
             ],
             [
              0.1111111111111111,
              "#46039f"
             ],
             [
              0.2222222222222222,
              "#7201a8"
             ],
             [
              0.3333333333333333,
              "#9c179e"
             ],
             [
              0.4444444444444444,
              "#bd3786"
             ],
             [
              0.5555555555555556,
              "#d8576b"
             ],
             [
              0.6666666666666666,
              "#ed7953"
             ],
             [
              0.7777777777777778,
              "#fb9f3a"
             ],
             [
              0.8888888888888888,
              "#fdca26"
             ],
             [
              1,
              "#f0f921"
             ]
            ],
            "type": "histogram2dcontour"
           }
          ],
          "mesh3d": [
           {
            "colorbar": {
             "outlinewidth": 0,
             "ticks": ""
            },
            "type": "mesh3d"
           }
          ],
          "parcoords": [
           {
            "line": {
             "colorbar": {
              "outlinewidth": 0,
              "ticks": ""
             }
            },
            "type": "parcoords"
           }
          ],
          "pie": [
           {
            "automargin": true,
            "type": "pie"
           }
          ],
          "scatter": [
           {
            "fillpattern": {
             "fillmode": "overlay",
             "size": 10,
             "solidity": 0.2
            },
            "type": "scatter"
           }
          ],
          "scatter3d": [
           {
            "line": {
             "colorbar": {
              "outlinewidth": 0,
              "ticks": ""
             }
            },
            "marker": {
             "colorbar": {
              "outlinewidth": 0,
              "ticks": ""
             }
            },
            "type": "scatter3d"
           }
          ],
          "scattercarpet": [
           {
            "marker": {
             "colorbar": {
              "outlinewidth": 0,
              "ticks": ""
             }
            },
            "type": "scattercarpet"
           }
          ],
          "scattergeo": [
           {
            "marker": {
             "colorbar": {
              "outlinewidth": 0,
              "ticks": ""
             }
            },
            "type": "scattergeo"
           }
          ],
          "scattergl": [
           {
            "marker": {
             "colorbar": {
              "outlinewidth": 0,
              "ticks": ""
             }
            },
            "type": "scattergl"
           }
          ],
          "scattermapbox": [
           {
            "marker": {
             "colorbar": {
              "outlinewidth": 0,
              "ticks": ""
             }
            },
            "type": "scattermapbox"
           }
          ],
          "scatterpolar": [
           {
            "marker": {
             "colorbar": {
              "outlinewidth": 0,
              "ticks": ""
             }
            },
            "type": "scatterpolar"
           }
          ],
          "scatterpolargl": [
           {
            "marker": {
             "colorbar": {
              "outlinewidth": 0,
              "ticks": ""
             }
            },
            "type": "scatterpolargl"
           }
          ],
          "scatterternary": [
           {
            "marker": {
             "colorbar": {
              "outlinewidth": 0,
              "ticks": ""
             }
            },
            "type": "scatterternary"
           }
          ],
          "surface": [
           {
            "colorbar": {
             "outlinewidth": 0,
             "ticks": ""
            },
            "colorscale": [
             [
              0,
              "#0d0887"
             ],
             [
              0.1111111111111111,
              "#46039f"
             ],
             [
              0.2222222222222222,
              "#7201a8"
             ],
             [
              0.3333333333333333,
              "#9c179e"
             ],
             [
              0.4444444444444444,
              "#bd3786"
             ],
             [
              0.5555555555555556,
              "#d8576b"
             ],
             [
              0.6666666666666666,
              "#ed7953"
             ],
             [
              0.7777777777777778,
              "#fb9f3a"
             ],
             [
              0.8888888888888888,
              "#fdca26"
             ],
             [
              1,
              "#f0f921"
             ]
            ],
            "type": "surface"
           }
          ],
          "table": [
           {
            "cells": {
             "fill": {
              "color": "#EBF0F8"
             },
             "line": {
              "color": "white"
             }
            },
            "header": {
             "fill": {
              "color": "#C8D4E3"
             },
             "line": {
              "color": "white"
             }
            },
            "type": "table"
           }
          ]
         },
         "layout": {
          "annotationdefaults": {
           "arrowcolor": "#2a3f5f",
           "arrowhead": 0,
           "arrowwidth": 1
          },
          "autotypenumbers": "strict",
          "coloraxis": {
           "colorbar": {
            "outlinewidth": 0,
            "ticks": ""
           }
          },
          "colorscale": {
           "diverging": [
            [
             0,
             "#8e0152"
            ],
            [
             0.1,
             "#c51b7d"
            ],
            [
             0.2,
             "#de77ae"
            ],
            [
             0.3,
             "#f1b6da"
            ],
            [
             0.4,
             "#fde0ef"
            ],
            [
             0.5,
             "#f7f7f7"
            ],
            [
             0.6,
             "#e6f5d0"
            ],
            [
             0.7,
             "#b8e186"
            ],
            [
             0.8,
             "#7fbc41"
            ],
            [
             0.9,
             "#4d9221"
            ],
            [
             1,
             "#276419"
            ]
           ],
           "sequential": [
            [
             0,
             "#0d0887"
            ],
            [
             0.1111111111111111,
             "#46039f"
            ],
            [
             0.2222222222222222,
             "#7201a8"
            ],
            [
             0.3333333333333333,
             "#9c179e"
            ],
            [
             0.4444444444444444,
             "#bd3786"
            ],
            [
             0.5555555555555556,
             "#d8576b"
            ],
            [
             0.6666666666666666,
             "#ed7953"
            ],
            [
             0.7777777777777778,
             "#fb9f3a"
            ],
            [
             0.8888888888888888,
             "#fdca26"
            ],
            [
             1,
             "#f0f921"
            ]
           ],
           "sequentialminus": [
            [
             0,
             "#0d0887"
            ],
            [
             0.1111111111111111,
             "#46039f"
            ],
            [
             0.2222222222222222,
             "#7201a8"
            ],
            [
             0.3333333333333333,
             "#9c179e"
            ],
            [
             0.4444444444444444,
             "#bd3786"
            ],
            [
             0.5555555555555556,
             "#d8576b"
            ],
            [
             0.6666666666666666,
             "#ed7953"
            ],
            [
             0.7777777777777778,
             "#fb9f3a"
            ],
            [
             0.8888888888888888,
             "#fdca26"
            ],
            [
             1,
             "#f0f921"
            ]
           ]
          },
          "colorway": [
           "#636efa",
           "#EF553B",
           "#00cc96",
           "#ab63fa",
           "#FFA15A",
           "#19d3f3",
           "#FF6692",
           "#B6E880",
           "#FF97FF",
           "#FECB52"
          ],
          "font": {
           "color": "#2a3f5f"
          },
          "geo": {
           "bgcolor": "white",
           "lakecolor": "white",
           "landcolor": "#E5ECF6",
           "showlakes": true,
           "showland": true,
           "subunitcolor": "white"
          },
          "hoverlabel": {
           "align": "left"
          },
          "hovermode": "closest",
          "mapbox": {
           "style": "light"
          },
          "paper_bgcolor": "white",
          "plot_bgcolor": "#E5ECF6",
          "polar": {
           "angularaxis": {
            "gridcolor": "white",
            "linecolor": "white",
            "ticks": ""
           },
           "bgcolor": "#E5ECF6",
           "radialaxis": {
            "gridcolor": "white",
            "linecolor": "white",
            "ticks": ""
           }
          },
          "scene": {
           "xaxis": {
            "backgroundcolor": "#E5ECF6",
            "gridcolor": "white",
            "gridwidth": 2,
            "linecolor": "white",
            "showbackground": true,
            "ticks": "",
            "zerolinecolor": "white"
           },
           "yaxis": {
            "backgroundcolor": "#E5ECF6",
            "gridcolor": "white",
            "gridwidth": 2,
            "linecolor": "white",
            "showbackground": true,
            "ticks": "",
            "zerolinecolor": "white"
           },
           "zaxis": {
            "backgroundcolor": "#E5ECF6",
            "gridcolor": "white",
            "gridwidth": 2,
            "linecolor": "white",
            "showbackground": true,
            "ticks": "",
            "zerolinecolor": "white"
           }
          },
          "shapedefaults": {
           "line": {
            "color": "#2a3f5f"
           }
          },
          "ternary": {
           "aaxis": {
            "gridcolor": "white",
            "linecolor": "white",
            "ticks": ""
           },
           "baxis": {
            "gridcolor": "white",
            "linecolor": "white",
            "ticks": ""
           },
           "bgcolor": "#E5ECF6",
           "caxis": {
            "gridcolor": "white",
            "linecolor": "white",
            "ticks": ""
           }
          },
          "title": {
           "x": 0.05
          },
          "xaxis": {
           "automargin": true,
           "gridcolor": "white",
           "linecolor": "white",
           "ticks": "",
           "title": {
            "standoff": 15
           },
           "zerolinecolor": "white",
           "zerolinewidth": 2
          },
          "yaxis": {
           "automargin": true,
           "gridcolor": "white",
           "linecolor": "white",
           "ticks": "",
           "title": {
            "standoff": 15
           },
           "zerolinecolor": "white",
           "zerolinewidth": 2
          }
         }
        },
        "title": {
         "text": "Monthly Revenue Growth"
        },
        "xaxis": {
         "anchor": "y",
         "autorange": true,
         "domain": [
          0,
          1
         ],
         "range": [
          "2025-01-11 17:35:57.8753",
          "2026-01-21 06:24:02.1247"
         ],
         "title": {
          "text": "Month"
         },
         "type": "date"
        },
        "yaxis": {
         "anchor": "x",
         "autorange": true,
         "domain": [
          0,
          1
         ],
         "range": [
          -989.4635922330096,
          15202.963592233009
         ],
         "title": {
          "text": "Total Revenue"
         },
         "type": "linear"
        }
       }
      },
      "image/png": "[encoded data removed]",
      "text/html": [
       "<div>                            <div id=\"3ec17eec-12f2-48aa-b2a8-8df7f4904ab0\" class=\"plotly-graph-div\" style=\"height:525px; width:100%;\"></div>            <script type=\"text/javascript\">                require([\"plotly\"], function(Plotly) {                    window.PLOTLYENV=window.PLOTLYENV || {};                                    if (document.getElementById(\"3ec17eec-12f2-48aa-b2a8-8df7f4904ab0\")) {                    Plotly.newPlot(                        \"3ec17eec-12f2-48aa-b2a8-8df7f4904ab0\",                        [{\"hovertemplate\":\"Month=%{x}\\u003cbr\\u003eTotal Revenue=%{text}\\u003cextra\\u003e\\u003c\\u002fextra\\u003e\",\"legendgroup\":\"\",\"line\":{\"color\":\"#636efa\",\"dash\":\"solid\"},\"marker\":{\"symbol\":\"circle\"},\"mode\":\"lines+markers+text\",\"name\":\"\",\"orientation\":\"v\",\"showlegend\":false,\"text\":[218.5,3052.1,2136.0,9365.1,10995.85,7447.0,9239.8,2913.5,5959.5,5417.5,14056.0,157.5],\"x\":[\"2025-02-01T00:00:00\",\"2025-03-01T00:00:00\",\"2025-04-01T00:00:00\",\"2025-05-01T00:00:00\",\"2025-06-01T00:00:00\",\"2025-07-01T00:00:00\",\"2025-08-01T00:00:00\",\"2025-09-01T00:00:00\",\"2025-10-01T00:00:00\",\"2025-11-01T00:00:00\",\"2025-12-01T00:00:00\",\"2026-01-01T00:00:00\"],\"xaxis\":\"x\",\"y\":[218.5,3052.1,2136.0,9365.1,10995.85,7447.0,9239.8,2913.5,5959.5,5417.5,14056.0,157.5],\"yaxis\":\"y\",\"type\":\"scatter\",\"textposition\":\"top center\",\"texttemplate\":\"%{text:.2f}\"}],                        {\"template\":{\"data\":{\"histogram2dcontour\":[{\"type\":\"histogram2dcontour\",\"colorbar\":{\"outlinewidth\":0,\"ticks\":\"\"},\"colorscale\":[[0.0,\"#0d0887\"],[0.1111111111111111,\"#46039f\"],[0.2222222222222222,\"#7201a8\"],[0.3333333333333333,\"#9c179e\"],[0.4444444444444444,\"#bd3786\"],[0.5555555555555556,\"#d8576b\"],[0.6666666666666666,\"#ed7953\"],[0.7777777777777778,\"#fb9f3a\"],[0.8888888888888888,\"#fdca26\"],[1.0,\"#f0f921\"]]}],\"choropleth\":[{\"type\":\"choropleth\",\"colorbar\":{\"outlinewidth\":0,\"ticks\":\"\"}}],\"histogram2d\":[{\"type\":\"histogram2d\",\"colorbar\":{\"outlinewidth\":0,\"ticks\":\"\"},\"colorscale\":[[0.0,\"#0d0887\"],[0.1111111111111111,\"#46039f\"],[0.2222222222222222,\"#7201a8\"],[0.3333333333333333,\"#9c179e\"],[0.4444444444444444,\"#bd3786\"],[0.5555555555555556,\"#d8576b\"],[0.6666666666666666,\"#ed7953\"],[0.7777777777777778,\"#fb9f3a\"],[0.8888888888888888,\"#fdca26\"],[1.0,\"#f0f921\"]]}],\"heatmap\":[{\"type\":\"heatmap\",\"colorbar\":{\"outlinewidth\":0,\"ticks\":\"\"},\"colorscale\":[[0.0,\"#0d0887\"],[0.1111111111111111,\"#46039f\"],[0.2222222222222222,\"#7201a8\"],[0.3333333333333333,\"#9c179e\"],[0.4444444444444444,\"#bd3786\"],[0.5555555555555556,\"#d8576b\"],[0.6666666666666666,\"#ed7953\"],[0.7777777777777778,\"#fb9f3a\"],[0.8888888888888888,\"#fdca26\"],[1.0,\"#f0f921\"]]}],\"heatmapgl\":[{\"type\":\"heatmapgl\",\"colorbar\":{\"outlinewidth\":0,\"ticks\":\"\"},\"colorscale\":[[0.0,\"#0d0887\"],[0.1111111111111111,\"#46039f\"],[0.2222222222222222,\"#7201a8\"],[0.3333333333333333,\"#9c179e\"],[0.4444444444444444,\"#bd3786\"],[0.5555555555555556,\"#d8576b\"],[0.6666666666666666,\"#ed7953\"],[0.7777777777777778,\"#fb9f3a\"],[0.8888888888888888,\"#fdca26\"],[1.0,\"#f0f921\"]]}],\"contourcarpet\":[{\"type\":\"contourcarpet\",\"colorbar\":{\"outlinewidth\":0,\"ticks\":\"\"}}],\"contour\":[{\"type\":\"contour\",\"colorbar\":{\"outlinewidth\":0,\"ticks\":\"\"},\"colorscale\":[[0.0,\"#0d0887\"],[0.1111111111111111,\"#46039f\"],[0.2222222222222222,\"#7201a8\"],[0.3333333333333333,\"#9c179e\"],[0.4444444444444444,\"#bd3786\"],[0.5555555555555556,\"#d8576b\"],[0.6666666666666666,\"#ed7953\"],[0.7777777777777778,\"#fb9f3a\"],[0.8888888888888888,\"#fdca26\"],[1.0,\"#f0f921\"]]}],\"surface\":[{\"type\":\"surface\",\"colorbar\":{\"outlinewidth\":0,\"ticks\":\"\"},\"colorscale\":[[0.0,\"#0d0887\"],[0.1111111111111111,\"#46039f\"],[0.2222222222222222,\"#7201a8\"],[0.3333333333333333,\"#9c179e\"],[0.4444444444444444,\"#bd3786\"],[0.5555555555555556,\"#d8576b\"],[0.6666666666666666,\"#ed7953\"],[0.7777777777777778,\"#fb9f3a\"],[0.8888888888888888,\"#fdca26\"],[1.0,\"#f0f921\"]]}],\"mesh3d\":[{\"type\":\"mesh3d\",\"colorbar\":{\"outlinewidth\":0,\"ticks\":\"\"}}],\"scatter\":[{\"fillpattern\":{\"fillmode\":\"overlay\",\"size\":10,\"solidity\":0.2},\"type\":\"scatter\"}],\"parcoords\":[{\"type\":\"parcoords\",\"line\":{\"colorbar\":{\"outlinewidth\":0,\"ticks\":\"\"}}}],\"scatterpolargl\":[{\"type\":\"scatterpolargl\",\"marker\":{\"colorbar\":{\"outlinewidth\":0,\"ticks\":\"\"}}}],\"bar\":[{\"error_x\":{\"color\":\"#2a3f5f\"},\"error_y\":{\"color\":\"#2a3f5f\"},\"marker\":{\"line\":{\"color\":\"#E5ECF6\",\"width\":0.5},\"pattern\":{\"fillmode\":\"overlay\",\"size\":10,\"solidity\":0.2}},\"type\":\"bar\"}],\"scattergeo\":[{\"type\":\"scattergeo\",\"marker\":{\"colorbar\":{\"outlinewidth\":0,\"ticks\":\"\"}}}],\"scatterpolar\":[{\"type\":\"scatterpolar\",\"marker\":{\"colorbar\":{\"outlinewidth\":0,\"ticks\":\"\"}}}],\"histogram\":[{\"marker\":{\"pattern\":{\"fillmode\":\"overlay\",\"size\":10,\"solidity\":0.2}},\"type\":\"histogram\"}],\"scattergl\":[{\"type\":\"scattergl\",\"marker\":{\"colorbar\":{\"outlinewidth\":0,\"ticks\":\"\"}}}],\"scatter3d\":[{\"type\":\"scatter3d\",\"line\":{\"colorbar\":{\"outlinewidth\":0,\"ticks\":\"\"}},\"marker\":{\"colorbar\":{\"outlinewidth\":0,\"ticks\":\"\"}}}],\"scattermapbox\":[{\"type\":\"scattermapbox\",\"marker\":{\"colorbar\":{\"outlinewidth\":0,\"ticks\":\"\"}}}],\"scatterternary\":[{\"type\":\"scatterternary\",\"marker\":{\"colorbar\":{\"outlinewidth\":0,\"ticks\":\"\"}}}],\"scattercarpet\":[{\"type\":\"scattercarpet\",\"marker\":{\"colorbar\":{\"outlinewidth\":0,\"ticks\":\"\"}}}],\"carpet\":[{\"aaxis\":{\"endlinecolor\":\"#2a3f5f\",\"gridcolor\":\"white\",\"linecolor\":\"white\",\"minorgridcolor\":\"white\",\"startlinecolor\":\"#2a3f5f\"},\"baxis\":{\"endlinecolor\":\"#2a3f5f\",\"gridcolor\":\"white\",\"linecolor\":\"white\",\"minorgridcolor\":\"white\",\"startlinecolor\":\"#2a3f5f\"},\"type\":\"carpet\"}],\"table\":[{\"cells\":{\"fill\":{\"color\":\"#EBF0F8\"},\"line\":{\"color\":\"white\"}},\"header\":{\"fill\":{\"color\":\"#C8D4E3\"},\"line\":{\"color\":\"white\"}},\"type\":\"table\"}],\"barpolar\":[{\"marker\":{\"line\":{\"color\":\"#E5ECF6\",\"width\":0.5},\"pattern\":{\"fillmode\":\"overlay\",\"size\":10,\"solidity\":0.2}},\"type\":\"barpolar\"}],\"pie\":[{\"automargin\":true,\"type\":\"pie\"}]},\"layout\":{\"autotypenumbers\":\"strict\",\"colorway\":[\"#636efa\",\"#EF553B\",\"#00cc96\",\"#ab63fa\",\"#FFA15A\",\"#19d3f3\",\"#FF6692\",\"#B6E880\",\"#FF97FF\",\"#FECB52\"],\"font\":{\"color\":\"#2a3f5f\"},\"hovermode\":\"closest\",\"hoverlabel\":{\"align\":\"left\"},\"paper_bgcolor\":\"white\",\"plot_bgcolor\":\"#E5ECF6\",\"polar\":{\"bgcolor\":\"#E5ECF6\",\"angularaxis\":{\"gridcolor\":\"white\",\"linecolor\":\"white\",\"ticks\":\"\"},\"radialaxis\":{\"gridcolor\":\"white\",\"linecolor\":\"white\",\"ticks\":\"\"}},\"ternary\":{\"bgcolor\":\"#E5ECF6\",\"aaxis\":{\"gridcolor\":\"white\",\"linecolor\":\"white\",\"ticks\":\"\"},\"baxis\":{\"gridcolor\":\"white\",\"linecolor\":\"white\",\"ticks\":\"\"},\"caxis\":{\"gridcolor\":\"white\",\"linecolor\":\"white\",\"ticks\":\"\"}},\"coloraxis\":{\"colorbar\":{\"outlinewidth\":0,\"ticks\":\"\"}},\"colorscale\":{\"sequential\":[[0.0,\"#0d0887\"],[0.1111111111111111,\"#46039f\"],[0.2222222222222222,\"#7201a8\"],[0.3333333333333333,\"#9c179e\"],[0.4444444444444444,\"#bd3786\"],[0.5555555555555556,\"#d8576b\"],[0.6666666666666666,\"#ed7953\"],[0.7777777777777778,\"#fb9f3a\"],[0.8888888888888888,\"#fdca26\"],[1.0,\"#f0f921\"]],\"sequentialminus\":[[0.0,\"#0d0887\"],[0.1111111111111111,\"#46039f\"],[0.2222222222222222,\"#7201a8\"],[0.3333333333333333,\"#9c179e\"],[0.4444444444444444,\"#bd3786\"],[0.5555555555555556,\"#d8576b\"],[0.6666666666666666,\"#ed7953\"],[0.7777777777777778,\"#fb9f3a\"],[0.8888888888888888,\"#fdca26\"],[1.0,\"#f0f921\"]],\"diverging\":[[0,\"#8e0152\"],[0.1,\"#c51b7d\"],[0.2,\"#de77ae\"],[0.3,\"#f1b6da\"],[0.4,\"#fde0ef\"],[0.5,\"#f7f7f7\"],[0.6,\"#e6f5d0\"],[0.7,\"#b8e186\"],[0.8,\"#7fbc41\"],[0.9,\"#4d9221\"],[1,\"#276419\"]]},\"xaxis\":{\"gridcolor\":\"white\",\"linecolor\":\"white\",\"ticks\":\"\",\"title\":{\"standoff\":15},\"zerolinecolor\":\"white\",\"automargin\":true,\"zerolinewidth\":2},\"yaxis\":{\"gridcolor\":\"white\",\"linecolor\":\"white\",\"ticks\":\"\",\"title\":{\"standoff\":15},\"zerolinecolor\":\"white\",\"automargin\":true,\"zerolinewidth\":2},\"scene\":{\"xaxis\":{\"backgroundcolor\":\"#E5ECF6\",\"gridcolor\":\"white\",\"linecolor\":\"white\",\"showbackground\":true,\"ticks\":\"\",\"zerolinecolor\":\"white\",\"gridwidth\":2},\"yaxis\":{\"backgroundcolor\":\"#E5ECF6\",\"gridcolor\":\"white\",\"linecolor\":\"white\",\"showbackground\":true,\"ticks\":\"\",\"zerolinecolor\":\"white\",\"gridwidth\":2},\"zaxis\":{\"backgroundcolor\":\"#E5ECF6\",\"gridcolor\":\"white\",\"linecolor\":\"white\",\"showbackground\":true,\"ticks\":\"\",\"zerolinecolor\":\"white\",\"gridwidth\":2}},\"shapedefaults\":{\"line\":{\"color\":\"#2a3f5f\"}},\"annotationdefaults\":{\"arrowcolor\":\"#2a3f5f\",\"arrowhead\":0,\"arrowwidth\":1},\"geo\":{\"bgcolor\":\"white\",\"landcolor\":\"#E5ECF6\",\"subunitcolor\":\"white\",\"showland\":true,\"showlakes\":true,\"lakecolor\":\"white\"},\"title\":{\"x\":0.05},\"mapbox\":{\"style\":\"light\"}}},\"xaxis\":{\"anchor\":\"y\",\"domain\":[0.0,1.0],\"title\":{\"text\":\"Month\"}},\"yaxis\":{\"anchor\":\"x\",\"domain\":[0.0,1.0],\"title\":{\"text\":\"Total Revenue\"}},\"legend\":{\"tracegroupgap\":0},\"title\":{\"text\":\"Monthly Revenue Growth\"}},                        {\"responsive\": true}                    ).then(function(){\n",
       "                            \n",
       "var gd = document.getElementById('3ec17eec-12f2-48aa-b2a8-8df7f4904ab0');\n",
       "var x = new MutationObserver(function (mutations, observer) {{\n",
       "        var display = window.getComputedStyle(gd).display;\n",
       "        if (!display || display === 'none') {{\n",
       "            console.log([gd, 'removed!']);\n",
       "            Plotly.purge(gd);\n",
       "            observer.disconnect();\n",
       "        }}\n",
       "}});\n",
       "\n",
       "// Listen for the removal of the full notebook cells\n",
       "var notebookContainer = gd.closest('#notebook-container');\n",
       "if (notebookContainer) {{\n",
       "    x.observe(notebookContainer, {childList: true});\n",
       "}}\n",
       "\n",
       "// Listen for the clearing of the current output cell\n",
       "var outputEl = gd.closest('.output');\n",
       "if (outputEl) {{\n",
       "    x.observe(outputEl, {childList: true});\n",
       "}}\n",
       "\n",
       "                        })                };                });            </script>        </div>"
      ]
     },
     "metadata": {},
     "output_type": "display_data"
    }
   ],
   "source": [
    "# Display monthly revenue growth\n",
    "\n",
    "revenue_by_month = \"\"\"\n",
    "SELECT \n",
    "    DATE_FORMAT(P.PaymentDate, '%Y-%m') AS Month,\n",
    "    SUM(P.Amount) AS TotalRevenue\n",
    "FROM Payment P\n",
    "GROUP BY Month\n",
    "ORDER BY Month;\n",
    "\n",
    "\"\"\"\n",
    "revenue_by_month_df = run_query(revenue_by_month)\n",
    "\n",
    "# Define dataframe\n",
    "revenue_by_month_df.columns = [\"Month\", \"Total Revenue\"]\n",
    "\n",
    "# Convert 'Month' to datetime for better plotting\n",
    "revenue_by_month_df[\"Month\"] = pd.to_datetime(revenue_by_month_df[\"Month\"])\n",
    "\n",
    "# Create the line chart \n",
    "revenue_by_month_plot = px.line(\n",
    "    revenue_by_month_df,  \n",
    "    x=\"Month\",\n",
    "    y=\"Total Revenue\",\n",
    "    text = \"Total Revenue\",\n",
    "    title=\"Monthly Revenue Growth\",\n",
    "    markers=True\n",
    ")\n",
    "\n",
    "# Update text format\n",
    "revenue_by_month_plot.update_traces(texttemplate=\"%{text:.2f}\", textposition=\"top center\")\n",
    "\n",
    "# Show the plot\n",
    "revenue_by_month_plot.show()"
   ]
  },
  {
   "cell_type": "markdown",
   "metadata": {},
   "source": [
    "#### - Top Venue Generating Revenue : \n",
    "Highlights venues ranked by total revenue contribution."
   ]
  },
  {
   "cell_type": "code",
   "execution_count": 296,
   "metadata": {},
   "outputs": [
    {
     "data": {
      "text/html": [
       "<div>\n",
       "<style scoped>\n",
       "    .dataframe tbody tr th:only-of-type {\n",
       "        vertical-align: middle;\n",
       "    }\n",
       "\n",
       "    .dataframe tbody tr th {\n",
       "        vertical-align: top;\n",
       "    }\n",
       "\n",
       "    .dataframe thead th {\n",
       "        text-align: right;\n",
       "    }\n",
       "</style>\n",
       "<table border=\"1\" class=\"dataframe\">\n",
       "  <thead>\n",
       "    <tr style=\"text-align: right;\">\n",
       "      <th></th>\n",
       "      <th>VenueName</th>\n",
       "      <th>TotalRevenue</th>\n",
       "    </tr>\n",
       "  </thead>\n",
       "  <tbody>\n",
       "    <tr>\n",
       "      <th>0</th>\n",
       "      <td>Conference Hall A</td>\n",
       "      <td>8875.80</td>\n",
       "    </tr>\n",
       "    <tr>\n",
       "      <th>1</th>\n",
       "      <td>Music Hall</td>\n",
       "      <td>7445.10</td>\n",
       "    </tr>\n",
       "    <tr>\n",
       "      <th>2</th>\n",
       "      <td>Convention Center</td>\n",
       "      <td>7276.00</td>\n",
       "    </tr>\n",
       "    <tr>\n",
       "      <th>3</th>\n",
       "      <td>Opera House</td>\n",
       "      <td>4674.75</td>\n",
       "    </tr>\n",
       "    <tr>\n",
       "      <th>4</th>\n",
       "      <td>Expo Center</td>\n",
       "      <td>4614.00</td>\n",
       "    </tr>\n",
       "    <tr>\n",
       "      <th>5</th>\n",
       "      <td>Concert Hall B</td>\n",
       "      <td>4457.50</td>\n",
       "    </tr>\n",
       "    <tr>\n",
       "      <th>6</th>\n",
       "      <td>Banquet Hall</td>\n",
       "      <td>4397.50</td>\n",
       "    </tr>\n",
       "    <tr>\n",
       "      <th>7</th>\n",
       "      <td>Tech Convention Center</td>\n",
       "      <td>3985.50</td>\n",
       "    </tr>\n",
       "    <tr>\n",
       "      <th>8</th>\n",
       "      <td>Sports Stadium</td>\n",
       "      <td>3945.00</td>\n",
       "    </tr>\n",
       "    <tr>\n",
       "      <th>9</th>\n",
       "      <td>Art Gallery</td>\n",
       "      <td>3169.50</td>\n",
       "    </tr>\n",
       "  </tbody>\n",
       "</table>\n",
       "</div>"
      ],
      "text/plain": [
       "                VenueName  TotalRevenue\n",
       "0       Conference Hall A       8875.80\n",
       "1              Music Hall       7445.10\n",
       "2       Convention Center       7276.00\n",
       "3             Opera House       4674.75\n",
       "4             Expo Center       4614.00\n",
       "5          Concert Hall B       4457.50\n",
       "6            Banquet Hall       4397.50\n",
       "7  Tech Convention Center       3985.50\n",
       "8          Sports Stadium       3945.00\n",
       "9             Art Gallery       3169.50"
      ]
     },
     "execution_count": 296,
     "metadata": {},
     "output_type": "execute_result"
    }
   ],
   "source": [
    "top_venue = \"\"\"\n",
    "    SELECT \n",
    "        V.VenueName,\n",
    "        SUM(P.Amount) AS TotalRevenue\n",
    "    FROM Payment P\n",
    "    JOIN Booking B ON P.BookingID = B.BookingID\n",
    "    JOIN Event E ON B.EventID = E.EventID\n",
    "    JOIN EventVenue EV ON E.EventID = EV.EventID\n",
    "    JOIN Venue V ON EV.VenueID = V.VenueID\n",
    "    GROUP BY V.VenueName\n",
    "    ORDER BY TotalRevenue DESC\n",
    "    LIMIT 10;\n",
    "\"\"\"\n",
    "\n",
    "# Fetch Data\n",
    "top_venue_df = run_query(top_venue)\n",
    "\n",
    "top_venue_df\n"
   ]
  },
  {
   "cell_type": "markdown",
   "metadata": {},
   "source": [
    "#### 3. Customer Behavior & Sales Analysis\n",
    "#### - Ticket Sales by Seat Category : \n",
    "A pie chart showing the distribution of sales among VIP, Regular, and Economy seats."
   ]
  },
  {
   "cell_type": "code",
   "execution_count": 298,
   "metadata": {},
   "outputs": [
    {
     "data": {
      "application/vnd.plotly.v1+json": {
       "config": {
        "plotlyServerURL": "https://plot.ly"
       },
       "data": [
        {
         "domain": {
          "x": [
           0,
           1
          ],
          "y": [
           0,
           1
          ]
         },
         "hole": 0.3,
         "hovertemplate": "Category=%{label}<br>Tickets Sold=%{value}<extra></extra>",
         "labels": [
          "VIP",
          "Regular",
          "Economy"
         ],
         "legendgroup": "",
         "name": "",
         "showlegend": true,
         "type": "pie",
         "values": [
          80,
          60,
          43
         ]
        }
       ],
       "layout": {
        "autosize": true,
        "legend": {
         "tracegroupgap": 0
        },
        "template": {
         "data": {
          "bar": [
           {
            "error_x": {
             "color": "#2a3f5f"
            },
            "error_y": {
             "color": "#2a3f5f"
            },
            "marker": {
             "line": {
              "color": "#E5ECF6",
              "width": 0.5
             },
             "pattern": {
              "fillmode": "overlay",
              "size": 10,
              "solidity": 0.2
             }
            },
            "type": "bar"
           }
          ],
          "barpolar": [
           {
            "marker": {
             "line": {
              "color": "#E5ECF6",
              "width": 0.5
             },
             "pattern": {
              "fillmode": "overlay",
              "size": 10,
              "solidity": 0.2
             }
            },
            "type": "barpolar"
           }
          ],
          "carpet": [
           {
            "aaxis": {
             "endlinecolor": "#2a3f5f",
             "gridcolor": "white",
             "linecolor": "white",
             "minorgridcolor": "white",
             "startlinecolor": "#2a3f5f"
            },
            "baxis": {
             "endlinecolor": "#2a3f5f",
             "gridcolor": "white",
             "linecolor": "white",
             "minorgridcolor": "white",
             "startlinecolor": "#2a3f5f"
            },
            "type": "carpet"
           }
          ],
          "choropleth": [
           {
            "colorbar": {
             "outlinewidth": 0,
             "ticks": ""
            },
            "type": "choropleth"
           }
          ],
          "contour": [
           {
            "colorbar": {
             "outlinewidth": 0,
             "ticks": ""
            },
            "colorscale": [
             [
              0,
              "#0d0887"
             ],
             [
              0.1111111111111111,
              "#46039f"
             ],
             [
              0.2222222222222222,
              "#7201a8"
             ],
             [
              0.3333333333333333,
              "#9c179e"
             ],
             [
              0.4444444444444444,
              "#bd3786"
             ],
             [
              0.5555555555555556,
              "#d8576b"
             ],
             [
              0.6666666666666666,
              "#ed7953"
             ],
             [
              0.7777777777777778,
              "#fb9f3a"
             ],
             [
              0.8888888888888888,
              "#fdca26"
             ],
             [
              1,
              "#f0f921"
             ]
            ],
            "type": "contour"
           }
          ],
          "contourcarpet": [
           {
            "colorbar": {
             "outlinewidth": 0,
             "ticks": ""
            },
            "type": "contourcarpet"
           }
          ],
          "heatmap": [
           {
            "colorbar": {
             "outlinewidth": 0,
             "ticks": ""
            },
            "colorscale": [
             [
              0,
              "#0d0887"
             ],
             [
              0.1111111111111111,
              "#46039f"
             ],
             [
              0.2222222222222222,
              "#7201a8"
             ],
             [
              0.3333333333333333,
              "#9c179e"
             ],
             [
              0.4444444444444444,
              "#bd3786"
             ],
             [
              0.5555555555555556,
              "#d8576b"
             ],
             [
              0.6666666666666666,
              "#ed7953"
             ],
             [
              0.7777777777777778,
              "#fb9f3a"
             ],
             [
              0.8888888888888888,
              "#fdca26"
             ],
             [
              1,
              "#f0f921"
             ]
            ],
            "type": "heatmap"
           }
          ],
          "heatmapgl": [
           {
            "colorbar": {
             "outlinewidth": 0,
             "ticks": ""
            },
            "colorscale": [
             [
              0,
              "#0d0887"
             ],
             [
              0.1111111111111111,
              "#46039f"
             ],
             [
              0.2222222222222222,
              "#7201a8"
             ],
             [
              0.3333333333333333,
              "#9c179e"
             ],
             [
              0.4444444444444444,
              "#bd3786"
             ],
             [
              0.5555555555555556,
              "#d8576b"
             ],
             [
              0.6666666666666666,
              "#ed7953"
             ],
             [
              0.7777777777777778,
              "#fb9f3a"
             ],
             [
              0.8888888888888888,
              "#fdca26"
             ],
             [
              1,
              "#f0f921"
             ]
            ],
            "type": "heatmapgl"
           }
          ],
          "histogram": [
           {
            "marker": {
             "pattern": {
              "fillmode": "overlay",
              "size": 10,
              "solidity": 0.2
             }
            },
            "type": "histogram"
           }
          ],
          "histogram2d": [
           {
            "colorbar": {
             "outlinewidth": 0,
             "ticks": ""
            },
            "colorscale": [
             [
              0,
              "#0d0887"
             ],
             [
              0.1111111111111111,
              "#46039f"
             ],
             [
              0.2222222222222222,
              "#7201a8"
             ],
             [
              0.3333333333333333,
              "#9c179e"
             ],
             [
              0.4444444444444444,
              "#bd3786"
             ],
             [
              0.5555555555555556,
              "#d8576b"
             ],
             [
              0.6666666666666666,
              "#ed7953"
             ],
             [
              0.7777777777777778,
              "#fb9f3a"
             ],
             [
              0.8888888888888888,
              "#fdca26"
             ],
             [
              1,
              "#f0f921"
             ]
            ],
            "type": "histogram2d"
           }
          ],
          "histogram2dcontour": [
           {
            "colorbar": {
             "outlinewidth": 0,
             "ticks": ""
            },
            "colorscale": [
             [
              0,
              "#0d0887"
             ],
             [
              0.1111111111111111,
              "#46039f"
             ],
             [
              0.2222222222222222,
              "#7201a8"
             ],
             [
              0.3333333333333333,
              "#9c179e"
             ],
             [
              0.4444444444444444,
              "#bd3786"
             ],
             [
              0.5555555555555556,
              "#d8576b"
             ],
             [
              0.6666666666666666,
              "#ed7953"
             ],
             [
              0.7777777777777778,
              "#fb9f3a"
             ],
             [
              0.8888888888888888,
              "#fdca26"
             ],
             [
              1,
              "#f0f921"
             ]
            ],
            "type": "histogram2dcontour"
           }
          ],
          "mesh3d": [
           {
            "colorbar": {
             "outlinewidth": 0,
             "ticks": ""
            },
            "type": "mesh3d"
           }
          ],
          "parcoords": [
           {
            "line": {
             "colorbar": {
              "outlinewidth": 0,
              "ticks": ""
             }
            },
            "type": "parcoords"
           }
          ],
          "pie": [
           {
            "automargin": true,
            "type": "pie"
           }
          ],
          "scatter": [
           {
            "fillpattern": {
             "fillmode": "overlay",
             "size": 10,
             "solidity": 0.2
            },
            "type": "scatter"
           }
          ],
          "scatter3d": [
           {
            "line": {
             "colorbar": {
              "outlinewidth": 0,
              "ticks": ""
             }
            },
            "marker": {
             "colorbar": {
              "outlinewidth": 0,
              "ticks": ""
             }
            },
            "type": "scatter3d"
           }
          ],
          "scattercarpet": [
           {
            "marker": {
             "colorbar": {
              "outlinewidth": 0,
              "ticks": ""
             }
            },
            "type": "scattercarpet"
           }
          ],
          "scattergeo": [
           {
            "marker": {
             "colorbar": {
              "outlinewidth": 0,
              "ticks": ""
             }
            },
            "type": "scattergeo"
           }
          ],
          "scattergl": [
           {
            "marker": {
             "colorbar": {
              "outlinewidth": 0,
              "ticks": ""
             }
            },
            "type": "scattergl"
           }
          ],
          "scattermapbox": [
           {
            "marker": {
             "colorbar": {
              "outlinewidth": 0,
              "ticks": ""
             }
            },
            "type": "scattermapbox"
           }
          ],
          "scatterpolar": [
           {
            "marker": {
             "colorbar": {
              "outlinewidth": 0,
              "ticks": ""
             }
            },
            "type": "scatterpolar"
           }
          ],
          "scatterpolargl": [
           {
            "marker": {
             "colorbar": {
              "outlinewidth": 0,
              "ticks": ""
             }
            },
            "type": "scatterpolargl"
           }
          ],
          "scatterternary": [
           {
            "marker": {
             "colorbar": {
              "outlinewidth": 0,
              "ticks": ""
             }
            },
            "type": "scatterternary"
           }
          ],
          "surface": [
           {
            "colorbar": {
             "outlinewidth": 0,
             "ticks": ""
            },
            "colorscale": [
             [
              0,
              "#0d0887"
             ],
             [
              0.1111111111111111,
              "#46039f"
             ],
             [
              0.2222222222222222,
              "#7201a8"
             ],
             [
              0.3333333333333333,
              "#9c179e"
             ],
             [
              0.4444444444444444,
              "#bd3786"
             ],
             [
              0.5555555555555556,
              "#d8576b"
             ],
             [
              0.6666666666666666,
              "#ed7953"
             ],
             [
              0.7777777777777778,
              "#fb9f3a"
             ],
             [
              0.8888888888888888,
              "#fdca26"
             ],
             [
              1,
              "#f0f921"
             ]
            ],
            "type": "surface"
           }
          ],
          "table": [
           {
            "cells": {
             "fill": {
              "color": "#EBF0F8"
             },
             "line": {
              "color": "white"
             }
            },
            "header": {
             "fill": {
              "color": "#C8D4E3"
             },
             "line": {
              "color": "white"
             }
            },
            "type": "table"
           }
          ]
         },
         "layout": {
          "annotationdefaults": {
           "arrowcolor": "#2a3f5f",
           "arrowhead": 0,
           "arrowwidth": 1
          },
          "autotypenumbers": "strict",
          "coloraxis": {
           "colorbar": {
            "outlinewidth": 0,
            "ticks": ""
           }
          },
          "colorscale": {
           "diverging": [
            [
             0,
             "#8e0152"
            ],
            [
             0.1,
             "#c51b7d"
            ],
            [
             0.2,
             "#de77ae"
            ],
            [
             0.3,
             "#f1b6da"
            ],
            [
             0.4,
             "#fde0ef"
            ],
            [
             0.5,
             "#f7f7f7"
            ],
            [
             0.6,
             "#e6f5d0"
            ],
            [
             0.7,
             "#b8e186"
            ],
            [
             0.8,
             "#7fbc41"
            ],
            [
             0.9,
             "#4d9221"
            ],
            [
             1,
             "#276419"
            ]
           ],
           "sequential": [
            [
             0,
             "#0d0887"
            ],
            [
             0.1111111111111111,
             "#46039f"
            ],
            [
             0.2222222222222222,
             "#7201a8"
            ],
            [
             0.3333333333333333,
             "#9c179e"
            ],
            [
             0.4444444444444444,
             "#bd3786"
            ],
            [
             0.5555555555555556,
             "#d8576b"
            ],
            [
             0.6666666666666666,
             "#ed7953"
            ],
            [
             0.7777777777777778,
             "#fb9f3a"
            ],
            [
             0.8888888888888888,
             "#fdca26"
            ],
            [
             1,
             "#f0f921"
            ]
           ],
           "sequentialminus": [
            [
             0,
             "#0d0887"
            ],
            [
             0.1111111111111111,
             "#46039f"
            ],
            [
             0.2222222222222222,
             "#7201a8"
            ],
            [
             0.3333333333333333,
             "#9c179e"
            ],
            [
             0.4444444444444444,
             "#bd3786"
            ],
            [
             0.5555555555555556,
             "#d8576b"
            ],
            [
             0.6666666666666666,
             "#ed7953"
            ],
            [
             0.7777777777777778,
             "#fb9f3a"
            ],
            [
             0.8888888888888888,
             "#fdca26"
            ],
            [
             1,
             "#f0f921"
            ]
           ]
          },
          "colorway": [
           "#636efa",
           "#EF553B",
           "#00cc96",
           "#ab63fa",
           "#FFA15A",
           "#19d3f3",
           "#FF6692",
           "#B6E880",
           "#FF97FF",
           "#FECB52"
          ],
          "font": {
           "color": "#2a3f5f"
          },
          "geo": {
           "bgcolor": "white",
           "lakecolor": "white",
           "landcolor": "#E5ECF6",
           "showlakes": true,
           "showland": true,
           "subunitcolor": "white"
          },
          "hoverlabel": {
           "align": "left"
          },
          "hovermode": "closest",
          "mapbox": {
           "style": "light"
          },
          "paper_bgcolor": "white",
          "plot_bgcolor": "#E5ECF6",
          "polar": {
           "angularaxis": {
            "gridcolor": "white",
            "linecolor": "white",
            "ticks": ""
           },
           "bgcolor": "#E5ECF6",
           "radialaxis": {
            "gridcolor": "white",
            "linecolor": "white",
            "ticks": ""
           }
          },
          "scene": {
           "xaxis": {
            "backgroundcolor": "#E5ECF6",
            "gridcolor": "white",
            "gridwidth": 2,
            "linecolor": "white",
            "showbackground": true,
            "ticks": "",
            "zerolinecolor": "white"
           },
           "yaxis": {
            "backgroundcolor": "#E5ECF6",
            "gridcolor": "white",
            "gridwidth": 2,
            "linecolor": "white",
            "showbackground": true,
            "ticks": "",
            "zerolinecolor": "white"
           },
           "zaxis": {
            "backgroundcolor": "#E5ECF6",
            "gridcolor": "white",
            "gridwidth": 2,
            "linecolor": "white",
            "showbackground": true,
            "ticks": "",
            "zerolinecolor": "white"
           }
          },
          "shapedefaults": {
           "line": {
            "color": "#2a3f5f"
           }
          },
          "ternary": {
           "aaxis": {
            "gridcolor": "white",
            "linecolor": "white",
            "ticks": ""
           },
           "baxis": {
            "gridcolor": "white",
            "linecolor": "white",
            "ticks": ""
           },
           "bgcolor": "#E5ECF6",
           "caxis": {
            "gridcolor": "white",
            "linecolor": "white",
            "ticks": ""
           }
          },
          "title": {
           "x": 0.05
          },
          "xaxis": {
           "automargin": true,
           "gridcolor": "white",
           "linecolor": "white",
           "ticks": "",
           "title": {
            "standoff": 15
           },
           "zerolinecolor": "white",
           "zerolinewidth": 2
          },
          "yaxis": {
           "automargin": true,
           "gridcolor": "white",
           "linecolor": "white",
           "ticks": "",
           "title": {
            "standoff": 15
           },
           "zerolinecolor": "white",
           "zerolinewidth": 2
          }
         }
        },
        "title": {
         "text": "Ticket Sales by Seat Category"
        }
       }
      },
      "image/png": "[encoded data removed]",
      "text/html": [
       "<div>                            <div id=\"c3f08a3a-21db-4e0e-9285-262d660068f3\" class=\"plotly-graph-div\" style=\"height:525px; width:100%;\"></div>            <script type=\"text/javascript\">                require([\"plotly\"], function(Plotly) {                    window.PLOTLYENV=window.PLOTLYENV || {};                                    if (document.getElementById(\"c3f08a3a-21db-4e0e-9285-262d660068f3\")) {                    Plotly.newPlot(                        \"c3f08a3a-21db-4e0e-9285-262d660068f3\",                        [{\"domain\":{\"x\":[0.0,1.0],\"y\":[0.0,1.0]},\"hole\":0.3,\"hovertemplate\":\"Category=%{label}\\u003cbr\\u003eTickets Sold=%{value}\\u003cextra\\u003e\\u003c\\u002fextra\\u003e\",\"labels\":[\"VIP\",\"Regular\",\"Economy\"],\"legendgroup\":\"\",\"name\":\"\",\"showlegend\":true,\"values\":[80,60,43],\"type\":\"pie\"}],                        {\"template\":{\"data\":{\"histogram2dcontour\":[{\"type\":\"histogram2dcontour\",\"colorbar\":{\"outlinewidth\":0,\"ticks\":\"\"},\"colorscale\":[[0.0,\"#0d0887\"],[0.1111111111111111,\"#46039f\"],[0.2222222222222222,\"#7201a8\"],[0.3333333333333333,\"#9c179e\"],[0.4444444444444444,\"#bd3786\"],[0.5555555555555556,\"#d8576b\"],[0.6666666666666666,\"#ed7953\"],[0.7777777777777778,\"#fb9f3a\"],[0.8888888888888888,\"#fdca26\"],[1.0,\"#f0f921\"]]}],\"choropleth\":[{\"type\":\"choropleth\",\"colorbar\":{\"outlinewidth\":0,\"ticks\":\"\"}}],\"histogram2d\":[{\"type\":\"histogram2d\",\"colorbar\":{\"outlinewidth\":0,\"ticks\":\"\"},\"colorscale\":[[0.0,\"#0d0887\"],[0.1111111111111111,\"#46039f\"],[0.2222222222222222,\"#7201a8\"],[0.3333333333333333,\"#9c179e\"],[0.4444444444444444,\"#bd3786\"],[0.5555555555555556,\"#d8576b\"],[0.6666666666666666,\"#ed7953\"],[0.7777777777777778,\"#fb9f3a\"],[0.8888888888888888,\"#fdca26\"],[1.0,\"#f0f921\"]]}],\"heatmap\":[{\"type\":\"heatmap\",\"colorbar\":{\"outlinewidth\":0,\"ticks\":\"\"},\"colorscale\":[[0.0,\"#0d0887\"],[0.1111111111111111,\"#46039f\"],[0.2222222222222222,\"#7201a8\"],[0.3333333333333333,\"#9c179e\"],[0.4444444444444444,\"#bd3786\"],[0.5555555555555556,\"#d8576b\"],[0.6666666666666666,\"#ed7953\"],[0.7777777777777778,\"#fb9f3a\"],[0.8888888888888888,\"#fdca26\"],[1.0,\"#f0f921\"]]}],\"heatmapgl\":[{\"type\":\"heatmapgl\",\"colorbar\":{\"outlinewidth\":0,\"ticks\":\"\"},\"colorscale\":[[0.0,\"#0d0887\"],[0.1111111111111111,\"#46039f\"],[0.2222222222222222,\"#7201a8\"],[0.3333333333333333,\"#9c179e\"],[0.4444444444444444,\"#bd3786\"],[0.5555555555555556,\"#d8576b\"],[0.6666666666666666,\"#ed7953\"],[0.7777777777777778,\"#fb9f3a\"],[0.8888888888888888,\"#fdca26\"],[1.0,\"#f0f921\"]]}],\"contourcarpet\":[{\"type\":\"contourcarpet\",\"colorbar\":{\"outlinewidth\":0,\"ticks\":\"\"}}],\"contour\":[{\"type\":\"contour\",\"colorbar\":{\"outlinewidth\":0,\"ticks\":\"\"},\"colorscale\":[[0.0,\"#0d0887\"],[0.1111111111111111,\"#46039f\"],[0.2222222222222222,\"#7201a8\"],[0.3333333333333333,\"#9c179e\"],[0.4444444444444444,\"#bd3786\"],[0.5555555555555556,\"#d8576b\"],[0.6666666666666666,\"#ed7953\"],[0.7777777777777778,\"#fb9f3a\"],[0.8888888888888888,\"#fdca26\"],[1.0,\"#f0f921\"]]}],\"surface\":[{\"type\":\"surface\",\"colorbar\":{\"outlinewidth\":0,\"ticks\":\"\"},\"colorscale\":[[0.0,\"#0d0887\"],[0.1111111111111111,\"#46039f\"],[0.2222222222222222,\"#7201a8\"],[0.3333333333333333,\"#9c179e\"],[0.4444444444444444,\"#bd3786\"],[0.5555555555555556,\"#d8576b\"],[0.6666666666666666,\"#ed7953\"],[0.7777777777777778,\"#fb9f3a\"],[0.8888888888888888,\"#fdca26\"],[1.0,\"#f0f921\"]]}],\"mesh3d\":[{\"type\":\"mesh3d\",\"colorbar\":{\"outlinewidth\":0,\"ticks\":\"\"}}],\"scatter\":[{\"fillpattern\":{\"fillmode\":\"overlay\",\"size\":10,\"solidity\":0.2},\"type\":\"scatter\"}],\"parcoords\":[{\"type\":\"parcoords\",\"line\":{\"colorbar\":{\"outlinewidth\":0,\"ticks\":\"\"}}}],\"scatterpolargl\":[{\"type\":\"scatterpolargl\",\"marker\":{\"colorbar\":{\"outlinewidth\":0,\"ticks\":\"\"}}}],\"bar\":[{\"error_x\":{\"color\":\"#2a3f5f\"},\"error_y\":{\"color\":\"#2a3f5f\"},\"marker\":{\"line\":{\"color\":\"#E5ECF6\",\"width\":0.5},\"pattern\":{\"fillmode\":\"overlay\",\"size\":10,\"solidity\":0.2}},\"type\":\"bar\"}],\"scattergeo\":[{\"type\":\"scattergeo\",\"marker\":{\"colorbar\":{\"outlinewidth\":0,\"ticks\":\"\"}}}],\"scatterpolar\":[{\"type\":\"scatterpolar\",\"marker\":{\"colorbar\":{\"outlinewidth\":0,\"ticks\":\"\"}}}],\"histogram\":[{\"marker\":{\"pattern\":{\"fillmode\":\"overlay\",\"size\":10,\"solidity\":0.2}},\"type\":\"histogram\"}],\"scattergl\":[{\"type\":\"scattergl\",\"marker\":{\"colorbar\":{\"outlinewidth\":0,\"ticks\":\"\"}}}],\"scatter3d\":[{\"type\":\"scatter3d\",\"line\":{\"colorbar\":{\"outlinewidth\":0,\"ticks\":\"\"}},\"marker\":{\"colorbar\":{\"outlinewidth\":0,\"ticks\":\"\"}}}],\"scattermapbox\":[{\"type\":\"scattermapbox\",\"marker\":{\"colorbar\":{\"outlinewidth\":0,\"ticks\":\"\"}}}],\"scatterternary\":[{\"type\":\"scatterternary\",\"marker\":{\"colorbar\":{\"outlinewidth\":0,\"ticks\":\"\"}}}],\"scattercarpet\":[{\"type\":\"scattercarpet\",\"marker\":{\"colorbar\":{\"outlinewidth\":0,\"ticks\":\"\"}}}],\"carpet\":[{\"aaxis\":{\"endlinecolor\":\"#2a3f5f\",\"gridcolor\":\"white\",\"linecolor\":\"white\",\"minorgridcolor\":\"white\",\"startlinecolor\":\"#2a3f5f\"},\"baxis\":{\"endlinecolor\":\"#2a3f5f\",\"gridcolor\":\"white\",\"linecolor\":\"white\",\"minorgridcolor\":\"white\",\"startlinecolor\":\"#2a3f5f\"},\"type\":\"carpet\"}],\"table\":[{\"cells\":{\"fill\":{\"color\":\"#EBF0F8\"},\"line\":{\"color\":\"white\"}},\"header\":{\"fill\":{\"color\":\"#C8D4E3\"},\"line\":{\"color\":\"white\"}},\"type\":\"table\"}],\"barpolar\":[{\"marker\":{\"line\":{\"color\":\"#E5ECF6\",\"width\":0.5},\"pattern\":{\"fillmode\":\"overlay\",\"size\":10,\"solidity\":0.2}},\"type\":\"barpolar\"}],\"pie\":[{\"automargin\":true,\"type\":\"pie\"}]},\"layout\":{\"autotypenumbers\":\"strict\",\"colorway\":[\"#636efa\",\"#EF553B\",\"#00cc96\",\"#ab63fa\",\"#FFA15A\",\"#19d3f3\",\"#FF6692\",\"#B6E880\",\"#FF97FF\",\"#FECB52\"],\"font\":{\"color\":\"#2a3f5f\"},\"hovermode\":\"closest\",\"hoverlabel\":{\"align\":\"left\"},\"paper_bgcolor\":\"white\",\"plot_bgcolor\":\"#E5ECF6\",\"polar\":{\"bgcolor\":\"#E5ECF6\",\"angularaxis\":{\"gridcolor\":\"white\",\"linecolor\":\"white\",\"ticks\":\"\"},\"radialaxis\":{\"gridcolor\":\"white\",\"linecolor\":\"white\",\"ticks\":\"\"}},\"ternary\":{\"bgcolor\":\"#E5ECF6\",\"aaxis\":{\"gridcolor\":\"white\",\"linecolor\":\"white\",\"ticks\":\"\"},\"baxis\":{\"gridcolor\":\"white\",\"linecolor\":\"white\",\"ticks\":\"\"},\"caxis\":{\"gridcolor\":\"white\",\"linecolor\":\"white\",\"ticks\":\"\"}},\"coloraxis\":{\"colorbar\":{\"outlinewidth\":0,\"ticks\":\"\"}},\"colorscale\":{\"sequential\":[[0.0,\"#0d0887\"],[0.1111111111111111,\"#46039f\"],[0.2222222222222222,\"#7201a8\"],[0.3333333333333333,\"#9c179e\"],[0.4444444444444444,\"#bd3786\"],[0.5555555555555556,\"#d8576b\"],[0.6666666666666666,\"#ed7953\"],[0.7777777777777778,\"#fb9f3a\"],[0.8888888888888888,\"#fdca26\"],[1.0,\"#f0f921\"]],\"sequentialminus\":[[0.0,\"#0d0887\"],[0.1111111111111111,\"#46039f\"],[0.2222222222222222,\"#7201a8\"],[0.3333333333333333,\"#9c179e\"],[0.4444444444444444,\"#bd3786\"],[0.5555555555555556,\"#d8576b\"],[0.6666666666666666,\"#ed7953\"],[0.7777777777777778,\"#fb9f3a\"],[0.8888888888888888,\"#fdca26\"],[1.0,\"#f0f921\"]],\"diverging\":[[0,\"#8e0152\"],[0.1,\"#c51b7d\"],[0.2,\"#de77ae\"],[0.3,\"#f1b6da\"],[0.4,\"#fde0ef\"],[0.5,\"#f7f7f7\"],[0.6,\"#e6f5d0\"],[0.7,\"#b8e186\"],[0.8,\"#7fbc41\"],[0.9,\"#4d9221\"],[1,\"#276419\"]]},\"xaxis\":{\"gridcolor\":\"white\",\"linecolor\":\"white\",\"ticks\":\"\",\"title\":{\"standoff\":15},\"zerolinecolor\":\"white\",\"automargin\":true,\"zerolinewidth\":2},\"yaxis\":{\"gridcolor\":\"white\",\"linecolor\":\"white\",\"ticks\":\"\",\"title\":{\"standoff\":15},\"zerolinecolor\":\"white\",\"automargin\":true,\"zerolinewidth\":2},\"scene\":{\"xaxis\":{\"backgroundcolor\":\"#E5ECF6\",\"gridcolor\":\"white\",\"linecolor\":\"white\",\"showbackground\":true,\"ticks\":\"\",\"zerolinecolor\":\"white\",\"gridwidth\":2},\"yaxis\":{\"backgroundcolor\":\"#E5ECF6\",\"gridcolor\":\"white\",\"linecolor\":\"white\",\"showbackground\":true,\"ticks\":\"\",\"zerolinecolor\":\"white\",\"gridwidth\":2},\"zaxis\":{\"backgroundcolor\":\"#E5ECF6\",\"gridcolor\":\"white\",\"linecolor\":\"white\",\"showbackground\":true,\"ticks\":\"\",\"zerolinecolor\":\"white\",\"gridwidth\":2}},\"shapedefaults\":{\"line\":{\"color\":\"#2a3f5f\"}},\"annotationdefaults\":{\"arrowcolor\":\"#2a3f5f\",\"arrowhead\":0,\"arrowwidth\":1},\"geo\":{\"bgcolor\":\"white\",\"landcolor\":\"#E5ECF6\",\"subunitcolor\":\"white\",\"showland\":true,\"showlakes\":true,\"lakecolor\":\"white\"},\"title\":{\"x\":0.05},\"mapbox\":{\"style\":\"light\"}}},\"legend\":{\"tracegroupgap\":0},\"title\":{\"text\":\"Ticket Sales by Seat Category\"}},                        {\"responsive\": true}                    ).then(function(){\n",
       "                            \n",
       "var gd = document.getElementById('c3f08a3a-21db-4e0e-9285-262d660068f3');\n",
       "var x = new MutationObserver(function (mutations, observer) {{\n",
       "        var display = window.getComputedStyle(gd).display;\n",
       "        if (!display || display === 'none') {{\n",
       "            console.log([gd, 'removed!']);\n",
       "            Plotly.purge(gd);\n",
       "            observer.disconnect();\n",
       "        }}\n",
       "}});\n",
       "\n",
       "// Listen for the removal of the full notebook cells\n",
       "var notebookContainer = gd.closest('#notebook-container');\n",
       "if (notebookContainer) {{\n",
       "    x.observe(notebookContainer, {childList: true});\n",
       "}}\n",
       "\n",
       "// Listen for the clearing of the current output cell\n",
       "var outputEl = gd.closest('.output');\n",
       "if (outputEl) {{\n",
       "    x.observe(outputEl, {childList: true});\n",
       "}}\n",
       "\n",
       "                        })                };                });            </script>        </div>"
      ]
     },
     "metadata": {},
     "output_type": "display_data"
    },
    {
     "data": {
      "application/vnd.plotly.v1+json": {
       "config": {
        "plotlyServerURL": "https://plot.ly"
       },
       "data": [
        {
         "alignmentgroup": "True",
         "hovertemplate": "Category=%{x}<br>Tickets Sold=%{text}<extra></extra>",
         "legendgroup": "VIP",
         "marker": {
          "color": "#636efa",
          "pattern": {
           "shape": ""
          }
         },
         "name": "VIP",
         "offsetgroup": "VIP",
         "orientation": "v",
         "showlegend": true,
         "text": [
          80
         ],
         "textposition": "outside",
         "texttemplate": "%{text}",
         "type": "bar",
         "x": [
          "VIP"
         ],
         "xaxis": "x",
         "y": [
          80
         ],
         "yaxis": "y"
        },
        {
         "alignmentgroup": "True",
         "hovertemplate": "Category=%{x}<br>Tickets Sold=%{text}<extra></extra>",
         "legendgroup": "Regular",
         "marker": {
          "color": "#EF553B",
          "pattern": {
           "shape": ""
          }
         },
         "name": "Regular",
         "offsetgroup": "Regular",
         "orientation": "v",
         "showlegend": true,
         "text": [
          60
         ],
         "textposition": "outside",
         "texttemplate": "%{text}",
         "type": "bar",
         "x": [
          "Regular"
         ],
         "xaxis": "x",
         "y": [
          60
         ],
         "yaxis": "y"
        },
        {
         "alignmentgroup": "True",
         "hovertemplate": "Category=%{x}<br>Tickets Sold=%{text}<extra></extra>",
         "legendgroup": "Economy",
         "marker": {
          "color": "#00cc96",
          "pattern": {
           "shape": ""
          }
         },
         "name": "Economy",
         "offsetgroup": "Economy",
         "orientation": "v",
         "showlegend": true,
         "text": [
          43
         ],
         "textposition": "outside",
         "texttemplate": "%{text}",
         "type": "bar",
         "x": [
          "Economy"
         ],
         "xaxis": "x",
         "y": [
          43
         ],
         "yaxis": "y"
        }
       ],
       "layout": {
        "autosize": true,
        "barmode": "relative",
        "legend": {
         "title": {
          "text": "Category"
         },
         "tracegroupgap": 0
        },
        "template": {
         "data": {
          "bar": [
           {
            "error_x": {
             "color": "#2a3f5f"
            },
            "error_y": {
             "color": "#2a3f5f"
            },
            "marker": {
             "line": {
              "color": "#E5ECF6",
              "width": 0.5
             },
             "pattern": {
              "fillmode": "overlay",
              "size": 10,
              "solidity": 0.2
             }
            },
            "type": "bar"
           }
          ],
          "barpolar": [
           {
            "marker": {
             "line": {
              "color": "#E5ECF6",
              "width": 0.5
             },
             "pattern": {
              "fillmode": "overlay",
              "size": 10,
              "solidity": 0.2
             }
            },
            "type": "barpolar"
           }
          ],
          "carpet": [
           {
            "aaxis": {
             "endlinecolor": "#2a3f5f",
             "gridcolor": "white",
             "linecolor": "white",
             "minorgridcolor": "white",
             "startlinecolor": "#2a3f5f"
            },
            "baxis": {
             "endlinecolor": "#2a3f5f",
             "gridcolor": "white",
             "linecolor": "white",
             "minorgridcolor": "white",
             "startlinecolor": "#2a3f5f"
            },
            "type": "carpet"
           }
          ],
          "choropleth": [
           {
            "colorbar": {
             "outlinewidth": 0,
             "ticks": ""
            },
            "type": "choropleth"
           }
          ],
          "contour": [
           {
            "colorbar": {
             "outlinewidth": 0,
             "ticks": ""
            },
            "colorscale": [
             [
              0,
              "#0d0887"
             ],
             [
              0.1111111111111111,
              "#46039f"
             ],
             [
              0.2222222222222222,
              "#7201a8"
             ],
             [
              0.3333333333333333,
              "#9c179e"
             ],
             [
              0.4444444444444444,
              "#bd3786"
             ],
             [
              0.5555555555555556,
              "#d8576b"
             ],
             [
              0.6666666666666666,
              "#ed7953"
             ],
             [
              0.7777777777777778,
              "#fb9f3a"
             ],
             [
              0.8888888888888888,
              "#fdca26"
             ],
             [
              1,
              "#f0f921"
             ]
            ],
            "type": "contour"
           }
          ],
          "contourcarpet": [
           {
            "colorbar": {
             "outlinewidth": 0,
             "ticks": ""
            },
            "type": "contourcarpet"
           }
          ],
          "heatmap": [
           {
            "colorbar": {
             "outlinewidth": 0,
             "ticks": ""
            },
            "colorscale": [
             [
              0,
              "#0d0887"
             ],
             [
              0.1111111111111111,
              "#46039f"
             ],
             [
              0.2222222222222222,
              "#7201a8"
             ],
             [
              0.3333333333333333,
              "#9c179e"
             ],
             [
              0.4444444444444444,
              "#bd3786"
             ],
             [
              0.5555555555555556,
              "#d8576b"
             ],
             [
              0.6666666666666666,
              "#ed7953"
             ],
             [
              0.7777777777777778,
              "#fb9f3a"
             ],
             [
              0.8888888888888888,
              "#fdca26"
             ],
             [
              1,
              "#f0f921"
             ]
            ],
            "type": "heatmap"
           }
          ],
          "heatmapgl": [
           {
            "colorbar": {
             "outlinewidth": 0,
             "ticks": ""
            },
            "colorscale": [
             [
              0,
              "#0d0887"
             ],
             [
              0.1111111111111111,
              "#46039f"
             ],
             [
              0.2222222222222222,
              "#7201a8"
             ],
             [
              0.3333333333333333,
              "#9c179e"
             ],
             [
              0.4444444444444444,
              "#bd3786"
             ],
             [
              0.5555555555555556,
              "#d8576b"
             ],
             [
              0.6666666666666666,
              "#ed7953"
             ],
             [
              0.7777777777777778,
              "#fb9f3a"
             ],
             [
              0.8888888888888888,
              "#fdca26"
             ],
             [
              1,
              "#f0f921"
             ]
            ],
            "type": "heatmapgl"
           }
          ],
          "histogram": [
           {
            "marker": {
             "pattern": {
              "fillmode": "overlay",
              "size": 10,
              "solidity": 0.2
             }
            },
            "type": "histogram"
           }
          ],
          "histogram2d": [
           {
            "colorbar": {
             "outlinewidth": 0,
             "ticks": ""
            },
            "colorscale": [
             [
              0,
              "#0d0887"
             ],
             [
              0.1111111111111111,
              "#46039f"
             ],
             [
              0.2222222222222222,
              "#7201a8"
             ],
             [
              0.3333333333333333,
              "#9c179e"
             ],
             [
              0.4444444444444444,
              "#bd3786"
             ],
             [
              0.5555555555555556,
              "#d8576b"
             ],
             [
              0.6666666666666666,
              "#ed7953"
             ],
             [
              0.7777777777777778,
              "#fb9f3a"
             ],
             [
              0.8888888888888888,
              "#fdca26"
             ],
             [
              1,
              "#f0f921"
             ]
            ],
            "type": "histogram2d"
           }
          ],
          "histogram2dcontour": [
           {
            "colorbar": {
             "outlinewidth": 0,
             "ticks": ""
            },
            "colorscale": [
             [
              0,
              "#0d0887"
             ],
             [
              0.1111111111111111,
              "#46039f"
             ],
             [
              0.2222222222222222,
              "#7201a8"
             ],
             [
              0.3333333333333333,
              "#9c179e"
             ],
             [
              0.4444444444444444,
              "#bd3786"
             ],
             [
              0.5555555555555556,
              "#d8576b"
             ],
             [
              0.6666666666666666,
              "#ed7953"
             ],
             [
              0.7777777777777778,
              "#fb9f3a"
             ],
             [
              0.8888888888888888,
              "#fdca26"
             ],
             [
              1,
              "#f0f921"
             ]
            ],
            "type": "histogram2dcontour"
           }
          ],
          "mesh3d": [
           {
            "colorbar": {
             "outlinewidth": 0,
             "ticks": ""
            },
            "type": "mesh3d"
           }
          ],
          "parcoords": [
           {
            "line": {
             "colorbar": {
              "outlinewidth": 0,
              "ticks": ""
             }
            },
            "type": "parcoords"
           }
          ],
          "pie": [
           {
            "automargin": true,
            "type": "pie"
           }
          ],
          "scatter": [
           {
            "fillpattern": {
             "fillmode": "overlay",
             "size": 10,
             "solidity": 0.2
            },
            "type": "scatter"
           }
          ],
          "scatter3d": [
           {
            "line": {
             "colorbar": {
              "outlinewidth": 0,
              "ticks": ""
             }
            },
            "marker": {
             "colorbar": {
              "outlinewidth": 0,
              "ticks": ""
             }
            },
            "type": "scatter3d"
           }
          ],
          "scattercarpet": [
           {
            "marker": {
             "colorbar": {
              "outlinewidth": 0,
              "ticks": ""
             }
            },
            "type": "scattercarpet"
           }
          ],
          "scattergeo": [
           {
            "marker": {
             "colorbar": {
              "outlinewidth": 0,
              "ticks": ""
             }
            },
            "type": "scattergeo"
           }
          ],
          "scattergl": [
           {
            "marker": {
             "colorbar": {
              "outlinewidth": 0,
              "ticks": ""
             }
            },
            "type": "scattergl"
           }
          ],
          "scattermapbox": [
           {
            "marker": {
             "colorbar": {
              "outlinewidth": 0,
              "ticks": ""
             }
            },
            "type": "scattermapbox"
           }
          ],
          "scatterpolar": [
           {
            "marker": {
             "colorbar": {
              "outlinewidth": 0,
              "ticks": ""
             }
            },
            "type": "scatterpolar"
           }
          ],
          "scatterpolargl": [
           {
            "marker": {
             "colorbar": {
              "outlinewidth": 0,
              "ticks": ""
             }
            },
            "type": "scatterpolargl"
           }
          ],
          "scatterternary": [
           {
            "marker": {
             "colorbar": {
              "outlinewidth": 0,
              "ticks": ""
             }
            },
            "type": "scatterternary"
           }
          ],
          "surface": [
           {
            "colorbar": {
             "outlinewidth": 0,
             "ticks": ""
            },
            "colorscale": [
             [
              0,
              "#0d0887"
             ],
             [
              0.1111111111111111,
              "#46039f"
             ],
             [
              0.2222222222222222,
              "#7201a8"
             ],
             [
              0.3333333333333333,
              "#9c179e"
             ],
             [
              0.4444444444444444,
              "#bd3786"
             ],
             [
              0.5555555555555556,
              "#d8576b"
             ],
             [
              0.6666666666666666,
              "#ed7953"
             ],
             [
              0.7777777777777778,
              "#fb9f3a"
             ],
             [
              0.8888888888888888,
              "#fdca26"
             ],
             [
              1,
              "#f0f921"
             ]
            ],
            "type": "surface"
           }
          ],
          "table": [
           {
            "cells": {
             "fill": {
              "color": "#EBF0F8"
             },
             "line": {
              "color": "white"
             }
            },
            "header": {
             "fill": {
              "color": "#C8D4E3"
             },
             "line": {
              "color": "white"
             }
            },
            "type": "table"
           }
          ]
         },
         "layout": {
          "annotationdefaults": {
           "arrowcolor": "#2a3f5f",
           "arrowhead": 0,
           "arrowwidth": 1
          },
          "autotypenumbers": "strict",
          "coloraxis": {
           "colorbar": {
            "outlinewidth": 0,
            "ticks": ""
           }
          },
          "colorscale": {
           "diverging": [
            [
             0,
             "#8e0152"
            ],
            [
             0.1,
             "#c51b7d"
            ],
            [
             0.2,
             "#de77ae"
            ],
            [
             0.3,
             "#f1b6da"
            ],
            [
             0.4,
             "#fde0ef"
            ],
            [
             0.5,
             "#f7f7f7"
            ],
            [
             0.6,
             "#e6f5d0"
            ],
            [
             0.7,
             "#b8e186"
            ],
            [
             0.8,
             "#7fbc41"
            ],
            [
             0.9,
             "#4d9221"
            ],
            [
             1,
             "#276419"
            ]
           ],
           "sequential": [
            [
             0,
             "#0d0887"
            ],
            [
             0.1111111111111111,
             "#46039f"
            ],
            [
             0.2222222222222222,
             "#7201a8"
            ],
            [
             0.3333333333333333,
             "#9c179e"
            ],
            [
             0.4444444444444444,
             "#bd3786"
            ],
            [
             0.5555555555555556,
             "#d8576b"
            ],
            [
             0.6666666666666666,
             "#ed7953"
            ],
            [
             0.7777777777777778,
             "#fb9f3a"
            ],
            [
             0.8888888888888888,
             "#fdca26"
            ],
            [
             1,
             "#f0f921"
            ]
           ],
           "sequentialminus": [
            [
             0,
             "#0d0887"
            ],
            [
             0.1111111111111111,
             "#46039f"
            ],
            [
             0.2222222222222222,
             "#7201a8"
            ],
            [
             0.3333333333333333,
             "#9c179e"
            ],
            [
             0.4444444444444444,
             "#bd3786"
            ],
            [
             0.5555555555555556,
             "#d8576b"
            ],
            [
             0.6666666666666666,
             "#ed7953"
            ],
            [
             0.7777777777777778,
             "#fb9f3a"
            ],
            [
             0.8888888888888888,
             "#fdca26"
            ],
            [
             1,
             "#f0f921"
            ]
           ]
          },
          "colorway": [
           "#636efa",
           "#EF553B",
           "#00cc96",
           "#ab63fa",
           "#FFA15A",
           "#19d3f3",
           "#FF6692",
           "#B6E880",
           "#FF97FF",
           "#FECB52"
          ],
          "font": {
           "color": "#2a3f5f"
          },
          "geo": {
           "bgcolor": "white",
           "lakecolor": "white",
           "landcolor": "#E5ECF6",
           "showlakes": true,
           "showland": true,
           "subunitcolor": "white"
          },
          "hoverlabel": {
           "align": "left"
          },
          "hovermode": "closest",
          "mapbox": {
           "style": "light"
          },
          "paper_bgcolor": "white",
          "plot_bgcolor": "#E5ECF6",
          "polar": {
           "angularaxis": {
            "gridcolor": "white",
            "linecolor": "white",
            "ticks": ""
           },
           "bgcolor": "#E5ECF6",
           "radialaxis": {
            "gridcolor": "white",
            "linecolor": "white",
            "ticks": ""
           }
          },
          "scene": {
           "xaxis": {
            "backgroundcolor": "#E5ECF6",
            "gridcolor": "white",
            "gridwidth": 2,
            "linecolor": "white",
            "showbackground": true,
            "ticks": "",
            "zerolinecolor": "white"
           },
           "yaxis": {
            "backgroundcolor": "#E5ECF6",
            "gridcolor": "white",
            "gridwidth": 2,
            "linecolor": "white",
            "showbackground": true,
            "ticks": "",
            "zerolinecolor": "white"
           },
           "zaxis": {
            "backgroundcolor": "#E5ECF6",
            "gridcolor": "white",
            "gridwidth": 2,
            "linecolor": "white",
            "showbackground": true,
            "ticks": "",
            "zerolinecolor": "white"
           }
          },
          "shapedefaults": {
           "line": {
            "color": "#2a3f5f"
           }
          },
          "ternary": {
           "aaxis": {
            "gridcolor": "white",
            "linecolor": "white",
            "ticks": ""
           },
           "baxis": {
            "gridcolor": "white",
            "linecolor": "white",
            "ticks": ""
           },
           "bgcolor": "#E5ECF6",
           "caxis": {
            "gridcolor": "white",
            "linecolor": "white",
            "ticks": ""
           }
          },
          "title": {
           "x": 0.05
          },
          "xaxis": {
           "automargin": true,
           "gridcolor": "white",
           "linecolor": "white",
           "ticks": "",
           "title": {
            "standoff": 15
           },
           "zerolinecolor": "white",
           "zerolinewidth": 2
          },
          "yaxis": {
           "automargin": true,
           "gridcolor": "white",
           "linecolor": "white",
           "ticks": "",
           "title": {
            "standoff": 15
           },
           "zerolinecolor": "white",
           "zerolinewidth": 2
          }
         }
        },
        "title": {
         "text": "Ticket Sales by Seat Category (Bar Chart)"
        },
        "xaxis": {
         "anchor": "y",
         "autorange": true,
         "categoryarray": [
          "VIP",
          "Regular",
          "Economy"
         ],
         "categoryorder": "array",
         "domain": [
          0,
          1
         ],
         "range": [
          -0.5,
          2.5
         ],
         "title": {
          "text": "Category"
         },
         "type": "category"
        },
        "yaxis": {
         "anchor": "x",
         "autorange": true,
         "domain": [
          0,
          1
         ],
         "range": [
          0,
          84.21052631578948
         ],
         "title": {
          "text": "Total Tickets Sold"
         },
         "type": "linear"
        }
       }
      },
      "image/png": "[encoded data removed]",
      "text/html": [
       "<div>                            <div id=\"f601fdf5-e50b-4143-adf4-a2ebbe59f476\" class=\"plotly-graph-div\" style=\"height:525px; width:100%;\"></div>            <script type=\"text/javascript\">                require([\"plotly\"], function(Plotly) {                    window.PLOTLYENV=window.PLOTLYENV || {};                                    if (document.getElementById(\"f601fdf5-e50b-4143-adf4-a2ebbe59f476\")) {                    Plotly.newPlot(                        \"f601fdf5-e50b-4143-adf4-a2ebbe59f476\",                        [{\"alignmentgroup\":\"True\",\"hovertemplate\":\"Category=%{x}\\u003cbr\\u003eTickets Sold=%{text}\\u003cextra\\u003e\\u003c\\u002fextra\\u003e\",\"legendgroup\":\"VIP\",\"marker\":{\"color\":\"#636efa\",\"pattern\":{\"shape\":\"\"}},\"name\":\"VIP\",\"offsetgroup\":\"VIP\",\"orientation\":\"v\",\"showlegend\":true,\"text\":[80.0],\"textposition\":\"outside\",\"x\":[\"VIP\"],\"xaxis\":\"x\",\"y\":[80],\"yaxis\":\"y\",\"type\":\"bar\",\"texttemplate\":\"%{text}\"},{\"alignmentgroup\":\"True\",\"hovertemplate\":\"Category=%{x}\\u003cbr\\u003eTickets Sold=%{text}\\u003cextra\\u003e\\u003c\\u002fextra\\u003e\",\"legendgroup\":\"Regular\",\"marker\":{\"color\":\"#EF553B\",\"pattern\":{\"shape\":\"\"}},\"name\":\"Regular\",\"offsetgroup\":\"Regular\",\"orientation\":\"v\",\"showlegend\":true,\"text\":[60.0],\"textposition\":\"outside\",\"x\":[\"Regular\"],\"xaxis\":\"x\",\"y\":[60],\"yaxis\":\"y\",\"type\":\"bar\",\"texttemplate\":\"%{text}\"},{\"alignmentgroup\":\"True\",\"hovertemplate\":\"Category=%{x}\\u003cbr\\u003eTickets Sold=%{text}\\u003cextra\\u003e\\u003c\\u002fextra\\u003e\",\"legendgroup\":\"Economy\",\"marker\":{\"color\":\"#00cc96\",\"pattern\":{\"shape\":\"\"}},\"name\":\"Economy\",\"offsetgroup\":\"Economy\",\"orientation\":\"v\",\"showlegend\":true,\"text\":[43.0],\"textposition\":\"outside\",\"x\":[\"Economy\"],\"xaxis\":\"x\",\"y\":[43],\"yaxis\":\"y\",\"type\":\"bar\",\"texttemplate\":\"%{text}\"}],                        {\"template\":{\"data\":{\"histogram2dcontour\":[{\"type\":\"histogram2dcontour\",\"colorbar\":{\"outlinewidth\":0,\"ticks\":\"\"},\"colorscale\":[[0.0,\"#0d0887\"],[0.1111111111111111,\"#46039f\"],[0.2222222222222222,\"#7201a8\"],[0.3333333333333333,\"#9c179e\"],[0.4444444444444444,\"#bd3786\"],[0.5555555555555556,\"#d8576b\"],[0.6666666666666666,\"#ed7953\"],[0.7777777777777778,\"#fb9f3a\"],[0.8888888888888888,\"#fdca26\"],[1.0,\"#f0f921\"]]}],\"choropleth\":[{\"type\":\"choropleth\",\"colorbar\":{\"outlinewidth\":0,\"ticks\":\"\"}}],\"histogram2d\":[{\"type\":\"histogram2d\",\"colorbar\":{\"outlinewidth\":0,\"ticks\":\"\"},\"colorscale\":[[0.0,\"#0d0887\"],[0.1111111111111111,\"#46039f\"],[0.2222222222222222,\"#7201a8\"],[0.3333333333333333,\"#9c179e\"],[0.4444444444444444,\"#bd3786\"],[0.5555555555555556,\"#d8576b\"],[0.6666666666666666,\"#ed7953\"],[0.7777777777777778,\"#fb9f3a\"],[0.8888888888888888,\"#fdca26\"],[1.0,\"#f0f921\"]]}],\"heatmap\":[{\"type\":\"heatmap\",\"colorbar\":{\"outlinewidth\":0,\"ticks\":\"\"},\"colorscale\":[[0.0,\"#0d0887\"],[0.1111111111111111,\"#46039f\"],[0.2222222222222222,\"#7201a8\"],[0.3333333333333333,\"#9c179e\"],[0.4444444444444444,\"#bd3786\"],[0.5555555555555556,\"#d8576b\"],[0.6666666666666666,\"#ed7953\"],[0.7777777777777778,\"#fb9f3a\"],[0.8888888888888888,\"#fdca26\"],[1.0,\"#f0f921\"]]}],\"heatmapgl\":[{\"type\":\"heatmapgl\",\"colorbar\":{\"outlinewidth\":0,\"ticks\":\"\"},\"colorscale\":[[0.0,\"#0d0887\"],[0.1111111111111111,\"#46039f\"],[0.2222222222222222,\"#7201a8\"],[0.3333333333333333,\"#9c179e\"],[0.4444444444444444,\"#bd3786\"],[0.5555555555555556,\"#d8576b\"],[0.6666666666666666,\"#ed7953\"],[0.7777777777777778,\"#fb9f3a\"],[0.8888888888888888,\"#fdca26\"],[1.0,\"#f0f921\"]]}],\"contourcarpet\":[{\"type\":\"contourcarpet\",\"colorbar\":{\"outlinewidth\":0,\"ticks\":\"\"}}],\"contour\":[{\"type\":\"contour\",\"colorbar\":{\"outlinewidth\":0,\"ticks\":\"\"},\"colorscale\":[[0.0,\"#0d0887\"],[0.1111111111111111,\"#46039f\"],[0.2222222222222222,\"#7201a8\"],[0.3333333333333333,\"#9c179e\"],[0.4444444444444444,\"#bd3786\"],[0.5555555555555556,\"#d8576b\"],[0.6666666666666666,\"#ed7953\"],[0.7777777777777778,\"#fb9f3a\"],[0.8888888888888888,\"#fdca26\"],[1.0,\"#f0f921\"]]}],\"surface\":[{\"type\":\"surface\",\"colorbar\":{\"outlinewidth\":0,\"ticks\":\"\"},\"colorscale\":[[0.0,\"#0d0887\"],[0.1111111111111111,\"#46039f\"],[0.2222222222222222,\"#7201a8\"],[0.3333333333333333,\"#9c179e\"],[0.4444444444444444,\"#bd3786\"],[0.5555555555555556,\"#d8576b\"],[0.6666666666666666,\"#ed7953\"],[0.7777777777777778,\"#fb9f3a\"],[0.8888888888888888,\"#fdca26\"],[1.0,\"#f0f921\"]]}],\"mesh3d\":[{\"type\":\"mesh3d\",\"colorbar\":{\"outlinewidth\":0,\"ticks\":\"\"}}],\"scatter\":[{\"fillpattern\":{\"fillmode\":\"overlay\",\"size\":10,\"solidity\":0.2},\"type\":\"scatter\"}],\"parcoords\":[{\"type\":\"parcoords\",\"line\":{\"colorbar\":{\"outlinewidth\":0,\"ticks\":\"\"}}}],\"scatterpolargl\":[{\"type\":\"scatterpolargl\",\"marker\":{\"colorbar\":{\"outlinewidth\":0,\"ticks\":\"\"}}}],\"bar\":[{\"error_x\":{\"color\":\"#2a3f5f\"},\"error_y\":{\"color\":\"#2a3f5f\"},\"marker\":{\"line\":{\"color\":\"#E5ECF6\",\"width\":0.5},\"pattern\":{\"fillmode\":\"overlay\",\"size\":10,\"solidity\":0.2}},\"type\":\"bar\"}],\"scattergeo\":[{\"type\":\"scattergeo\",\"marker\":{\"colorbar\":{\"outlinewidth\":0,\"ticks\":\"\"}}}],\"scatterpolar\":[{\"type\":\"scatterpolar\",\"marker\":{\"colorbar\":{\"outlinewidth\":0,\"ticks\":\"\"}}}],\"histogram\":[{\"marker\":{\"pattern\":{\"fillmode\":\"overlay\",\"size\":10,\"solidity\":0.2}},\"type\":\"histogram\"}],\"scattergl\":[{\"type\":\"scattergl\",\"marker\":{\"colorbar\":{\"outlinewidth\":0,\"ticks\":\"\"}}}],\"scatter3d\":[{\"type\":\"scatter3d\",\"line\":{\"colorbar\":{\"outlinewidth\":0,\"ticks\":\"\"}},\"marker\":{\"colorbar\":{\"outlinewidth\":0,\"ticks\":\"\"}}}],\"scattermapbox\":[{\"type\":\"scattermapbox\",\"marker\":{\"colorbar\":{\"outlinewidth\":0,\"ticks\":\"\"}}}],\"scatterternary\":[{\"type\":\"scatterternary\",\"marker\":{\"colorbar\":{\"outlinewidth\":0,\"ticks\":\"\"}}}],\"scattercarpet\":[{\"type\":\"scattercarpet\",\"marker\":{\"colorbar\":{\"outlinewidth\":0,\"ticks\":\"\"}}}],\"carpet\":[{\"aaxis\":{\"endlinecolor\":\"#2a3f5f\",\"gridcolor\":\"white\",\"linecolor\":\"white\",\"minorgridcolor\":\"white\",\"startlinecolor\":\"#2a3f5f\"},\"baxis\":{\"endlinecolor\":\"#2a3f5f\",\"gridcolor\":\"white\",\"linecolor\":\"white\",\"minorgridcolor\":\"white\",\"startlinecolor\":\"#2a3f5f\"},\"type\":\"carpet\"}],\"table\":[{\"cells\":{\"fill\":{\"color\":\"#EBF0F8\"},\"line\":{\"color\":\"white\"}},\"header\":{\"fill\":{\"color\":\"#C8D4E3\"},\"line\":{\"color\":\"white\"}},\"type\":\"table\"}],\"barpolar\":[{\"marker\":{\"line\":{\"color\":\"#E5ECF6\",\"width\":0.5},\"pattern\":{\"fillmode\":\"overlay\",\"size\":10,\"solidity\":0.2}},\"type\":\"barpolar\"}],\"pie\":[{\"automargin\":true,\"type\":\"pie\"}]},\"layout\":{\"autotypenumbers\":\"strict\",\"colorway\":[\"#636efa\",\"#EF553B\",\"#00cc96\",\"#ab63fa\",\"#FFA15A\",\"#19d3f3\",\"#FF6692\",\"#B6E880\",\"#FF97FF\",\"#FECB52\"],\"font\":{\"color\":\"#2a3f5f\"},\"hovermode\":\"closest\",\"hoverlabel\":{\"align\":\"left\"},\"paper_bgcolor\":\"white\",\"plot_bgcolor\":\"#E5ECF6\",\"polar\":{\"bgcolor\":\"#E5ECF6\",\"angularaxis\":{\"gridcolor\":\"white\",\"linecolor\":\"white\",\"ticks\":\"\"},\"radialaxis\":{\"gridcolor\":\"white\",\"linecolor\":\"white\",\"ticks\":\"\"}},\"ternary\":{\"bgcolor\":\"#E5ECF6\",\"aaxis\":{\"gridcolor\":\"white\",\"linecolor\":\"white\",\"ticks\":\"\"},\"baxis\":{\"gridcolor\":\"white\",\"linecolor\":\"white\",\"ticks\":\"\"},\"caxis\":{\"gridcolor\":\"white\",\"linecolor\":\"white\",\"ticks\":\"\"}},\"coloraxis\":{\"colorbar\":{\"outlinewidth\":0,\"ticks\":\"\"}},\"colorscale\":{\"sequential\":[[0.0,\"#0d0887\"],[0.1111111111111111,\"#46039f\"],[0.2222222222222222,\"#7201a8\"],[0.3333333333333333,\"#9c179e\"],[0.4444444444444444,\"#bd3786\"],[0.5555555555555556,\"#d8576b\"],[0.6666666666666666,\"#ed7953\"],[0.7777777777777778,\"#fb9f3a\"],[0.8888888888888888,\"#fdca26\"],[1.0,\"#f0f921\"]],\"sequentialminus\":[[0.0,\"#0d0887\"],[0.1111111111111111,\"#46039f\"],[0.2222222222222222,\"#7201a8\"],[0.3333333333333333,\"#9c179e\"],[0.4444444444444444,\"#bd3786\"],[0.5555555555555556,\"#d8576b\"],[0.6666666666666666,\"#ed7953\"],[0.7777777777777778,\"#fb9f3a\"],[0.8888888888888888,\"#fdca26\"],[1.0,\"#f0f921\"]],\"diverging\":[[0,\"#8e0152\"],[0.1,\"#c51b7d\"],[0.2,\"#de77ae\"],[0.3,\"#f1b6da\"],[0.4,\"#fde0ef\"],[0.5,\"#f7f7f7\"],[0.6,\"#e6f5d0\"],[0.7,\"#b8e186\"],[0.8,\"#7fbc41\"],[0.9,\"#4d9221\"],[1,\"#276419\"]]},\"xaxis\":{\"gridcolor\":\"white\",\"linecolor\":\"white\",\"ticks\":\"\",\"title\":{\"standoff\":15},\"zerolinecolor\":\"white\",\"automargin\":true,\"zerolinewidth\":2},\"yaxis\":{\"gridcolor\":\"white\",\"linecolor\":\"white\",\"ticks\":\"\",\"title\":{\"standoff\":15},\"zerolinecolor\":\"white\",\"automargin\":true,\"zerolinewidth\":2},\"scene\":{\"xaxis\":{\"backgroundcolor\":\"#E5ECF6\",\"gridcolor\":\"white\",\"linecolor\":\"white\",\"showbackground\":true,\"ticks\":\"\",\"zerolinecolor\":\"white\",\"gridwidth\":2},\"yaxis\":{\"backgroundcolor\":\"#E5ECF6\",\"gridcolor\":\"white\",\"linecolor\":\"white\",\"showbackground\":true,\"ticks\":\"\",\"zerolinecolor\":\"white\",\"gridwidth\":2},\"zaxis\":{\"backgroundcolor\":\"#E5ECF6\",\"gridcolor\":\"white\",\"linecolor\":\"white\",\"showbackground\":true,\"ticks\":\"\",\"zerolinecolor\":\"white\",\"gridwidth\":2}},\"shapedefaults\":{\"line\":{\"color\":\"#2a3f5f\"}},\"annotationdefaults\":{\"arrowcolor\":\"#2a3f5f\",\"arrowhead\":0,\"arrowwidth\":1},\"geo\":{\"bgcolor\":\"white\",\"landcolor\":\"#E5ECF6\",\"subunitcolor\":\"white\",\"showland\":true,\"showlakes\":true,\"lakecolor\":\"white\"},\"title\":{\"x\":0.05},\"mapbox\":{\"style\":\"light\"}}},\"xaxis\":{\"anchor\":\"y\",\"domain\":[0.0,1.0],\"title\":{\"text\":\"Category\"},\"categoryorder\":\"array\",\"categoryarray\":[\"VIP\",\"Regular\",\"Economy\"]},\"yaxis\":{\"anchor\":\"x\",\"domain\":[0.0,1.0],\"title\":{\"text\":\"Total Tickets Sold\"}},\"legend\":{\"title\":{\"text\":\"Category\"},\"tracegroupgap\":0},\"title\":{\"text\":\"Ticket Sales by Seat Category (Bar Chart)\"},\"barmode\":\"relative\"},                        {\"responsive\": true}                    ).then(function(){\n",
       "                            \n",
       "var gd = document.getElementById('f601fdf5-e50b-4143-adf4-a2ebbe59f476');\n",
       "var x = new MutationObserver(function (mutations, observer) {{\n",
       "        var display = window.getComputedStyle(gd).display;\n",
       "        if (!display || display === 'none') {{\n",
       "            console.log([gd, 'removed!']);\n",
       "            Plotly.purge(gd);\n",
       "            observer.disconnect();\n",
       "        }}\n",
       "}});\n",
       "\n",
       "// Listen for the removal of the full notebook cells\n",
       "var notebookContainer = gd.closest('#notebook-container');\n",
       "if (notebookContainer) {{\n",
       "    x.observe(notebookContainer, {childList: true});\n",
       "}}\n",
       "\n",
       "// Listen for the clearing of the current output cell\n",
       "var outputEl = gd.closest('.output');\n",
       "if (outputEl) {{\n",
       "    x.observe(outputEl, {childList: true});\n",
       "}}\n",
       "\n",
       "                        })                };                });            </script>        </div>"
      ]
     },
     "metadata": {},
     "output_type": "display_data"
    }
   ],
   "source": [
    "# Ticket Sales by Category\n",
    "sales_category = \"\"\"\n",
    "    SELECT \n",
    "        S.Category,\n",
    "        COUNT(BS.SeatID) AS TicketsSold\n",
    "    FROM BookingSeat BS\n",
    "    JOIN Seat S ON BS.SeatID = S.SeatID\n",
    "    GROUP BY S.Category\n",
    "    ORDER BY TicketsSold DESC;\n",
    "\"\"\"\n",
    "\n",
    "# Fetch Data\n",
    "sales_category_df = run_query(sales_category)\n",
    "\n",
    "# Rename columns\n",
    "sales_category_df.columns = [\"Category\", \"Tickets Sold\"]\n",
    "\n",
    "# 🔹 Pie Chart\n",
    "sales_fig_pie = px.pie(\n",
    "    sales_category_df,\n",
    "    names=\"Category\",\n",
    "    values=\"Tickets Sold\",\n",
    "    title=\"Ticket Sales by Seat Category\",\n",
    "    hole=0.3  # Adjust for a donut chart effect\n",
    ")\n",
    "\n",
    "# Show Pie Chart\n",
    "sales_fig_pie.show()\n",
    "\n",
    "# 🔹 Bar Chart\n",
    "sales_fig_bar = px.bar(\n",
    "    sales_category_df,\n",
    "    x=\"Category\",\n",
    "    y=\"Tickets Sold\",\n",
    "    text=\"Tickets Sold\",\n",
    "    title=\"Ticket Sales by Seat Category (Bar Chart)\",\n",
    "    color=\"Category\"\n",
    ")\n",
    "\n",
    "# Format text labels and layout\n",
    "sales_fig_bar.update_traces(texttemplate=\"%{text}\", textposition=\"outside\")\n",
    "sales_fig_bar.update_layout(yaxis=dict(title=\"Total Tickets Sold\"), xaxis=dict(title=\"Category\"))\n",
    "\n",
    "# Show Bar Chart\n",
    "sales_fig_bar.show()"
   ]
  },
  {
   "cell_type": "markdown",
   "metadata": {},
   "source": [
    "#### - User Type Distribution : \n",
    "A pie chart depicting the proportion of Individual Customers, Corporate Customers, and Organizers."
   ]
  },
  {
   "cell_type": "code",
   "execution_count": 300,
   "metadata": {
    "id": "q99eh17Qgecc"
   },
   "outputs": [
    {
     "data": {
      "application/vnd.plotly.v1+json": {
       "config": {
        "plotlyServerURL": "https://plot.ly"
       },
       "data": [
        {
         "domain": {
          "x": [
           0,
           1
          ],
          "y": [
           0,
           1
          ]
         },
         "hole": 0.3,
         "hovertemplate": "UserType=%{label}<br>UserCount=%{value}<extra></extra>",
         "labels": [
          "Individual",
          "Organizer",
          "Company"
         ],
         "legendgroup": "",
         "name": "",
         "showlegend": true,
         "type": "pie",
         "values": [
          20,
          20,
          17
         ]
        }
       ],
       "layout": {
        "autosize": true,
        "legend": {
         "tracegroupgap": 0
        },
        "template": {
         "data": {
          "bar": [
           {
            "error_x": {
             "color": "#2a3f5f"
            },
            "error_y": {
             "color": "#2a3f5f"
            },
            "marker": {
             "line": {
              "color": "#E5ECF6",
              "width": 0.5
             },
             "pattern": {
              "fillmode": "overlay",
              "size": 10,
              "solidity": 0.2
             }
            },
            "type": "bar"
           }
          ],
          "barpolar": [
           {
            "marker": {
             "line": {
              "color": "#E5ECF6",
              "width": 0.5
             },
             "pattern": {
              "fillmode": "overlay",
              "size": 10,
              "solidity": 0.2
             }
            },
            "type": "barpolar"
           }
          ],
          "carpet": [
           {
            "aaxis": {
             "endlinecolor": "#2a3f5f",
             "gridcolor": "white",
             "linecolor": "white",
             "minorgridcolor": "white",
             "startlinecolor": "#2a3f5f"
            },
            "baxis": {
             "endlinecolor": "#2a3f5f",
             "gridcolor": "white",
             "linecolor": "white",
             "minorgridcolor": "white",
             "startlinecolor": "#2a3f5f"
            },
            "type": "carpet"
           }
          ],
          "choropleth": [
           {
            "colorbar": {
             "outlinewidth": 0,
             "ticks": ""
            },
            "type": "choropleth"
           }
          ],
          "contour": [
           {
            "colorbar": {
             "outlinewidth": 0,
             "ticks": ""
            },
            "colorscale": [
             [
              0,
              "#0d0887"
             ],
             [
              0.1111111111111111,
              "#46039f"
             ],
             [
              0.2222222222222222,
              "#7201a8"
             ],
             [
              0.3333333333333333,
              "#9c179e"
             ],
             [
              0.4444444444444444,
              "#bd3786"
             ],
             [
              0.5555555555555556,
              "#d8576b"
             ],
             [
              0.6666666666666666,
              "#ed7953"
             ],
             [
              0.7777777777777778,
              "#fb9f3a"
             ],
             [
              0.8888888888888888,
              "#fdca26"
             ],
             [
              1,
              "#f0f921"
             ]
            ],
            "type": "contour"
           }
          ],
          "contourcarpet": [
           {
            "colorbar": {
             "outlinewidth": 0,
             "ticks": ""
            },
            "type": "contourcarpet"
           }
          ],
          "heatmap": [
           {
            "colorbar": {
             "outlinewidth": 0,
             "ticks": ""
            },
            "colorscale": [
             [
              0,
              "#0d0887"
             ],
             [
              0.1111111111111111,
              "#46039f"
             ],
             [
              0.2222222222222222,
              "#7201a8"
             ],
             [
              0.3333333333333333,
              "#9c179e"
             ],
             [
              0.4444444444444444,
              "#bd3786"
             ],
             [
              0.5555555555555556,
              "#d8576b"
             ],
             [
              0.6666666666666666,
              "#ed7953"
             ],
             [
              0.7777777777777778,
              "#fb9f3a"
             ],
             [
              0.8888888888888888,
              "#fdca26"
             ],
             [
              1,
              "#f0f921"
             ]
            ],
            "type": "heatmap"
           }
          ],
          "heatmapgl": [
           {
            "colorbar": {
             "outlinewidth": 0,
             "ticks": ""
            },
            "colorscale": [
             [
              0,
              "#0d0887"
             ],
             [
              0.1111111111111111,
              "#46039f"
             ],
             [
              0.2222222222222222,
              "#7201a8"
             ],
             [
              0.3333333333333333,
              "#9c179e"
             ],
             [
              0.4444444444444444,
              "#bd3786"
             ],
             [
              0.5555555555555556,
              "#d8576b"
             ],
             [
              0.6666666666666666,
              "#ed7953"
             ],
             [
              0.7777777777777778,
              "#fb9f3a"
             ],
             [
              0.8888888888888888,
              "#fdca26"
             ],
             [
              1,
              "#f0f921"
             ]
            ],
            "type": "heatmapgl"
           }
          ],
          "histogram": [
           {
            "marker": {
             "pattern": {
              "fillmode": "overlay",
              "size": 10,
              "solidity": 0.2
             }
            },
            "type": "histogram"
           }
          ],
          "histogram2d": [
           {
            "colorbar": {
             "outlinewidth": 0,
             "ticks": ""
            },
            "colorscale": [
             [
              0,
              "#0d0887"
             ],
             [
              0.1111111111111111,
              "#46039f"
             ],
             [
              0.2222222222222222,
              "#7201a8"
             ],
             [
              0.3333333333333333,
              "#9c179e"
             ],
             [
              0.4444444444444444,
              "#bd3786"
             ],
             [
              0.5555555555555556,
              "#d8576b"
             ],
             [
              0.6666666666666666,
              "#ed7953"
             ],
             [
              0.7777777777777778,
              "#fb9f3a"
             ],
             [
              0.8888888888888888,
              "#fdca26"
             ],
             [
              1,
              "#f0f921"
             ]
            ],
            "type": "histogram2d"
           }
          ],
          "histogram2dcontour": [
           {
            "colorbar": {
             "outlinewidth": 0,
             "ticks": ""
            },
            "colorscale": [
             [
              0,
              "#0d0887"
             ],
             [
              0.1111111111111111,
              "#46039f"
             ],
             [
              0.2222222222222222,
              "#7201a8"
             ],
             [
              0.3333333333333333,
              "#9c179e"
             ],
             [
              0.4444444444444444,
              "#bd3786"
             ],
             [
              0.5555555555555556,
              "#d8576b"
             ],
             [
              0.6666666666666666,
              "#ed7953"
             ],
             [
              0.7777777777777778,
              "#fb9f3a"
             ],
             [
              0.8888888888888888,
              "#fdca26"
             ],
             [
              1,
              "#f0f921"
             ]
            ],
            "type": "histogram2dcontour"
           }
          ],
          "mesh3d": [
           {
            "colorbar": {
             "outlinewidth": 0,
             "ticks": ""
            },
            "type": "mesh3d"
           }
          ],
          "parcoords": [
           {
            "line": {
             "colorbar": {
              "outlinewidth": 0,
              "ticks": ""
             }
            },
            "type": "parcoords"
           }
          ],
          "pie": [
           {
            "automargin": true,
            "type": "pie"
           }
          ],
          "scatter": [
           {
            "fillpattern": {
             "fillmode": "overlay",
             "size": 10,
             "solidity": 0.2
            },
            "type": "scatter"
           }
          ],
          "scatter3d": [
           {
            "line": {
             "colorbar": {
              "outlinewidth": 0,
              "ticks": ""
             }
            },
            "marker": {
             "colorbar": {
              "outlinewidth": 0,
              "ticks": ""
             }
            },
            "type": "scatter3d"
           }
          ],
          "scattercarpet": [
           {
            "marker": {
             "colorbar": {
              "outlinewidth": 0,
              "ticks": ""
             }
            },
            "type": "scattercarpet"
           }
          ],
          "scattergeo": [
           {
            "marker": {
             "colorbar": {
              "outlinewidth": 0,
              "ticks": ""
             }
            },
            "type": "scattergeo"
           }
          ],
          "scattergl": [
           {
            "marker": {
             "colorbar": {
              "outlinewidth": 0,
              "ticks": ""
             }
            },
            "type": "scattergl"
           }
          ],
          "scattermapbox": [
           {
            "marker": {
             "colorbar": {
              "outlinewidth": 0,
              "ticks": ""
             }
            },
            "type": "scattermapbox"
           }
          ],
          "scatterpolar": [
           {
            "marker": {
             "colorbar": {
              "outlinewidth": 0,
              "ticks": ""
             }
            },
            "type": "scatterpolar"
           }
          ],
          "scatterpolargl": [
           {
            "marker": {
             "colorbar": {
              "outlinewidth": 0,
              "ticks": ""
             }
            },
            "type": "scatterpolargl"
           }
          ],
          "scatterternary": [
           {
            "marker": {
             "colorbar": {
              "outlinewidth": 0,
              "ticks": ""
             }
            },
            "type": "scatterternary"
           }
          ],
          "surface": [
           {
            "colorbar": {
             "outlinewidth": 0,
             "ticks": ""
            },
            "colorscale": [
             [
              0,
              "#0d0887"
             ],
             [
              0.1111111111111111,
              "#46039f"
             ],
             [
              0.2222222222222222,
              "#7201a8"
             ],
             [
              0.3333333333333333,
              "#9c179e"
             ],
             [
              0.4444444444444444,
              "#bd3786"
             ],
             [
              0.5555555555555556,
              "#d8576b"
             ],
             [
              0.6666666666666666,
              "#ed7953"
             ],
             [
              0.7777777777777778,
              "#fb9f3a"
             ],
             [
              0.8888888888888888,
              "#fdca26"
             ],
             [
              1,
              "#f0f921"
             ]
            ],
            "type": "surface"
           }
          ],
          "table": [
           {
            "cells": {
             "fill": {
              "color": "#EBF0F8"
             },
             "line": {
              "color": "white"
             }
            },
            "header": {
             "fill": {
              "color": "#C8D4E3"
             },
             "line": {
              "color": "white"
             }
            },
            "type": "table"
           }
          ]
         },
         "layout": {
          "annotationdefaults": {
           "arrowcolor": "#2a3f5f",
           "arrowhead": 0,
           "arrowwidth": 1
          },
          "autotypenumbers": "strict",
          "coloraxis": {
           "colorbar": {
            "outlinewidth": 0,
            "ticks": ""
           }
          },
          "colorscale": {
           "diverging": [
            [
             0,
             "#8e0152"
            ],
            [
             0.1,
             "#c51b7d"
            ],
            [
             0.2,
             "#de77ae"
            ],
            [
             0.3,
             "#f1b6da"
            ],
            [
             0.4,
             "#fde0ef"
            ],
            [
             0.5,
             "#f7f7f7"
            ],
            [
             0.6,
             "#e6f5d0"
            ],
            [
             0.7,
             "#b8e186"
            ],
            [
             0.8,
             "#7fbc41"
            ],
            [
             0.9,
             "#4d9221"
            ],
            [
             1,
             "#276419"
            ]
           ],
           "sequential": [
            [
             0,
             "#0d0887"
            ],
            [
             0.1111111111111111,
             "#46039f"
            ],
            [
             0.2222222222222222,
             "#7201a8"
            ],
            [
             0.3333333333333333,
             "#9c179e"
            ],
            [
             0.4444444444444444,
             "#bd3786"
            ],
            [
             0.5555555555555556,
             "#d8576b"
            ],
            [
             0.6666666666666666,
             "#ed7953"
            ],
            [
             0.7777777777777778,
             "#fb9f3a"
            ],
            [
             0.8888888888888888,
             "#fdca26"
            ],
            [
             1,
             "#f0f921"
            ]
           ],
           "sequentialminus": [
            [
             0,
             "#0d0887"
            ],
            [
             0.1111111111111111,
             "#46039f"
            ],
            [
             0.2222222222222222,
             "#7201a8"
            ],
            [
             0.3333333333333333,
             "#9c179e"
            ],
            [
             0.4444444444444444,
             "#bd3786"
            ],
            [
             0.5555555555555556,
             "#d8576b"
            ],
            [
             0.6666666666666666,
             "#ed7953"
            ],
            [
             0.7777777777777778,
             "#fb9f3a"
            ],
            [
             0.8888888888888888,
             "#fdca26"
            ],
            [
             1,
             "#f0f921"
            ]
           ]
          },
          "colorway": [
           "#636efa",
           "#EF553B",
           "#00cc96",
           "#ab63fa",
           "#FFA15A",
           "#19d3f3",
           "#FF6692",
           "#B6E880",
           "#FF97FF",
           "#FECB52"
          ],
          "font": {
           "color": "#2a3f5f"
          },
          "geo": {
           "bgcolor": "white",
           "lakecolor": "white",
           "landcolor": "#E5ECF6",
           "showlakes": true,
           "showland": true,
           "subunitcolor": "white"
          },
          "hoverlabel": {
           "align": "left"
          },
          "hovermode": "closest",
          "mapbox": {
           "style": "light"
          },
          "paper_bgcolor": "white",
          "plot_bgcolor": "#E5ECF6",
          "polar": {
           "angularaxis": {
            "gridcolor": "white",
            "linecolor": "white",
            "ticks": ""
           },
           "bgcolor": "#E5ECF6",
           "radialaxis": {
            "gridcolor": "white",
            "linecolor": "white",
            "ticks": ""
           }
          },
          "scene": {
           "xaxis": {
            "backgroundcolor": "#E5ECF6",
            "gridcolor": "white",
            "gridwidth": 2,
            "linecolor": "white",
            "showbackground": true,
            "ticks": "",
            "zerolinecolor": "white"
           },
           "yaxis": {
            "backgroundcolor": "#E5ECF6",
            "gridcolor": "white",
            "gridwidth": 2,
            "linecolor": "white",
            "showbackground": true,
            "ticks": "",
            "zerolinecolor": "white"
           },
           "zaxis": {
            "backgroundcolor": "#E5ECF6",
            "gridcolor": "white",
            "gridwidth": 2,
            "linecolor": "white",
            "showbackground": true,
            "ticks": "",
            "zerolinecolor": "white"
           }
          },
          "shapedefaults": {
           "line": {
            "color": "#2a3f5f"
           }
          },
          "ternary": {
           "aaxis": {
            "gridcolor": "white",
            "linecolor": "white",
            "ticks": ""
           },
           "baxis": {
            "gridcolor": "white",
            "linecolor": "white",
            "ticks": ""
           },
           "bgcolor": "#E5ECF6",
           "caxis": {
            "gridcolor": "white",
            "linecolor": "white",
            "ticks": ""
           }
          },
          "title": {
           "x": 0.05
          },
          "xaxis": {
           "automargin": true,
           "gridcolor": "white",
           "linecolor": "white",
           "ticks": "",
           "title": {
            "standoff": 15
           },
           "zerolinecolor": "white",
           "zerolinewidth": 2
          },
          "yaxis": {
           "automargin": true,
           "gridcolor": "white",
           "linecolor": "white",
           "ticks": "",
           "title": {
            "standoff": 15
           },
           "zerolinecolor": "white",
           "zerolinewidth": 2
          }
         }
        },
        "title": {
         "text": "User Type Distribution"
        }
       }
      },
      "image/png": "[encoded data removed]",
      "text/html": [
       "<div>                            <div id=\"239ef7eb-12de-460c-b50a-87c0c050b84b\" class=\"plotly-graph-div\" style=\"height:525px; width:100%;\"></div>            <script type=\"text/javascript\">                require([\"plotly\"], function(Plotly) {                    window.PLOTLYENV=window.PLOTLYENV || {};                                    if (document.getElementById(\"239ef7eb-12de-460c-b50a-87c0c050b84b\")) {                    Plotly.newPlot(                        \"239ef7eb-12de-460c-b50a-87c0c050b84b\",                        [{\"domain\":{\"x\":[0.0,1.0],\"y\":[0.0,1.0]},\"hole\":0.3,\"hovertemplate\":\"UserType=%{label}\\u003cbr\\u003eUserCount=%{value}\\u003cextra\\u003e\\u003c\\u002fextra\\u003e\",\"labels\":[\"Individual\",\"Organizer\",\"Company\"],\"legendgroup\":\"\",\"name\":\"\",\"showlegend\":true,\"values\":[20,20,17],\"type\":\"pie\"}],                        {\"template\":{\"data\":{\"histogram2dcontour\":[{\"type\":\"histogram2dcontour\",\"colorbar\":{\"outlinewidth\":0,\"ticks\":\"\"},\"colorscale\":[[0.0,\"#0d0887\"],[0.1111111111111111,\"#46039f\"],[0.2222222222222222,\"#7201a8\"],[0.3333333333333333,\"#9c179e\"],[0.4444444444444444,\"#bd3786\"],[0.5555555555555556,\"#d8576b\"],[0.6666666666666666,\"#ed7953\"],[0.7777777777777778,\"#fb9f3a\"],[0.8888888888888888,\"#fdca26\"],[1.0,\"#f0f921\"]]}],\"choropleth\":[{\"type\":\"choropleth\",\"colorbar\":{\"outlinewidth\":0,\"ticks\":\"\"}}],\"histogram2d\":[{\"type\":\"histogram2d\",\"colorbar\":{\"outlinewidth\":0,\"ticks\":\"\"},\"colorscale\":[[0.0,\"#0d0887\"],[0.1111111111111111,\"#46039f\"],[0.2222222222222222,\"#7201a8\"],[0.3333333333333333,\"#9c179e\"],[0.4444444444444444,\"#bd3786\"],[0.5555555555555556,\"#d8576b\"],[0.6666666666666666,\"#ed7953\"],[0.7777777777777778,\"#fb9f3a\"],[0.8888888888888888,\"#fdca26\"],[1.0,\"#f0f921\"]]}],\"heatmap\":[{\"type\":\"heatmap\",\"colorbar\":{\"outlinewidth\":0,\"ticks\":\"\"},\"colorscale\":[[0.0,\"#0d0887\"],[0.1111111111111111,\"#46039f\"],[0.2222222222222222,\"#7201a8\"],[0.3333333333333333,\"#9c179e\"],[0.4444444444444444,\"#bd3786\"],[0.5555555555555556,\"#d8576b\"],[0.6666666666666666,\"#ed7953\"],[0.7777777777777778,\"#fb9f3a\"],[0.8888888888888888,\"#fdca26\"],[1.0,\"#f0f921\"]]}],\"heatmapgl\":[{\"type\":\"heatmapgl\",\"colorbar\":{\"outlinewidth\":0,\"ticks\":\"\"},\"colorscale\":[[0.0,\"#0d0887\"],[0.1111111111111111,\"#46039f\"],[0.2222222222222222,\"#7201a8\"],[0.3333333333333333,\"#9c179e\"],[0.4444444444444444,\"#bd3786\"],[0.5555555555555556,\"#d8576b\"],[0.6666666666666666,\"#ed7953\"],[0.7777777777777778,\"#fb9f3a\"],[0.8888888888888888,\"#fdca26\"],[1.0,\"#f0f921\"]]}],\"contourcarpet\":[{\"type\":\"contourcarpet\",\"colorbar\":{\"outlinewidth\":0,\"ticks\":\"\"}}],\"contour\":[{\"type\":\"contour\",\"colorbar\":{\"outlinewidth\":0,\"ticks\":\"\"},\"colorscale\":[[0.0,\"#0d0887\"],[0.1111111111111111,\"#46039f\"],[0.2222222222222222,\"#7201a8\"],[0.3333333333333333,\"#9c179e\"],[0.4444444444444444,\"#bd3786\"],[0.5555555555555556,\"#d8576b\"],[0.6666666666666666,\"#ed7953\"],[0.7777777777777778,\"#fb9f3a\"],[0.8888888888888888,\"#fdca26\"],[1.0,\"#f0f921\"]]}],\"surface\":[{\"type\":\"surface\",\"colorbar\":{\"outlinewidth\":0,\"ticks\":\"\"},\"colorscale\":[[0.0,\"#0d0887\"],[0.1111111111111111,\"#46039f\"],[0.2222222222222222,\"#7201a8\"],[0.3333333333333333,\"#9c179e\"],[0.4444444444444444,\"#bd3786\"],[0.5555555555555556,\"#d8576b\"],[0.6666666666666666,\"#ed7953\"],[0.7777777777777778,\"#fb9f3a\"],[0.8888888888888888,\"#fdca26\"],[1.0,\"#f0f921\"]]}],\"mesh3d\":[{\"type\":\"mesh3d\",\"colorbar\":{\"outlinewidth\":0,\"ticks\":\"\"}}],\"scatter\":[{\"fillpattern\":{\"fillmode\":\"overlay\",\"size\":10,\"solidity\":0.2},\"type\":\"scatter\"}],\"parcoords\":[{\"type\":\"parcoords\",\"line\":{\"colorbar\":{\"outlinewidth\":0,\"ticks\":\"\"}}}],\"scatterpolargl\":[{\"type\":\"scatterpolargl\",\"marker\":{\"colorbar\":{\"outlinewidth\":0,\"ticks\":\"\"}}}],\"bar\":[{\"error_x\":{\"color\":\"#2a3f5f\"},\"error_y\":{\"color\":\"#2a3f5f\"},\"marker\":{\"line\":{\"color\":\"#E5ECF6\",\"width\":0.5},\"pattern\":{\"fillmode\":\"overlay\",\"size\":10,\"solidity\":0.2}},\"type\":\"bar\"}],\"scattergeo\":[{\"type\":\"scattergeo\",\"marker\":{\"colorbar\":{\"outlinewidth\":0,\"ticks\":\"\"}}}],\"scatterpolar\":[{\"type\":\"scatterpolar\",\"marker\":{\"colorbar\":{\"outlinewidth\":0,\"ticks\":\"\"}}}],\"histogram\":[{\"marker\":{\"pattern\":{\"fillmode\":\"overlay\",\"size\":10,\"solidity\":0.2}},\"type\":\"histogram\"}],\"scattergl\":[{\"type\":\"scattergl\",\"marker\":{\"colorbar\":{\"outlinewidth\":0,\"ticks\":\"\"}}}],\"scatter3d\":[{\"type\":\"scatter3d\",\"line\":{\"colorbar\":{\"outlinewidth\":0,\"ticks\":\"\"}},\"marker\":{\"colorbar\":{\"outlinewidth\":0,\"ticks\":\"\"}}}],\"scattermapbox\":[{\"type\":\"scattermapbox\",\"marker\":{\"colorbar\":{\"outlinewidth\":0,\"ticks\":\"\"}}}],\"scatterternary\":[{\"type\":\"scatterternary\",\"marker\":{\"colorbar\":{\"outlinewidth\":0,\"ticks\":\"\"}}}],\"scattercarpet\":[{\"type\":\"scattercarpet\",\"marker\":{\"colorbar\":{\"outlinewidth\":0,\"ticks\":\"\"}}}],\"carpet\":[{\"aaxis\":{\"endlinecolor\":\"#2a3f5f\",\"gridcolor\":\"white\",\"linecolor\":\"white\",\"minorgridcolor\":\"white\",\"startlinecolor\":\"#2a3f5f\"},\"baxis\":{\"endlinecolor\":\"#2a3f5f\",\"gridcolor\":\"white\",\"linecolor\":\"white\",\"minorgridcolor\":\"white\",\"startlinecolor\":\"#2a3f5f\"},\"type\":\"carpet\"}],\"table\":[{\"cells\":{\"fill\":{\"color\":\"#EBF0F8\"},\"line\":{\"color\":\"white\"}},\"header\":{\"fill\":{\"color\":\"#C8D4E3\"},\"line\":{\"color\":\"white\"}},\"type\":\"table\"}],\"barpolar\":[{\"marker\":{\"line\":{\"color\":\"#E5ECF6\",\"width\":0.5},\"pattern\":{\"fillmode\":\"overlay\",\"size\":10,\"solidity\":0.2}},\"type\":\"barpolar\"}],\"pie\":[{\"automargin\":true,\"type\":\"pie\"}]},\"layout\":{\"autotypenumbers\":\"strict\",\"colorway\":[\"#636efa\",\"#EF553B\",\"#00cc96\",\"#ab63fa\",\"#FFA15A\",\"#19d3f3\",\"#FF6692\",\"#B6E880\",\"#FF97FF\",\"#FECB52\"],\"font\":{\"color\":\"#2a3f5f\"},\"hovermode\":\"closest\",\"hoverlabel\":{\"align\":\"left\"},\"paper_bgcolor\":\"white\",\"plot_bgcolor\":\"#E5ECF6\",\"polar\":{\"bgcolor\":\"#E5ECF6\",\"angularaxis\":{\"gridcolor\":\"white\",\"linecolor\":\"white\",\"ticks\":\"\"},\"radialaxis\":{\"gridcolor\":\"white\",\"linecolor\":\"white\",\"ticks\":\"\"}},\"ternary\":{\"bgcolor\":\"#E5ECF6\",\"aaxis\":{\"gridcolor\":\"white\",\"linecolor\":\"white\",\"ticks\":\"\"},\"baxis\":{\"gridcolor\":\"white\",\"linecolor\":\"white\",\"ticks\":\"\"},\"caxis\":{\"gridcolor\":\"white\",\"linecolor\":\"white\",\"ticks\":\"\"}},\"coloraxis\":{\"colorbar\":{\"outlinewidth\":0,\"ticks\":\"\"}},\"colorscale\":{\"sequential\":[[0.0,\"#0d0887\"],[0.1111111111111111,\"#46039f\"],[0.2222222222222222,\"#7201a8\"],[0.3333333333333333,\"#9c179e\"],[0.4444444444444444,\"#bd3786\"],[0.5555555555555556,\"#d8576b\"],[0.6666666666666666,\"#ed7953\"],[0.7777777777777778,\"#fb9f3a\"],[0.8888888888888888,\"#fdca26\"],[1.0,\"#f0f921\"]],\"sequentialminus\":[[0.0,\"#0d0887\"],[0.1111111111111111,\"#46039f\"],[0.2222222222222222,\"#7201a8\"],[0.3333333333333333,\"#9c179e\"],[0.4444444444444444,\"#bd3786\"],[0.5555555555555556,\"#d8576b\"],[0.6666666666666666,\"#ed7953\"],[0.7777777777777778,\"#fb9f3a\"],[0.8888888888888888,\"#fdca26\"],[1.0,\"#f0f921\"]],\"diverging\":[[0,\"#8e0152\"],[0.1,\"#c51b7d\"],[0.2,\"#de77ae\"],[0.3,\"#f1b6da\"],[0.4,\"#fde0ef\"],[0.5,\"#f7f7f7\"],[0.6,\"#e6f5d0\"],[0.7,\"#b8e186\"],[0.8,\"#7fbc41\"],[0.9,\"#4d9221\"],[1,\"#276419\"]]},\"xaxis\":{\"gridcolor\":\"white\",\"linecolor\":\"white\",\"ticks\":\"\",\"title\":{\"standoff\":15},\"zerolinecolor\":\"white\",\"automargin\":true,\"zerolinewidth\":2},\"yaxis\":{\"gridcolor\":\"white\",\"linecolor\":\"white\",\"ticks\":\"\",\"title\":{\"standoff\":15},\"zerolinecolor\":\"white\",\"automargin\":true,\"zerolinewidth\":2},\"scene\":{\"xaxis\":{\"backgroundcolor\":\"#E5ECF6\",\"gridcolor\":\"white\",\"linecolor\":\"white\",\"showbackground\":true,\"ticks\":\"\",\"zerolinecolor\":\"white\",\"gridwidth\":2},\"yaxis\":{\"backgroundcolor\":\"#E5ECF6\",\"gridcolor\":\"white\",\"linecolor\":\"white\",\"showbackground\":true,\"ticks\":\"\",\"zerolinecolor\":\"white\",\"gridwidth\":2},\"zaxis\":{\"backgroundcolor\":\"#E5ECF6\",\"gridcolor\":\"white\",\"linecolor\":\"white\",\"showbackground\":true,\"ticks\":\"\",\"zerolinecolor\":\"white\",\"gridwidth\":2}},\"shapedefaults\":{\"line\":{\"color\":\"#2a3f5f\"}},\"annotationdefaults\":{\"arrowcolor\":\"#2a3f5f\",\"arrowhead\":0,\"arrowwidth\":1},\"geo\":{\"bgcolor\":\"white\",\"landcolor\":\"#E5ECF6\",\"subunitcolor\":\"white\",\"showland\":true,\"showlakes\":true,\"lakecolor\":\"white\"},\"title\":{\"x\":0.05},\"mapbox\":{\"style\":\"light\"}}},\"legend\":{\"tracegroupgap\":0},\"title\":{\"text\":\"User Type Distribution\"}},                        {\"responsive\": true}                    ).then(function(){\n",
       "                            \n",
       "var gd = document.getElementById('239ef7eb-12de-460c-b50a-87c0c050b84b');\n",
       "var x = new MutationObserver(function (mutations, observer) {{\n",
       "        var display = window.getComputedStyle(gd).display;\n",
       "        if (!display || display === 'none') {{\n",
       "            console.log([gd, 'removed!']);\n",
       "            Plotly.purge(gd);\n",
       "            observer.disconnect();\n",
       "        }}\n",
       "}});\n",
       "\n",
       "// Listen for the removal of the full notebook cells\n",
       "var notebookContainer = gd.closest('#notebook-container');\n",
       "if (notebookContainer) {{\n",
       "    x.observe(notebookContainer, {childList: true});\n",
       "}}\n",
       "\n",
       "// Listen for the clearing of the current output cell\n",
       "var outputEl = gd.closest('.output');\n",
       "if (outputEl) {{\n",
       "    x.observe(outputEl, {childList: true});\n",
       "}}\n",
       "\n",
       "                        })                };                });            </script>        </div>"
      ]
     },
     "metadata": {},
     "output_type": "display_data"
    }
   ],
   "source": [
    "# User Type Distribution\n",
    "user_type_distribution_query = \"\"\"\n",
    "SELECT \n",
    "    UserType,\n",
    "    COUNT(*) AS UserCount\n",
    "FROM User\n",
    "GROUP BY UserType\n",
    "ORDER BY UserCount DESC;\n",
    "\"\"\"\n",
    "\n",
    "# Fetch Data\n",
    "user_type_df = run_query(user_type_distribution_query)\n",
    "\n",
    "# Create Pie Chart\n",
    "user_fig_pie = px.pie(\n",
    "    user_type_df,\n",
    "    names=\"UserType\",\n",
    "    values=\"UserCount\",\n",
    "    title=\"User Type Distribution\",\n",
    "    hole=0.3  # Adjust for a donut chart effect\n",
    ")\n",
    "\n",
    "# Show Pie Chart\n",
    "user_fig_pie.show()"
   ]
  },
  {
   "cell_type": "markdown",
   "metadata": {},
   "source": [
    "#### - Top Organizers by Revenue Percentage: \n",
    "Identifies which event organizers generate the most revenue."
   ]
  },
  {
   "cell_type": "code",
   "execution_count": 302,
   "metadata": {
    "id": "XcAeeqt_gecc"
   },
   "outputs": [
    {
     "data": {
      "application/vnd.plotly.v1+json": {
       "config": {
        "plotlyServerURL": "https://plot.ly"
       },
       "data": [
        {
         "alignmentgroup": "True",
         "hovertemplate": "RevenuePercentage=%{text}<br>OrganizerName=%{y}<extra></extra>",
         "legendgroup": "",
         "marker": {
          "color": "#636efa",
          "pattern": {
           "shape": ""
          }
         },
         "name": "",
         "offsetgroup": "",
         "orientation": "h",
         "showlegend": false,
         "text": [
          0.03547292316769274,
          0.044716372350822695,
          0.04902171485103585,
          0.05227714567771093,
          0.05256604754761067,
          0.053224884738723485,
          0.06862476368179361,
          0.09318142262327125,
          0.16848898255543568,
          0.21145502960539525
         ],
         "textposition": "outside",
         "texttemplate": "%{text:.1%}",
         "type": "bar",
         "x": [
          0.03547292316769274,
          0.044716372350822695,
          0.04902171485103585,
          0.05227714567771093,
          0.05256604754761067,
          0.053224884738723485,
          0.06862476368179361,
          0.09318142262327125,
          0.16848898255543568,
          0.21145502960539525
         ],
         "xaxis": "x",
         "y": [
          "Film Festivals",
          "Tech Meetups",
          "Auto Shows",
          "Theater Productions",
          "Business Summits",
          "Fashion Shows",
          "Gaming Conventions",
          "Art Exhibitions",
          "Food Expos",
          "Music Festivals Inc."
         ],
         "yaxis": "y"
        }
       ],
       "layout": {
        "autosize": true,
        "barmode": "relative",
        "legend": {
         "tracegroupgap": 0
        },
        "template": {
         "data": {
          "bar": [
           {
            "error_x": {
             "color": "#2a3f5f"
            },
            "error_y": {
             "color": "#2a3f5f"
            },
            "marker": {
             "line": {
              "color": "#E5ECF6",
              "width": 0.5
             },
             "pattern": {
              "fillmode": "overlay",
              "size": 10,
              "solidity": 0.2
             }
            },
            "type": "bar"
           }
          ],
          "barpolar": [
           {
            "marker": {
             "line": {
              "color": "#E5ECF6",
              "width": 0.5
             },
             "pattern": {
              "fillmode": "overlay",
              "size": 10,
              "solidity": 0.2
             }
            },
            "type": "barpolar"
           }
          ],
          "carpet": [
           {
            "aaxis": {
             "endlinecolor": "#2a3f5f",
             "gridcolor": "white",
             "linecolor": "white",
             "minorgridcolor": "white",
             "startlinecolor": "#2a3f5f"
            },
            "baxis": {
             "endlinecolor": "#2a3f5f",
             "gridcolor": "white",
             "linecolor": "white",
             "minorgridcolor": "white",
             "startlinecolor": "#2a3f5f"
            },
            "type": "carpet"
           }
          ],
          "choropleth": [
           {
            "colorbar": {
             "outlinewidth": 0,
             "ticks": ""
            },
            "type": "choropleth"
           }
          ],
          "contour": [
           {
            "colorbar": {
             "outlinewidth": 0,
             "ticks": ""
            },
            "colorscale": [
             [
              0,
              "#0d0887"
             ],
             [
              0.1111111111111111,
              "#46039f"
             ],
             [
              0.2222222222222222,
              "#7201a8"
             ],
             [
              0.3333333333333333,
              "#9c179e"
             ],
             [
              0.4444444444444444,
              "#bd3786"
             ],
             [
              0.5555555555555556,
              "#d8576b"
             ],
             [
              0.6666666666666666,
              "#ed7953"
             ],
             [
              0.7777777777777778,
              "#fb9f3a"
             ],
             [
              0.8888888888888888,
              "#fdca26"
             ],
             [
              1,
              "#f0f921"
             ]
            ],
            "type": "contour"
           }
          ],
          "contourcarpet": [
           {
            "colorbar": {
             "outlinewidth": 0,
             "ticks": ""
            },
            "type": "contourcarpet"
           }
          ],
          "heatmap": [
           {
            "colorbar": {
             "outlinewidth": 0,
             "ticks": ""
            },
            "colorscale": [
             [
              0,
              "#0d0887"
             ],
             [
              0.1111111111111111,
              "#46039f"
             ],
             [
              0.2222222222222222,
              "#7201a8"
             ],
             [
              0.3333333333333333,
              "#9c179e"
             ],
             [
              0.4444444444444444,
              "#bd3786"
             ],
             [
              0.5555555555555556,
              "#d8576b"
             ],
             [
              0.6666666666666666,
              "#ed7953"
             ],
             [
              0.7777777777777778,
              "#fb9f3a"
             ],
             [
              0.8888888888888888,
              "#fdca26"
             ],
             [
              1,
              "#f0f921"
             ]
            ],
            "type": "heatmap"
           }
          ],
          "heatmapgl": [
           {
            "colorbar": {
             "outlinewidth": 0,
             "ticks": ""
            },
            "colorscale": [
             [
              0,
              "#0d0887"
             ],
             [
              0.1111111111111111,
              "#46039f"
             ],
             [
              0.2222222222222222,
              "#7201a8"
             ],
             [
              0.3333333333333333,
              "#9c179e"
             ],
             [
              0.4444444444444444,
              "#bd3786"
             ],
             [
              0.5555555555555556,
              "#d8576b"
             ],
             [
              0.6666666666666666,
              "#ed7953"
             ],
             [
              0.7777777777777778,
              "#fb9f3a"
             ],
             [
              0.8888888888888888,
              "#fdca26"
             ],
             [
              1,
              "#f0f921"
             ]
            ],
            "type": "heatmapgl"
           }
          ],
          "histogram": [
           {
            "marker": {
             "pattern": {
              "fillmode": "overlay",
              "size": 10,
              "solidity": 0.2
             }
            },
            "type": "histogram"
           }
          ],
          "histogram2d": [
           {
            "colorbar": {
             "outlinewidth": 0,
             "ticks": ""
            },
            "colorscale": [
             [
              0,
              "#0d0887"
             ],
             [
              0.1111111111111111,
              "#46039f"
             ],
             [
              0.2222222222222222,
              "#7201a8"
             ],
             [
              0.3333333333333333,
              "#9c179e"
             ],
             [
              0.4444444444444444,
              "#bd3786"
             ],
             [
              0.5555555555555556,
              "#d8576b"
             ],
             [
              0.6666666666666666,
              "#ed7953"
             ],
             [
              0.7777777777777778,
              "#fb9f3a"
             ],
             [
              0.8888888888888888,
              "#fdca26"
             ],
             [
              1,
              "#f0f921"
             ]
            ],
            "type": "histogram2d"
           }
          ],
          "histogram2dcontour": [
           {
            "colorbar": {
             "outlinewidth": 0,
             "ticks": ""
            },
            "colorscale": [
             [
              0,
              "#0d0887"
             ],
             [
              0.1111111111111111,
              "#46039f"
             ],
             [
              0.2222222222222222,
              "#7201a8"
             ],
             [
              0.3333333333333333,
              "#9c179e"
             ],
             [
              0.4444444444444444,
              "#bd3786"
             ],
             [
              0.5555555555555556,
              "#d8576b"
             ],
             [
              0.6666666666666666,
              "#ed7953"
             ],
             [
              0.7777777777777778,
              "#fb9f3a"
             ],
             [
              0.8888888888888888,
              "#fdca26"
             ],
             [
              1,
              "#f0f921"
             ]
            ],
            "type": "histogram2dcontour"
           }
          ],
          "mesh3d": [
           {
            "colorbar": {
             "outlinewidth": 0,
             "ticks": ""
            },
            "type": "mesh3d"
           }
          ],
          "parcoords": [
           {
            "line": {
             "colorbar": {
              "outlinewidth": 0,
              "ticks": ""
             }
            },
            "type": "parcoords"
           }
          ],
          "pie": [
           {
            "automargin": true,
            "type": "pie"
           }
          ],
          "scatter": [
           {
            "fillpattern": {
             "fillmode": "overlay",
             "size": 10,
             "solidity": 0.2
            },
            "type": "scatter"
           }
          ],
          "scatter3d": [
           {
            "line": {
             "colorbar": {
              "outlinewidth": 0,
              "ticks": ""
             }
            },
            "marker": {
             "colorbar": {
              "outlinewidth": 0,
              "ticks": ""
             }
            },
            "type": "scatter3d"
           }
          ],
          "scattercarpet": [
           {
            "marker": {
             "colorbar": {
              "outlinewidth": 0,
              "ticks": ""
             }
            },
            "type": "scattercarpet"
           }
          ],
          "scattergeo": [
           {
            "marker": {
             "colorbar": {
              "outlinewidth": 0,
              "ticks": ""
             }
            },
            "type": "scattergeo"
           }
          ],
          "scattergl": [
           {
            "marker": {
             "colorbar": {
              "outlinewidth": 0,
              "ticks": ""
             }
            },
            "type": "scattergl"
           }
          ],
          "scattermapbox": [
           {
            "marker": {
             "colorbar": {
              "outlinewidth": 0,
              "ticks": ""
             }
            },
            "type": "scattermapbox"
           }
          ],
          "scatterpolar": [
           {
            "marker": {
             "colorbar": {
              "outlinewidth": 0,
              "ticks": ""
             }
            },
            "type": "scatterpolar"
           }
          ],
          "scatterpolargl": [
           {
            "marker": {
             "colorbar": {
              "outlinewidth": 0,
              "ticks": ""
             }
            },
            "type": "scatterpolargl"
           }
          ],
          "scatterternary": [
           {
            "marker": {
             "colorbar": {
              "outlinewidth": 0,
              "ticks": ""
             }
            },
            "type": "scatterternary"
           }
          ],
          "surface": [
           {
            "colorbar": {
             "outlinewidth": 0,
             "ticks": ""
            },
            "colorscale": [
             [
              0,
              "#0d0887"
             ],
             [
              0.1111111111111111,
              "#46039f"
             ],
             [
              0.2222222222222222,
              "#7201a8"
             ],
             [
              0.3333333333333333,
              "#9c179e"
             ],
             [
              0.4444444444444444,
              "#bd3786"
             ],
             [
              0.5555555555555556,
              "#d8576b"
             ],
             [
              0.6666666666666666,
              "#ed7953"
             ],
             [
              0.7777777777777778,
              "#fb9f3a"
             ],
             [
              0.8888888888888888,
              "#fdca26"
             ],
             [
              1,
              "#f0f921"
             ]
            ],
            "type": "surface"
           }
          ],
          "table": [
           {
            "cells": {
             "fill": {
              "color": "#EBF0F8"
             },
             "line": {
              "color": "white"
             }
            },
            "header": {
             "fill": {
              "color": "#C8D4E3"
             },
             "line": {
              "color": "white"
             }
            },
            "type": "table"
           }
          ]
         },
         "layout": {
          "annotationdefaults": {
           "arrowcolor": "#2a3f5f",
           "arrowhead": 0,
           "arrowwidth": 1
          },
          "autotypenumbers": "strict",
          "coloraxis": {
           "colorbar": {
            "outlinewidth": 0,
            "ticks": ""
           }
          },
          "colorscale": {
           "diverging": [
            [
             0,
             "#8e0152"
            ],
            [
             0.1,
             "#c51b7d"
            ],
            [
             0.2,
             "#de77ae"
            ],
            [
             0.3,
             "#f1b6da"
            ],
            [
             0.4,
             "#fde0ef"
            ],
            [
             0.5,
             "#f7f7f7"
            ],
            [
             0.6,
             "#e6f5d0"
            ],
            [
             0.7,
             "#b8e186"
            ],
            [
             0.8,
             "#7fbc41"
            ],
            [
             0.9,
             "#4d9221"
            ],
            [
             1,
             "#276419"
            ]
           ],
           "sequential": [
            [
             0,
             "#0d0887"
            ],
            [
             0.1111111111111111,
             "#46039f"
            ],
            [
             0.2222222222222222,
             "#7201a8"
            ],
            [
             0.3333333333333333,
             "#9c179e"
            ],
            [
             0.4444444444444444,
             "#bd3786"
            ],
            [
             0.5555555555555556,
             "#d8576b"
            ],
            [
             0.6666666666666666,
             "#ed7953"
            ],
            [
             0.7777777777777778,
             "#fb9f3a"
            ],
            [
             0.8888888888888888,
             "#fdca26"
            ],
            [
             1,
             "#f0f921"
            ]
           ],
           "sequentialminus": [
            [
             0,
             "#0d0887"
            ],
            [
             0.1111111111111111,
             "#46039f"
            ],
            [
             0.2222222222222222,
             "#7201a8"
            ],
            [
             0.3333333333333333,
             "#9c179e"
            ],
            [
             0.4444444444444444,
             "#bd3786"
            ],
            [
             0.5555555555555556,
             "#d8576b"
            ],
            [
             0.6666666666666666,
             "#ed7953"
            ],
            [
             0.7777777777777778,
             "#fb9f3a"
            ],
            [
             0.8888888888888888,
             "#fdca26"
            ],
            [
             1,
             "#f0f921"
            ]
           ]
          },
          "colorway": [
           "#636efa",
           "#EF553B",
           "#00cc96",
           "#ab63fa",
           "#FFA15A",
           "#19d3f3",
           "#FF6692",
           "#B6E880",
           "#FF97FF",
           "#FECB52"
          ],
          "font": {
           "color": "#2a3f5f"
          },
          "geo": {
           "bgcolor": "white",
           "lakecolor": "white",
           "landcolor": "#E5ECF6",
           "showlakes": true,
           "showland": true,
           "subunitcolor": "white"
          },
          "hoverlabel": {
           "align": "left"
          },
          "hovermode": "closest",
          "mapbox": {
           "style": "light"
          },
          "paper_bgcolor": "white",
          "plot_bgcolor": "#E5ECF6",
          "polar": {
           "angularaxis": {
            "gridcolor": "white",
            "linecolor": "white",
            "ticks": ""
           },
           "bgcolor": "#E5ECF6",
           "radialaxis": {
            "gridcolor": "white",
            "linecolor": "white",
            "ticks": ""
           }
          },
          "scene": {
           "xaxis": {
            "backgroundcolor": "#E5ECF6",
            "gridcolor": "white",
            "gridwidth": 2,
            "linecolor": "white",
            "showbackground": true,
            "ticks": "",
            "zerolinecolor": "white"
           },
           "yaxis": {
            "backgroundcolor": "#E5ECF6",
            "gridcolor": "white",
            "gridwidth": 2,
            "linecolor": "white",
            "showbackground": true,
            "ticks": "",
            "zerolinecolor": "white"
           },
           "zaxis": {
            "backgroundcolor": "#E5ECF6",
            "gridcolor": "white",
            "gridwidth": 2,
            "linecolor": "white",
            "showbackground": true,
            "ticks": "",
            "zerolinecolor": "white"
           }
          },
          "shapedefaults": {
           "line": {
            "color": "#2a3f5f"
           }
          },
          "ternary": {
           "aaxis": {
            "gridcolor": "white",
            "linecolor": "white",
            "ticks": ""
           },
           "baxis": {
            "gridcolor": "white",
            "linecolor": "white",
            "ticks": ""
           },
           "bgcolor": "#E5ECF6",
           "caxis": {
            "gridcolor": "white",
            "linecolor": "white",
            "ticks": ""
           }
          },
          "title": {
           "x": 0.05
          },
          "xaxis": {
           "automargin": true,
           "gridcolor": "white",
           "linecolor": "white",
           "ticks": "",
           "title": {
            "standoff": 15
           },
           "zerolinecolor": "white",
           "zerolinewidth": 2
          },
          "yaxis": {
           "automargin": true,
           "gridcolor": "white",
           "linecolor": "white",
           "ticks": "",
           "title": {
            "standoff": 15
           },
           "zerolinecolor": "white",
           "zerolinewidth": 2
          }
         }
        },
        "title": {
         "text": "Top Organizers by Revenue"
        },
        "xaxis": {
         "anchor": "y",
         "autorange": true,
         "domain": [
          0,
          1
         ],
         "range": [
          0,
          0.22258424168988974
         ],
         "title": {
          "text": "RevenuePercentage"
         },
         "type": "linear"
        },
        "yaxis": {
         "anchor": "x",
         "autorange": true,
         "domain": [
          0,
          1
         ],
         "range": [
          -0.5,
          9.5
         ],
         "title": {
          "text": "OrganizerName"
         },
         "type": "category"
        }
       }
      },
      "image/png": "[encoded data removed]",
      "text/html": [
       "<div>                            <div id=\"78190322-3338-40ea-906e-2ccbcea4badc\" class=\"plotly-graph-div\" style=\"height:525px; width:100%;\"></div>            <script type=\"text/javascript\">                require([\"plotly\"], function(Plotly) {                    window.PLOTLYENV=window.PLOTLYENV || {};                                    if (document.getElementById(\"78190322-3338-40ea-906e-2ccbcea4badc\")) {                    Plotly.newPlot(                        \"78190322-3338-40ea-906e-2ccbcea4badc\",                        [{\"alignmentgroup\":\"True\",\"hovertemplate\":\"RevenuePercentage=%{text}\\u003cbr\\u003eOrganizerName=%{y}\\u003cextra\\u003e\\u003c\\u002fextra\\u003e\",\"legendgroup\":\"\",\"marker\":{\"color\":\"#636efa\",\"pattern\":{\"shape\":\"\"}},\"name\":\"\",\"offsetgroup\":\"\",\"orientation\":\"h\",\"showlegend\":false,\"text\":[0.03547292316769274,0.044716372350822695,0.04902171485103585,0.05227714567771093,0.05256604754761067,0.053224884738723485,0.06862476368179361,0.09318142262327125,0.16848898255543568,0.21145502960539525],\"textposition\":\"outside\",\"x\":[0.03547292316769274,0.044716372350822695,0.04902171485103585,0.05227714567771093,0.05256604754761067,0.053224884738723485,0.06862476368179361,0.09318142262327125,0.16848898255543568,0.21145502960539525],\"xaxis\":\"x\",\"y\":[\"Film Festivals\",\"Tech Meetups\",\"Auto Shows\",\"Theater Productions\",\"Business Summits\",\"Fashion Shows\",\"Gaming Conventions\",\"Art Exhibitions\",\"Food Expos\",\"Music Festivals Inc.\"],\"yaxis\":\"y\",\"type\":\"bar\",\"texttemplate\":\"%{text:.1%}\"}],                        {\"template\":{\"data\":{\"histogram2dcontour\":[{\"type\":\"histogram2dcontour\",\"colorbar\":{\"outlinewidth\":0,\"ticks\":\"\"},\"colorscale\":[[0.0,\"#0d0887\"],[0.1111111111111111,\"#46039f\"],[0.2222222222222222,\"#7201a8\"],[0.3333333333333333,\"#9c179e\"],[0.4444444444444444,\"#bd3786\"],[0.5555555555555556,\"#d8576b\"],[0.6666666666666666,\"#ed7953\"],[0.7777777777777778,\"#fb9f3a\"],[0.8888888888888888,\"#fdca26\"],[1.0,\"#f0f921\"]]}],\"choropleth\":[{\"type\":\"choropleth\",\"colorbar\":{\"outlinewidth\":0,\"ticks\":\"\"}}],\"histogram2d\":[{\"type\":\"histogram2d\",\"colorbar\":{\"outlinewidth\":0,\"ticks\":\"\"},\"colorscale\":[[0.0,\"#0d0887\"],[0.1111111111111111,\"#46039f\"],[0.2222222222222222,\"#7201a8\"],[0.3333333333333333,\"#9c179e\"],[0.4444444444444444,\"#bd3786\"],[0.5555555555555556,\"#d8576b\"],[0.6666666666666666,\"#ed7953\"],[0.7777777777777778,\"#fb9f3a\"],[0.8888888888888888,\"#fdca26\"],[1.0,\"#f0f921\"]]}],\"heatmap\":[{\"type\":\"heatmap\",\"colorbar\":{\"outlinewidth\":0,\"ticks\":\"\"},\"colorscale\":[[0.0,\"#0d0887\"],[0.1111111111111111,\"#46039f\"],[0.2222222222222222,\"#7201a8\"],[0.3333333333333333,\"#9c179e\"],[0.4444444444444444,\"#bd3786\"],[0.5555555555555556,\"#d8576b\"],[0.6666666666666666,\"#ed7953\"],[0.7777777777777778,\"#fb9f3a\"],[0.8888888888888888,\"#fdca26\"],[1.0,\"#f0f921\"]]}],\"heatmapgl\":[{\"type\":\"heatmapgl\",\"colorbar\":{\"outlinewidth\":0,\"ticks\":\"\"},\"colorscale\":[[0.0,\"#0d0887\"],[0.1111111111111111,\"#46039f\"],[0.2222222222222222,\"#7201a8\"],[0.3333333333333333,\"#9c179e\"],[0.4444444444444444,\"#bd3786\"],[0.5555555555555556,\"#d8576b\"],[0.6666666666666666,\"#ed7953\"],[0.7777777777777778,\"#fb9f3a\"],[0.8888888888888888,\"#fdca26\"],[1.0,\"#f0f921\"]]}],\"contourcarpet\":[{\"type\":\"contourcarpet\",\"colorbar\":{\"outlinewidth\":0,\"ticks\":\"\"}}],\"contour\":[{\"type\":\"contour\",\"colorbar\":{\"outlinewidth\":0,\"ticks\":\"\"},\"colorscale\":[[0.0,\"#0d0887\"],[0.1111111111111111,\"#46039f\"],[0.2222222222222222,\"#7201a8\"],[0.3333333333333333,\"#9c179e\"],[0.4444444444444444,\"#bd3786\"],[0.5555555555555556,\"#d8576b\"],[0.6666666666666666,\"#ed7953\"],[0.7777777777777778,\"#fb9f3a\"],[0.8888888888888888,\"#fdca26\"],[1.0,\"#f0f921\"]]}],\"surface\":[{\"type\":\"surface\",\"colorbar\":{\"outlinewidth\":0,\"ticks\":\"\"},\"colorscale\":[[0.0,\"#0d0887\"],[0.1111111111111111,\"#46039f\"],[0.2222222222222222,\"#7201a8\"],[0.3333333333333333,\"#9c179e\"],[0.4444444444444444,\"#bd3786\"],[0.5555555555555556,\"#d8576b\"],[0.6666666666666666,\"#ed7953\"],[0.7777777777777778,\"#fb9f3a\"],[0.8888888888888888,\"#fdca26\"],[1.0,\"#f0f921\"]]}],\"mesh3d\":[{\"type\":\"mesh3d\",\"colorbar\":{\"outlinewidth\":0,\"ticks\":\"\"}}],\"scatter\":[{\"fillpattern\":{\"fillmode\":\"overlay\",\"size\":10,\"solidity\":0.2},\"type\":\"scatter\"}],\"parcoords\":[{\"type\":\"parcoords\",\"line\":{\"colorbar\":{\"outlinewidth\":0,\"ticks\":\"\"}}}],\"scatterpolargl\":[{\"type\":\"scatterpolargl\",\"marker\":{\"colorbar\":{\"outlinewidth\":0,\"ticks\":\"\"}}}],\"bar\":[{\"error_x\":{\"color\":\"#2a3f5f\"},\"error_y\":{\"color\":\"#2a3f5f\"},\"marker\":{\"line\":{\"color\":\"#E5ECF6\",\"width\":0.5},\"pattern\":{\"fillmode\":\"overlay\",\"size\":10,\"solidity\":0.2}},\"type\":\"bar\"}],\"scattergeo\":[{\"type\":\"scattergeo\",\"marker\":{\"colorbar\":{\"outlinewidth\":0,\"ticks\":\"\"}}}],\"scatterpolar\":[{\"type\":\"scatterpolar\",\"marker\":{\"colorbar\":{\"outlinewidth\":0,\"ticks\":\"\"}}}],\"histogram\":[{\"marker\":{\"pattern\":{\"fillmode\":\"overlay\",\"size\":10,\"solidity\":0.2}},\"type\":\"histogram\"}],\"scattergl\":[{\"type\":\"scattergl\",\"marker\":{\"colorbar\":{\"outlinewidth\":0,\"ticks\":\"\"}}}],\"scatter3d\":[{\"type\":\"scatter3d\",\"line\":{\"colorbar\":{\"outlinewidth\":0,\"ticks\":\"\"}},\"marker\":{\"colorbar\":{\"outlinewidth\":0,\"ticks\":\"\"}}}],\"scattermapbox\":[{\"type\":\"scattermapbox\",\"marker\":{\"colorbar\":{\"outlinewidth\":0,\"ticks\":\"\"}}}],\"scatterternary\":[{\"type\":\"scatterternary\",\"marker\":{\"colorbar\":{\"outlinewidth\":0,\"ticks\":\"\"}}}],\"scattercarpet\":[{\"type\":\"scattercarpet\",\"marker\":{\"colorbar\":{\"outlinewidth\":0,\"ticks\":\"\"}}}],\"carpet\":[{\"aaxis\":{\"endlinecolor\":\"#2a3f5f\",\"gridcolor\":\"white\",\"linecolor\":\"white\",\"minorgridcolor\":\"white\",\"startlinecolor\":\"#2a3f5f\"},\"baxis\":{\"endlinecolor\":\"#2a3f5f\",\"gridcolor\":\"white\",\"linecolor\":\"white\",\"minorgridcolor\":\"white\",\"startlinecolor\":\"#2a3f5f\"},\"type\":\"carpet\"}],\"table\":[{\"cells\":{\"fill\":{\"color\":\"#EBF0F8\"},\"line\":{\"color\":\"white\"}},\"header\":{\"fill\":{\"color\":\"#C8D4E3\"},\"line\":{\"color\":\"white\"}},\"type\":\"table\"}],\"barpolar\":[{\"marker\":{\"line\":{\"color\":\"#E5ECF6\",\"width\":0.5},\"pattern\":{\"fillmode\":\"overlay\",\"size\":10,\"solidity\":0.2}},\"type\":\"barpolar\"}],\"pie\":[{\"automargin\":true,\"type\":\"pie\"}]},\"layout\":{\"autotypenumbers\":\"strict\",\"colorway\":[\"#636efa\",\"#EF553B\",\"#00cc96\",\"#ab63fa\",\"#FFA15A\",\"#19d3f3\",\"#FF6692\",\"#B6E880\",\"#FF97FF\",\"#FECB52\"],\"font\":{\"color\":\"#2a3f5f\"},\"hovermode\":\"closest\",\"hoverlabel\":{\"align\":\"left\"},\"paper_bgcolor\":\"white\",\"plot_bgcolor\":\"#E5ECF6\",\"polar\":{\"bgcolor\":\"#E5ECF6\",\"angularaxis\":{\"gridcolor\":\"white\",\"linecolor\":\"white\",\"ticks\":\"\"},\"radialaxis\":{\"gridcolor\":\"white\",\"linecolor\":\"white\",\"ticks\":\"\"}},\"ternary\":{\"bgcolor\":\"#E5ECF6\",\"aaxis\":{\"gridcolor\":\"white\",\"linecolor\":\"white\",\"ticks\":\"\"},\"baxis\":{\"gridcolor\":\"white\",\"linecolor\":\"white\",\"ticks\":\"\"},\"caxis\":{\"gridcolor\":\"white\",\"linecolor\":\"white\",\"ticks\":\"\"}},\"coloraxis\":{\"colorbar\":{\"outlinewidth\":0,\"ticks\":\"\"}},\"colorscale\":{\"sequential\":[[0.0,\"#0d0887\"],[0.1111111111111111,\"#46039f\"],[0.2222222222222222,\"#7201a8\"],[0.3333333333333333,\"#9c179e\"],[0.4444444444444444,\"#bd3786\"],[0.5555555555555556,\"#d8576b\"],[0.6666666666666666,\"#ed7953\"],[0.7777777777777778,\"#fb9f3a\"],[0.8888888888888888,\"#fdca26\"],[1.0,\"#f0f921\"]],\"sequentialminus\":[[0.0,\"#0d0887\"],[0.1111111111111111,\"#46039f\"],[0.2222222222222222,\"#7201a8\"],[0.3333333333333333,\"#9c179e\"],[0.4444444444444444,\"#bd3786\"],[0.5555555555555556,\"#d8576b\"],[0.6666666666666666,\"#ed7953\"],[0.7777777777777778,\"#fb9f3a\"],[0.8888888888888888,\"#fdca26\"],[1.0,\"#f0f921\"]],\"diverging\":[[0,\"#8e0152\"],[0.1,\"#c51b7d\"],[0.2,\"#de77ae\"],[0.3,\"#f1b6da\"],[0.4,\"#fde0ef\"],[0.5,\"#f7f7f7\"],[0.6,\"#e6f5d0\"],[0.7,\"#b8e186\"],[0.8,\"#7fbc41\"],[0.9,\"#4d9221\"],[1,\"#276419\"]]},\"xaxis\":{\"gridcolor\":\"white\",\"linecolor\":\"white\",\"ticks\":\"\",\"title\":{\"standoff\":15},\"zerolinecolor\":\"white\",\"automargin\":true,\"zerolinewidth\":2},\"yaxis\":{\"gridcolor\":\"white\",\"linecolor\":\"white\",\"ticks\":\"\",\"title\":{\"standoff\":15},\"zerolinecolor\":\"white\",\"automargin\":true,\"zerolinewidth\":2},\"scene\":{\"xaxis\":{\"backgroundcolor\":\"#E5ECF6\",\"gridcolor\":\"white\",\"linecolor\":\"white\",\"showbackground\":true,\"ticks\":\"\",\"zerolinecolor\":\"white\",\"gridwidth\":2},\"yaxis\":{\"backgroundcolor\":\"#E5ECF6\",\"gridcolor\":\"white\",\"linecolor\":\"white\",\"showbackground\":true,\"ticks\":\"\",\"zerolinecolor\":\"white\",\"gridwidth\":2},\"zaxis\":{\"backgroundcolor\":\"#E5ECF6\",\"gridcolor\":\"white\",\"linecolor\":\"white\",\"showbackground\":true,\"ticks\":\"\",\"zerolinecolor\":\"white\",\"gridwidth\":2}},\"shapedefaults\":{\"line\":{\"color\":\"#2a3f5f\"}},\"annotationdefaults\":{\"arrowcolor\":\"#2a3f5f\",\"arrowhead\":0,\"arrowwidth\":1},\"geo\":{\"bgcolor\":\"white\",\"landcolor\":\"#E5ECF6\",\"subunitcolor\":\"white\",\"showland\":true,\"showlakes\":true,\"lakecolor\":\"white\"},\"title\":{\"x\":0.05},\"mapbox\":{\"style\":\"light\"}}},\"xaxis\":{\"anchor\":\"y\",\"domain\":[0.0,1.0],\"title\":{\"text\":\"RevenuePercentage\"}},\"yaxis\":{\"anchor\":\"x\",\"domain\":[0.0,1.0],\"title\":{\"text\":\"OrganizerName\"}},\"legend\":{\"tracegroupgap\":0},\"title\":{\"text\":\"Top Organizers by Revenue\"},\"barmode\":\"relative\"},                        {\"responsive\": true}                    ).then(function(){\n",
       "                            \n",
       "var gd = document.getElementById('78190322-3338-40ea-906e-2ccbcea4badc');\n",
       "var x = new MutationObserver(function (mutations, observer) {{\n",
       "        var display = window.getComputedStyle(gd).display;\n",
       "        if (!display || display === 'none') {{\n",
       "            console.log([gd, 'removed!']);\n",
       "            Plotly.purge(gd);\n",
       "            observer.disconnect();\n",
       "        }}\n",
       "}});\n",
       "\n",
       "// Listen for the removal of the full notebook cells\n",
       "var notebookContainer = gd.closest('#notebook-container');\n",
       "if (notebookContainer) {{\n",
       "    x.observe(notebookContainer, {childList: true});\n",
       "}}\n",
       "\n",
       "// Listen for the clearing of the current output cell\n",
       "var outputEl = gd.closest('.output');\n",
       "if (outputEl) {{\n",
       "    x.observe(outputEl, {childList: true});\n",
       "}}\n",
       "\n",
       "                        })                };                });            </script>        </div>"
      ]
     },
     "metadata": {},
     "output_type": "display_data"
    }
   ],
   "source": [
    "# SQL Query\n",
    "organizer_revenue_query = \"\"\"\n",
    "WITH\n",
    "    organizer_sales AS (\n",
    "        SELECT \n",
    "            O.OrganizerName,\n",
    "            SUM(P.Amount) AS TotalRevenue\n",
    "        FROM Payment P\n",
    "        INNER JOIN Booking B ON P.BookingID = B.BookingID\n",
    "        INNER JOIN Event E ON B.EventID = E.EventID\n",
    "        INNER JOIN Organizer O ON E.UserID = O.UserID\n",
    "        GROUP BY O.OrganizerName\n",
    "    )\n",
    "SELECT\n",
    "    OrganizerName,\n",
    "    TotalRevenue,\n",
    "    CAST(TotalRevenue AS FLOAT) / (SELECT SUM(TotalRevenue) FROM organizer_sales) AS RevenuePercentage\n",
    "FROM organizer_sales\n",
    "ORDER BY TotalRevenue DESC\n",
    "LIMIT 10;\n",
    "\"\"\"\n",
    "\n",
    "# Fetch Data\n",
    "organizer_revenue_df = run_query(organizer_revenue_query)\n",
    "\n",
    "# Sort by Revenue\n",
    "organizer_revenue_df.sort_values(\"TotalRevenue\", inplace=True)\n",
    "\n",
    "# Create Horizontal Bar Chart\n",
    "organizer_revenue_plot = px.bar(\n",
    "    organizer_revenue_df,\n",
    "    x=\"RevenuePercentage\",\n",
    "    y=\"OrganizerName\",\n",
    "    orientation=\"h\",\n",
    "    text=\"RevenuePercentage\",\n",
    "    title=\"Top Organizers by Revenue\",\n",
    ")\n",
    "\n",
    "# Format text labels\n",
    "organizer_revenue_plot.update_traces(texttemplate=\"%{text:.1%}\", textposition=\"outside\")\n",
    "\n",
    "# Show Chart\n",
    "organizer_revenue_plot.show()"
   ]
  },
  {
   "cell_type": "markdown",
   "metadata": {
    "id": "kjAwOhV5hMnl"
   },
   "source": [
    "#### - Payment Method Analysis: \n",
    "A bar chart displaying the distribution of payment methods such as Credit Card, Cash, Bank Transfer, and PayPal."
   ]
  },
  {
   "cell_type": "code",
   "execution_count": 304,
   "metadata": {},
   "outputs": [
    {
     "data": {
      "application/vnd.plotly.v1+json": {
       "config": {
        "plotlyServerURL": "https://plot.ly"
       },
       "data": [
        {
         "domain": {
          "x": [
           0,
           1
          ],
          "y": [
           0,
           1
          ]
         },
         "hole": 0.3,
         "hovertemplate": "PaymentMethod=%{label}<br>TransactionCount=%{value}<extra></extra>",
         "labels": [
          "Credit Card",
          "Cash",
          "Bank Transfer",
          "PayPal"
         ],
         "legendgroup": "",
         "name": "",
         "showlegend": true,
         "type": "pie",
         "values": [
          158,
          8,
          7,
          5
         ]
        }
       ],
       "layout": {
        "autosize": true,
        "legend": {
         "tracegroupgap": 0
        },
        "template": {
         "data": {
          "bar": [
           {
            "error_x": {
             "color": "#2a3f5f"
            },
            "error_y": {
             "color": "#2a3f5f"
            },
            "marker": {
             "line": {
              "color": "#E5ECF6",
              "width": 0.5
             },
             "pattern": {
              "fillmode": "overlay",
              "size": 10,
              "solidity": 0.2
             }
            },
            "type": "bar"
           }
          ],
          "barpolar": [
           {
            "marker": {
             "line": {
              "color": "#E5ECF6",
              "width": 0.5
             },
             "pattern": {
              "fillmode": "overlay",
              "size": 10,
              "solidity": 0.2
             }
            },
            "type": "barpolar"
           }
          ],
          "carpet": [
           {
            "aaxis": {
             "endlinecolor": "#2a3f5f",
             "gridcolor": "white",
             "linecolor": "white",
             "minorgridcolor": "white",
             "startlinecolor": "#2a3f5f"
            },
            "baxis": {
             "endlinecolor": "#2a3f5f",
             "gridcolor": "white",
             "linecolor": "white",
             "minorgridcolor": "white",
             "startlinecolor": "#2a3f5f"
            },
            "type": "carpet"
           }
          ],
          "choropleth": [
           {
            "colorbar": {
             "outlinewidth": 0,
             "ticks": ""
            },
            "type": "choropleth"
           }
          ],
          "contour": [
           {
            "colorbar": {
             "outlinewidth": 0,
             "ticks": ""
            },
            "colorscale": [
             [
              0,
              "#0d0887"
             ],
             [
              0.1111111111111111,
              "#46039f"
             ],
             [
              0.2222222222222222,
              "#7201a8"
             ],
             [
              0.3333333333333333,
              "#9c179e"
             ],
             [
              0.4444444444444444,
              "#bd3786"
             ],
             [
              0.5555555555555556,
              "#d8576b"
             ],
             [
              0.6666666666666666,
              "#ed7953"
             ],
             [
              0.7777777777777778,
              "#fb9f3a"
             ],
             [
              0.8888888888888888,
              "#fdca26"
             ],
             [
              1,
              "#f0f921"
             ]
            ],
            "type": "contour"
           }
          ],
          "contourcarpet": [
           {
            "colorbar": {
             "outlinewidth": 0,
             "ticks": ""
            },
            "type": "contourcarpet"
           }
          ],
          "heatmap": [
           {
            "colorbar": {
             "outlinewidth": 0,
             "ticks": ""
            },
            "colorscale": [
             [
              0,
              "#0d0887"
             ],
             [
              0.1111111111111111,
              "#46039f"
             ],
             [
              0.2222222222222222,
              "#7201a8"
             ],
             [
              0.3333333333333333,
              "#9c179e"
             ],
             [
              0.4444444444444444,
              "#bd3786"
             ],
             [
              0.5555555555555556,
              "#d8576b"
             ],
             [
              0.6666666666666666,
              "#ed7953"
             ],
             [
              0.7777777777777778,
              "#fb9f3a"
             ],
             [
              0.8888888888888888,
              "#fdca26"
             ],
             [
              1,
              "#f0f921"
             ]
            ],
            "type": "heatmap"
           }
          ],
          "heatmapgl": [
           {
            "colorbar": {
             "outlinewidth": 0,
             "ticks": ""
            },
            "colorscale": [
             [
              0,
              "#0d0887"
             ],
             [
              0.1111111111111111,
              "#46039f"
             ],
             [
              0.2222222222222222,
              "#7201a8"
             ],
             [
              0.3333333333333333,
              "#9c179e"
             ],
             [
              0.4444444444444444,
              "#bd3786"
             ],
             [
              0.5555555555555556,
              "#d8576b"
             ],
             [
              0.6666666666666666,
              "#ed7953"
             ],
             [
              0.7777777777777778,
              "#fb9f3a"
             ],
             [
              0.8888888888888888,
              "#fdca26"
             ],
             [
              1,
              "#f0f921"
             ]
            ],
            "type": "heatmapgl"
           }
          ],
          "histogram": [
           {
            "marker": {
             "pattern": {
              "fillmode": "overlay",
              "size": 10,
              "solidity": 0.2
             }
            },
            "type": "histogram"
           }
          ],
          "histogram2d": [
           {
            "colorbar": {
             "outlinewidth": 0,
             "ticks": ""
            },
            "colorscale": [
             [
              0,
              "#0d0887"
             ],
             [
              0.1111111111111111,
              "#46039f"
             ],
             [
              0.2222222222222222,
              "#7201a8"
             ],
             [
              0.3333333333333333,
              "#9c179e"
             ],
             [
              0.4444444444444444,
              "#bd3786"
             ],
             [
              0.5555555555555556,
              "#d8576b"
             ],
             [
              0.6666666666666666,
              "#ed7953"
             ],
             [
              0.7777777777777778,
              "#fb9f3a"
             ],
             [
              0.8888888888888888,
              "#fdca26"
             ],
             [
              1,
              "#f0f921"
             ]
            ],
            "type": "histogram2d"
           }
          ],
          "histogram2dcontour": [
           {
            "colorbar": {
             "outlinewidth": 0,
             "ticks": ""
            },
            "colorscale": [
             [
              0,
              "#0d0887"
             ],
             [
              0.1111111111111111,
              "#46039f"
             ],
             [
              0.2222222222222222,
              "#7201a8"
             ],
             [
              0.3333333333333333,
              "#9c179e"
             ],
             [
              0.4444444444444444,
              "#bd3786"
             ],
             [
              0.5555555555555556,
              "#d8576b"
             ],
             [
              0.6666666666666666,
              "#ed7953"
             ],
             [
              0.7777777777777778,
              "#fb9f3a"
             ],
             [
              0.8888888888888888,
              "#fdca26"
             ],
             [
              1,
              "#f0f921"
             ]
            ],
            "type": "histogram2dcontour"
           }
          ],
          "mesh3d": [
           {
            "colorbar": {
             "outlinewidth": 0,
             "ticks": ""
            },
            "type": "mesh3d"
           }
          ],
          "parcoords": [
           {
            "line": {
             "colorbar": {
              "outlinewidth": 0,
              "ticks": ""
             }
            },
            "type": "parcoords"
           }
          ],
          "pie": [
           {
            "automargin": true,
            "type": "pie"
           }
          ],
          "scatter": [
           {
            "fillpattern": {
             "fillmode": "overlay",
             "size": 10,
             "solidity": 0.2
            },
            "type": "scatter"
           }
          ],
          "scatter3d": [
           {
            "line": {
             "colorbar": {
              "outlinewidth": 0,
              "ticks": ""
             }
            },
            "marker": {
             "colorbar": {
              "outlinewidth": 0,
              "ticks": ""
             }
            },
            "type": "scatter3d"
           }
          ],
          "scattercarpet": [
           {
            "marker": {
             "colorbar": {
              "outlinewidth": 0,
              "ticks": ""
             }
            },
            "type": "scattercarpet"
           }
          ],
          "scattergeo": [
           {
            "marker": {
             "colorbar": {
              "outlinewidth": 0,
              "ticks": ""
             }
            },
            "type": "scattergeo"
           }
          ],
          "scattergl": [
           {
            "marker": {
             "colorbar": {
              "outlinewidth": 0,
              "ticks": ""
             }
            },
            "type": "scattergl"
           }
          ],
          "scattermapbox": [
           {
            "marker": {
             "colorbar": {
              "outlinewidth": 0,
              "ticks": ""
             }
            },
            "type": "scattermapbox"
           }
          ],
          "scatterpolar": [
           {
            "marker": {
             "colorbar": {
              "outlinewidth": 0,
              "ticks": ""
             }
            },
            "type": "scatterpolar"
           }
          ],
          "scatterpolargl": [
           {
            "marker": {
             "colorbar": {
              "outlinewidth": 0,
              "ticks": ""
             }
            },
            "type": "scatterpolargl"
           }
          ],
          "scatterternary": [
           {
            "marker": {
             "colorbar": {
              "outlinewidth": 0,
              "ticks": ""
             }
            },
            "type": "scatterternary"
           }
          ],
          "surface": [
           {
            "colorbar": {
             "outlinewidth": 0,
             "ticks": ""
            },
            "colorscale": [
             [
              0,
              "#0d0887"
             ],
             [
              0.1111111111111111,
              "#46039f"
             ],
             [
              0.2222222222222222,
              "#7201a8"
             ],
             [
              0.3333333333333333,
              "#9c179e"
             ],
             [
              0.4444444444444444,
              "#bd3786"
             ],
             [
              0.5555555555555556,
              "#d8576b"
             ],
             [
              0.6666666666666666,
              "#ed7953"
             ],
             [
              0.7777777777777778,
              "#fb9f3a"
             ],
             [
              0.8888888888888888,
              "#fdca26"
             ],
             [
              1,
              "#f0f921"
             ]
            ],
            "type": "surface"
           }
          ],
          "table": [
           {
            "cells": {
             "fill": {
              "color": "#EBF0F8"
             },
             "line": {
              "color": "white"
             }
            },
            "header": {
             "fill": {
              "color": "#C8D4E3"
             },
             "line": {
              "color": "white"
             }
            },
            "type": "table"
           }
          ]
         },
         "layout": {
          "annotationdefaults": {
           "arrowcolor": "#2a3f5f",
           "arrowhead": 0,
           "arrowwidth": 1
          },
          "autotypenumbers": "strict",
          "coloraxis": {
           "colorbar": {
            "outlinewidth": 0,
            "ticks": ""
           }
          },
          "colorscale": {
           "diverging": [
            [
             0,
             "#8e0152"
            ],
            [
             0.1,
             "#c51b7d"
            ],
            [
             0.2,
             "#de77ae"
            ],
            [
             0.3,
             "#f1b6da"
            ],
            [
             0.4,
             "#fde0ef"
            ],
            [
             0.5,
             "#f7f7f7"
            ],
            [
             0.6,
             "#e6f5d0"
            ],
            [
             0.7,
             "#b8e186"
            ],
            [
             0.8,
             "#7fbc41"
            ],
            [
             0.9,
             "#4d9221"
            ],
            [
             1,
             "#276419"
            ]
           ],
           "sequential": [
            [
             0,
             "#0d0887"
            ],
            [
             0.1111111111111111,
             "#46039f"
            ],
            [
             0.2222222222222222,
             "#7201a8"
            ],
            [
             0.3333333333333333,
             "#9c179e"
            ],
            [
             0.4444444444444444,
             "#bd3786"
            ],
            [
             0.5555555555555556,
             "#d8576b"
            ],
            [
             0.6666666666666666,
             "#ed7953"
            ],
            [
             0.7777777777777778,
             "#fb9f3a"
            ],
            [
             0.8888888888888888,
             "#fdca26"
            ],
            [
             1,
             "#f0f921"
            ]
           ],
           "sequentialminus": [
            [
             0,
             "#0d0887"
            ],
            [
             0.1111111111111111,
             "#46039f"
            ],
            [
             0.2222222222222222,
             "#7201a8"
            ],
            [
             0.3333333333333333,
             "#9c179e"
            ],
            [
             0.4444444444444444,
             "#bd3786"
            ],
            [
             0.5555555555555556,
             "#d8576b"
            ],
            [
             0.6666666666666666,
             "#ed7953"
            ],
            [
             0.7777777777777778,
             "#fb9f3a"
            ],
            [
             0.8888888888888888,
             "#fdca26"
            ],
            [
             1,
             "#f0f921"
            ]
           ]
          },
          "colorway": [
           "#636efa",
           "#EF553B",
           "#00cc96",
           "#ab63fa",
           "#FFA15A",
           "#19d3f3",
           "#FF6692",
           "#B6E880",
           "#FF97FF",
           "#FECB52"
          ],
          "font": {
           "color": "#2a3f5f"
          },
          "geo": {
           "bgcolor": "white",
           "lakecolor": "white",
           "landcolor": "#E5ECF6",
           "showlakes": true,
           "showland": true,
           "subunitcolor": "white"
          },
          "hoverlabel": {
           "align": "left"
          },
          "hovermode": "closest",
          "mapbox": {
           "style": "light"
          },
          "paper_bgcolor": "white",
          "plot_bgcolor": "#E5ECF6",
          "polar": {
           "angularaxis": {
            "gridcolor": "white",
            "linecolor": "white",
            "ticks": ""
           },
           "bgcolor": "#E5ECF6",
           "radialaxis": {
            "gridcolor": "white",
            "linecolor": "white",
            "ticks": ""
           }
          },
          "scene": {
           "xaxis": {
            "backgroundcolor": "#E5ECF6",
            "gridcolor": "white",
            "gridwidth": 2,
            "linecolor": "white",
            "showbackground": true,
            "ticks": "",
            "zerolinecolor": "white"
           },
           "yaxis": {
            "backgroundcolor": "#E5ECF6",
            "gridcolor": "white",
            "gridwidth": 2,
            "linecolor": "white",
            "showbackground": true,
            "ticks": "",
            "zerolinecolor": "white"
           },
           "zaxis": {
            "backgroundcolor": "#E5ECF6",
            "gridcolor": "white",
            "gridwidth": 2,
            "linecolor": "white",
            "showbackground": true,
            "ticks": "",
            "zerolinecolor": "white"
           }
          },
          "shapedefaults": {
           "line": {
            "color": "#2a3f5f"
           }
          },
          "ternary": {
           "aaxis": {
            "gridcolor": "white",
            "linecolor": "white",
            "ticks": ""
           },
           "baxis": {
            "gridcolor": "white",
            "linecolor": "white",
            "ticks": ""
           },
           "bgcolor": "#E5ECF6",
           "caxis": {
            "gridcolor": "white",
            "linecolor": "white",
            "ticks": ""
           }
          },
          "title": {
           "x": 0.05
          },
          "xaxis": {
           "automargin": true,
           "gridcolor": "white",
           "linecolor": "white",
           "ticks": "",
           "title": {
            "standoff": 15
           },
           "zerolinecolor": "white",
           "zerolinewidth": 2
          },
          "yaxis": {
           "automargin": true,
           "gridcolor": "white",
           "linecolor": "white",
           "ticks": "",
           "title": {
            "standoff": 15
           },
           "zerolinecolor": "white",
           "zerolinewidth": 2
          }
         }
        },
        "title": {
         "text": "Payment Method Distribution"
        }
       }
      },
      "image/png": "[encoded data removed]",
      "text/html": [
       "<div>                            <div id=\"0bba0ef2-df37-4e0b-a113-afba7e3b5517\" class=\"plotly-graph-div\" style=\"height:525px; width:100%;\"></div>            <script type=\"text/javascript\">                require([\"plotly\"], function(Plotly) {                    window.PLOTLYENV=window.PLOTLYENV || {};                                    if (document.getElementById(\"0bba0ef2-df37-4e0b-a113-afba7e3b5517\")) {                    Plotly.newPlot(                        \"0bba0ef2-df37-4e0b-a113-afba7e3b5517\",                        [{\"domain\":{\"x\":[0.0,1.0],\"y\":[0.0,1.0]},\"hole\":0.3,\"hovertemplate\":\"PaymentMethod=%{label}\\u003cbr\\u003eTransactionCount=%{value}\\u003cextra\\u003e\\u003c\\u002fextra\\u003e\",\"labels\":[\"Credit Card\",\"Cash\",\"Bank Transfer\",\"PayPal\"],\"legendgroup\":\"\",\"name\":\"\",\"showlegend\":true,\"values\":[158,8,7,5],\"type\":\"pie\"}],                        {\"template\":{\"data\":{\"histogram2dcontour\":[{\"type\":\"histogram2dcontour\",\"colorbar\":{\"outlinewidth\":0,\"ticks\":\"\"},\"colorscale\":[[0.0,\"#0d0887\"],[0.1111111111111111,\"#46039f\"],[0.2222222222222222,\"#7201a8\"],[0.3333333333333333,\"#9c179e\"],[0.4444444444444444,\"#bd3786\"],[0.5555555555555556,\"#d8576b\"],[0.6666666666666666,\"#ed7953\"],[0.7777777777777778,\"#fb9f3a\"],[0.8888888888888888,\"#fdca26\"],[1.0,\"#f0f921\"]]}],\"choropleth\":[{\"type\":\"choropleth\",\"colorbar\":{\"outlinewidth\":0,\"ticks\":\"\"}}],\"histogram2d\":[{\"type\":\"histogram2d\",\"colorbar\":{\"outlinewidth\":0,\"ticks\":\"\"},\"colorscale\":[[0.0,\"#0d0887\"],[0.1111111111111111,\"#46039f\"],[0.2222222222222222,\"#7201a8\"],[0.3333333333333333,\"#9c179e\"],[0.4444444444444444,\"#bd3786\"],[0.5555555555555556,\"#d8576b\"],[0.6666666666666666,\"#ed7953\"],[0.7777777777777778,\"#fb9f3a\"],[0.8888888888888888,\"#fdca26\"],[1.0,\"#f0f921\"]]}],\"heatmap\":[{\"type\":\"heatmap\",\"colorbar\":{\"outlinewidth\":0,\"ticks\":\"\"},\"colorscale\":[[0.0,\"#0d0887\"],[0.1111111111111111,\"#46039f\"],[0.2222222222222222,\"#7201a8\"],[0.3333333333333333,\"#9c179e\"],[0.4444444444444444,\"#bd3786\"],[0.5555555555555556,\"#d8576b\"],[0.6666666666666666,\"#ed7953\"],[0.7777777777777778,\"#fb9f3a\"],[0.8888888888888888,\"#fdca26\"],[1.0,\"#f0f921\"]]}],\"heatmapgl\":[{\"type\":\"heatmapgl\",\"colorbar\":{\"outlinewidth\":0,\"ticks\":\"\"},\"colorscale\":[[0.0,\"#0d0887\"],[0.1111111111111111,\"#46039f\"],[0.2222222222222222,\"#7201a8\"],[0.3333333333333333,\"#9c179e\"],[0.4444444444444444,\"#bd3786\"],[0.5555555555555556,\"#d8576b\"],[0.6666666666666666,\"#ed7953\"],[0.7777777777777778,\"#fb9f3a\"],[0.8888888888888888,\"#fdca26\"],[1.0,\"#f0f921\"]]}],\"contourcarpet\":[{\"type\":\"contourcarpet\",\"colorbar\":{\"outlinewidth\":0,\"ticks\":\"\"}}],\"contour\":[{\"type\":\"contour\",\"colorbar\":{\"outlinewidth\":0,\"ticks\":\"\"},\"colorscale\":[[0.0,\"#0d0887\"],[0.1111111111111111,\"#46039f\"],[0.2222222222222222,\"#7201a8\"],[0.3333333333333333,\"#9c179e\"],[0.4444444444444444,\"#bd3786\"],[0.5555555555555556,\"#d8576b\"],[0.6666666666666666,\"#ed7953\"],[0.7777777777777778,\"#fb9f3a\"],[0.8888888888888888,\"#fdca26\"],[1.0,\"#f0f921\"]]}],\"surface\":[{\"type\":\"surface\",\"colorbar\":{\"outlinewidth\":0,\"ticks\":\"\"},\"colorscale\":[[0.0,\"#0d0887\"],[0.1111111111111111,\"#46039f\"],[0.2222222222222222,\"#7201a8\"],[0.3333333333333333,\"#9c179e\"],[0.4444444444444444,\"#bd3786\"],[0.5555555555555556,\"#d8576b\"],[0.6666666666666666,\"#ed7953\"],[0.7777777777777778,\"#fb9f3a\"],[0.8888888888888888,\"#fdca26\"],[1.0,\"#f0f921\"]]}],\"mesh3d\":[{\"type\":\"mesh3d\",\"colorbar\":{\"outlinewidth\":0,\"ticks\":\"\"}}],\"scatter\":[{\"fillpattern\":{\"fillmode\":\"overlay\",\"size\":10,\"solidity\":0.2},\"type\":\"scatter\"}],\"parcoords\":[{\"type\":\"parcoords\",\"line\":{\"colorbar\":{\"outlinewidth\":0,\"ticks\":\"\"}}}],\"scatterpolargl\":[{\"type\":\"scatterpolargl\",\"marker\":{\"colorbar\":{\"outlinewidth\":0,\"ticks\":\"\"}}}],\"bar\":[{\"error_x\":{\"color\":\"#2a3f5f\"},\"error_y\":{\"color\":\"#2a3f5f\"},\"marker\":{\"line\":{\"color\":\"#E5ECF6\",\"width\":0.5},\"pattern\":{\"fillmode\":\"overlay\",\"size\":10,\"solidity\":0.2}},\"type\":\"bar\"}],\"scattergeo\":[{\"type\":\"scattergeo\",\"marker\":{\"colorbar\":{\"outlinewidth\":0,\"ticks\":\"\"}}}],\"scatterpolar\":[{\"type\":\"scatterpolar\",\"marker\":{\"colorbar\":{\"outlinewidth\":0,\"ticks\":\"\"}}}],\"histogram\":[{\"marker\":{\"pattern\":{\"fillmode\":\"overlay\",\"size\":10,\"solidity\":0.2}},\"type\":\"histogram\"}],\"scattergl\":[{\"type\":\"scattergl\",\"marker\":{\"colorbar\":{\"outlinewidth\":0,\"ticks\":\"\"}}}],\"scatter3d\":[{\"type\":\"scatter3d\",\"line\":{\"colorbar\":{\"outlinewidth\":0,\"ticks\":\"\"}},\"marker\":{\"colorbar\":{\"outlinewidth\":0,\"ticks\":\"\"}}}],\"scattermapbox\":[{\"type\":\"scattermapbox\",\"marker\":{\"colorbar\":{\"outlinewidth\":0,\"ticks\":\"\"}}}],\"scatterternary\":[{\"type\":\"scatterternary\",\"marker\":{\"colorbar\":{\"outlinewidth\":0,\"ticks\":\"\"}}}],\"scattercarpet\":[{\"type\":\"scattercarpet\",\"marker\":{\"colorbar\":{\"outlinewidth\":0,\"ticks\":\"\"}}}],\"carpet\":[{\"aaxis\":{\"endlinecolor\":\"#2a3f5f\",\"gridcolor\":\"white\",\"linecolor\":\"white\",\"minorgridcolor\":\"white\",\"startlinecolor\":\"#2a3f5f\"},\"baxis\":{\"endlinecolor\":\"#2a3f5f\",\"gridcolor\":\"white\",\"linecolor\":\"white\",\"minorgridcolor\":\"white\",\"startlinecolor\":\"#2a3f5f\"},\"type\":\"carpet\"}],\"table\":[{\"cells\":{\"fill\":{\"color\":\"#EBF0F8\"},\"line\":{\"color\":\"white\"}},\"header\":{\"fill\":{\"color\":\"#C8D4E3\"},\"line\":{\"color\":\"white\"}},\"type\":\"table\"}],\"barpolar\":[{\"marker\":{\"line\":{\"color\":\"#E5ECF6\",\"width\":0.5},\"pattern\":{\"fillmode\":\"overlay\",\"size\":10,\"solidity\":0.2}},\"type\":\"barpolar\"}],\"pie\":[{\"automargin\":true,\"type\":\"pie\"}]},\"layout\":{\"autotypenumbers\":\"strict\",\"colorway\":[\"#636efa\",\"#EF553B\",\"#00cc96\",\"#ab63fa\",\"#FFA15A\",\"#19d3f3\",\"#FF6692\",\"#B6E880\",\"#FF97FF\",\"#FECB52\"],\"font\":{\"color\":\"#2a3f5f\"},\"hovermode\":\"closest\",\"hoverlabel\":{\"align\":\"left\"},\"paper_bgcolor\":\"white\",\"plot_bgcolor\":\"#E5ECF6\",\"polar\":{\"bgcolor\":\"#E5ECF6\",\"angularaxis\":{\"gridcolor\":\"white\",\"linecolor\":\"white\",\"ticks\":\"\"},\"radialaxis\":{\"gridcolor\":\"white\",\"linecolor\":\"white\",\"ticks\":\"\"}},\"ternary\":{\"bgcolor\":\"#E5ECF6\",\"aaxis\":{\"gridcolor\":\"white\",\"linecolor\":\"white\",\"ticks\":\"\"},\"baxis\":{\"gridcolor\":\"white\",\"linecolor\":\"white\",\"ticks\":\"\"},\"caxis\":{\"gridcolor\":\"white\",\"linecolor\":\"white\",\"ticks\":\"\"}},\"coloraxis\":{\"colorbar\":{\"outlinewidth\":0,\"ticks\":\"\"}},\"colorscale\":{\"sequential\":[[0.0,\"#0d0887\"],[0.1111111111111111,\"#46039f\"],[0.2222222222222222,\"#7201a8\"],[0.3333333333333333,\"#9c179e\"],[0.4444444444444444,\"#bd3786\"],[0.5555555555555556,\"#d8576b\"],[0.6666666666666666,\"#ed7953\"],[0.7777777777777778,\"#fb9f3a\"],[0.8888888888888888,\"#fdca26\"],[1.0,\"#f0f921\"]],\"sequentialminus\":[[0.0,\"#0d0887\"],[0.1111111111111111,\"#46039f\"],[0.2222222222222222,\"#7201a8\"],[0.3333333333333333,\"#9c179e\"],[0.4444444444444444,\"#bd3786\"],[0.5555555555555556,\"#d8576b\"],[0.6666666666666666,\"#ed7953\"],[0.7777777777777778,\"#fb9f3a\"],[0.8888888888888888,\"#fdca26\"],[1.0,\"#f0f921\"]],\"diverging\":[[0,\"#8e0152\"],[0.1,\"#c51b7d\"],[0.2,\"#de77ae\"],[0.3,\"#f1b6da\"],[0.4,\"#fde0ef\"],[0.5,\"#f7f7f7\"],[0.6,\"#e6f5d0\"],[0.7,\"#b8e186\"],[0.8,\"#7fbc41\"],[0.9,\"#4d9221\"],[1,\"#276419\"]]},\"xaxis\":{\"gridcolor\":\"white\",\"linecolor\":\"white\",\"ticks\":\"\",\"title\":{\"standoff\":15},\"zerolinecolor\":\"white\",\"automargin\":true,\"zerolinewidth\":2},\"yaxis\":{\"gridcolor\":\"white\",\"linecolor\":\"white\",\"ticks\":\"\",\"title\":{\"standoff\":15},\"zerolinecolor\":\"white\",\"automargin\":true,\"zerolinewidth\":2},\"scene\":{\"xaxis\":{\"backgroundcolor\":\"#E5ECF6\",\"gridcolor\":\"white\",\"linecolor\":\"white\",\"showbackground\":true,\"ticks\":\"\",\"zerolinecolor\":\"white\",\"gridwidth\":2},\"yaxis\":{\"backgroundcolor\":\"#E5ECF6\",\"gridcolor\":\"white\",\"linecolor\":\"white\",\"showbackground\":true,\"ticks\":\"\",\"zerolinecolor\":\"white\",\"gridwidth\":2},\"zaxis\":{\"backgroundcolor\":\"#E5ECF6\",\"gridcolor\":\"white\",\"linecolor\":\"white\",\"showbackground\":true,\"ticks\":\"\",\"zerolinecolor\":\"white\",\"gridwidth\":2}},\"shapedefaults\":{\"line\":{\"color\":\"#2a3f5f\"}},\"annotationdefaults\":{\"arrowcolor\":\"#2a3f5f\",\"arrowhead\":0,\"arrowwidth\":1},\"geo\":{\"bgcolor\":\"white\",\"landcolor\":\"#E5ECF6\",\"subunitcolor\":\"white\",\"showland\":true,\"showlakes\":true,\"lakecolor\":\"white\"},\"title\":{\"x\":0.05},\"mapbox\":{\"style\":\"light\"}}},\"legend\":{\"tracegroupgap\":0},\"title\":{\"text\":\"Payment Method Distribution\"}},                        {\"responsive\": true}                    ).then(function(){\n",
       "                            \n",
       "var gd = document.getElementById('0bba0ef2-df37-4e0b-a113-afba7e3b5517');\n",
       "var x = new MutationObserver(function (mutations, observer) {{\n",
       "        var display = window.getComputedStyle(gd).display;\n",
       "        if (!display || display === 'none') {{\n",
       "            console.log([gd, 'removed!']);\n",
       "            Plotly.purge(gd);\n",
       "            observer.disconnect();\n",
       "        }}\n",
       "}});\n",
       "\n",
       "// Listen for the removal of the full notebook cells\n",
       "var notebookContainer = gd.closest('#notebook-container');\n",
       "if (notebookContainer) {{\n",
       "    x.observe(notebookContainer, {childList: true});\n",
       "}}\n",
       "\n",
       "// Listen for the clearing of the current output cell\n",
       "var outputEl = gd.closest('.output');\n",
       "if (outputEl) {{\n",
       "    x.observe(outputEl, {childList: true});\n",
       "}}\n",
       "\n",
       "                        })                };                });            </script>        </div>"
      ]
     },
     "metadata": {},
     "output_type": "display_data"
    }
   ],
   "source": [
    "# SQL Query to Fetch Payment Method Distribution\n",
    "payment_method_distribution_query = \"\"\"\n",
    "SELECT \n",
    "    PaymentMethod,\n",
    "    COUNT(PaymentID) AS TransactionCount\n",
    "FROM Payment\n",
    "GROUP BY PaymentMethod\n",
    "ORDER BY TransactionCount DESC;\n",
    "\"\"\"\n",
    "\n",
    "# Fetch Data from Database\n",
    "payment_df = run_query(payment_method_distribution_query)\n",
    "\n",
    "# Create Pie Chart using Plotly Express\n",
    "payment_fig_pie = px.pie(\n",
    "    payment_df,\n",
    "    names=\"PaymentMethod\",\n",
    "    values=\"TransactionCount\",\n",
    "    title=\"Payment Method Distribution\",\n",
    "    hole=0.3  # For a donut-style chart\n",
    ")\n",
    "\n",
    "# Show Pie Chart\n",
    "payment_fig_pie.show()\n"
   ]
  },
  {
   "cell_type": "markdown",
   "metadata": {},
   "source": [
    "#### - Discount Source Usage Data: \n",
    "Shows the usage count of discounts from sources like Groupon, Company promotions, etc."
   ]
  },
  {
   "cell_type": "code",
   "execution_count": 306,
   "metadata": {},
   "outputs": [
    {
     "data": {
      "application/vnd.plotly.v1+json": {
       "config": {
        "plotlyServerURL": "https://plot.ly"
       },
       "data": [
        {
         "alignmentgroup": "True",
         "hovertemplate": "Discount Type=%{x}<br>Number of Times Used=%{text}<extra></extra>",
         "legendgroup": "Groupon",
         "marker": {
          "color": "#636efa",
          "pattern": {
           "shape": ""
          }
         },
         "name": "Groupon",
         "offsetgroup": "Groupon",
         "orientation": "v",
         "showlegend": true,
         "text": [
          137
         ],
         "textposition": "auto",
         "type": "bar",
         "x": [
          "Groupon"
         ],
         "xaxis": "x",
         "y": [
          137
         ],
         "yaxis": "y"
        },
        {
         "alignmentgroup": "True",
         "hovertemplate": "Discount Type=%{x}<br>Number of Times Used=%{text}<extra></extra>",
         "legendgroup": "Company",
         "marker": {
          "color": "#EF553B",
          "pattern": {
           "shape": ""
          }
         },
         "name": "Company",
         "offsetgroup": "Company",
         "orientation": "v",
         "showlegend": true,
         "text": [
          32
         ],
         "textposition": "auto",
         "type": "bar",
         "x": [
          "Company"
         ],
         "xaxis": "x",
         "y": [
          32
         ],
         "yaxis": "y"
        },
        {
         "alignmentgroup": "True",
         "hovertemplate": "Discount Type=%{x}<br>Number of Times Used=%{text}<extra></extra>",
         "legendgroup": "Promotion",
         "marker": {
          "color": "#00cc96",
          "pattern": {
           "shape": ""
          }
         },
         "name": "Promotion",
         "offsetgroup": "Promotion",
         "orientation": "v",
         "showlegend": true,
         "text": [
          14
         ],
         "textposition": "auto",
         "type": "bar",
         "x": [
          "Promotion"
         ],
         "xaxis": "x",
         "y": [
          14
         ],
         "yaxis": "y"
        }
       ],
       "layout": {
        "autosize": true,
        "barmode": "relative",
        "legend": {
         "title": {
          "text": "Discount Type"
         },
         "tracegroupgap": 0
        },
        "template": {
         "data": {
          "bar": [
           {
            "error_x": {
             "color": "#2a3f5f"
            },
            "error_y": {
             "color": "#2a3f5f"
            },
            "marker": {
             "line": {
              "color": "#E5ECF6",
              "width": 0.5
             },
             "pattern": {
              "fillmode": "overlay",
              "size": 10,
              "solidity": 0.2
             }
            },
            "type": "bar"
           }
          ],
          "barpolar": [
           {
            "marker": {
             "line": {
              "color": "#E5ECF6",
              "width": 0.5
             },
             "pattern": {
              "fillmode": "overlay",
              "size": 10,
              "solidity": 0.2
             }
            },
            "type": "barpolar"
           }
          ],
          "carpet": [
           {
            "aaxis": {
             "endlinecolor": "#2a3f5f",
             "gridcolor": "white",
             "linecolor": "white",
             "minorgridcolor": "white",
             "startlinecolor": "#2a3f5f"
            },
            "baxis": {
             "endlinecolor": "#2a3f5f",
             "gridcolor": "white",
             "linecolor": "white",
             "minorgridcolor": "white",
             "startlinecolor": "#2a3f5f"
            },
            "type": "carpet"
           }
          ],
          "choropleth": [
           {
            "colorbar": {
             "outlinewidth": 0,
             "ticks": ""
            },
            "type": "choropleth"
           }
          ],
          "contour": [
           {
            "colorbar": {
             "outlinewidth": 0,
             "ticks": ""
            },
            "colorscale": [
             [
              0,
              "#0d0887"
             ],
             [
              0.1111111111111111,
              "#46039f"
             ],
             [
              0.2222222222222222,
              "#7201a8"
             ],
             [
              0.3333333333333333,
              "#9c179e"
             ],
             [
              0.4444444444444444,
              "#bd3786"
             ],
             [
              0.5555555555555556,
              "#d8576b"
             ],
             [
              0.6666666666666666,
              "#ed7953"
             ],
             [
              0.7777777777777778,
              "#fb9f3a"
             ],
             [
              0.8888888888888888,
              "#fdca26"
             ],
             [
              1,
              "#f0f921"
             ]
            ],
            "type": "contour"
           }
          ],
          "contourcarpet": [
           {
            "colorbar": {
             "outlinewidth": 0,
             "ticks": ""
            },
            "type": "contourcarpet"
           }
          ],
          "heatmap": [
           {
            "colorbar": {
             "outlinewidth": 0,
             "ticks": ""
            },
            "colorscale": [
             [
              0,
              "#0d0887"
             ],
             [
              0.1111111111111111,
              "#46039f"
             ],
             [
              0.2222222222222222,
              "#7201a8"
             ],
             [
              0.3333333333333333,
              "#9c179e"
             ],
             [
              0.4444444444444444,
              "#bd3786"
             ],
             [
              0.5555555555555556,
              "#d8576b"
             ],
             [
              0.6666666666666666,
              "#ed7953"
             ],
             [
              0.7777777777777778,
              "#fb9f3a"
             ],
             [
              0.8888888888888888,
              "#fdca26"
             ],
             [
              1,
              "#f0f921"
             ]
            ],
            "type": "heatmap"
           }
          ],
          "heatmapgl": [
           {
            "colorbar": {
             "outlinewidth": 0,
             "ticks": ""
            },
            "colorscale": [
             [
              0,
              "#0d0887"
             ],
             [
              0.1111111111111111,
              "#46039f"
             ],
             [
              0.2222222222222222,
              "#7201a8"
             ],
             [
              0.3333333333333333,
              "#9c179e"
             ],
             [
              0.4444444444444444,
              "#bd3786"
             ],
             [
              0.5555555555555556,
              "#d8576b"
             ],
             [
              0.6666666666666666,
              "#ed7953"
             ],
             [
              0.7777777777777778,
              "#fb9f3a"
             ],
             [
              0.8888888888888888,
              "#fdca26"
             ],
             [
              1,
              "#f0f921"
             ]
            ],
            "type": "heatmapgl"
           }
          ],
          "histogram": [
           {
            "marker": {
             "pattern": {
              "fillmode": "overlay",
              "size": 10,
              "solidity": 0.2
             }
            },
            "type": "histogram"
           }
          ],
          "histogram2d": [
           {
            "colorbar": {
             "outlinewidth": 0,
             "ticks": ""
            },
            "colorscale": [
             [
              0,
              "#0d0887"
             ],
             [
              0.1111111111111111,
              "#46039f"
             ],
             [
              0.2222222222222222,
              "#7201a8"
             ],
             [
              0.3333333333333333,
              "#9c179e"
             ],
             [
              0.4444444444444444,
              "#bd3786"
             ],
             [
              0.5555555555555556,
              "#d8576b"
             ],
             [
              0.6666666666666666,
              "#ed7953"
             ],
             [
              0.7777777777777778,
              "#fb9f3a"
             ],
             [
              0.8888888888888888,
              "#fdca26"
             ],
             [
              1,
              "#f0f921"
             ]
            ],
            "type": "histogram2d"
           }
          ],
          "histogram2dcontour": [
           {
            "colorbar": {
             "outlinewidth": 0,
             "ticks": ""
            },
            "colorscale": [
             [
              0,
              "#0d0887"
             ],
             [
              0.1111111111111111,
              "#46039f"
             ],
             [
              0.2222222222222222,
              "#7201a8"
             ],
             [
              0.3333333333333333,
              "#9c179e"
             ],
             [
              0.4444444444444444,
              "#bd3786"
             ],
             [
              0.5555555555555556,
              "#d8576b"
             ],
             [
              0.6666666666666666,
              "#ed7953"
             ],
             [
              0.7777777777777778,
              "#fb9f3a"
             ],
             [
              0.8888888888888888,
              "#fdca26"
             ],
             [
              1,
              "#f0f921"
             ]
            ],
            "type": "histogram2dcontour"
           }
          ],
          "mesh3d": [
           {
            "colorbar": {
             "outlinewidth": 0,
             "ticks": ""
            },
            "type": "mesh3d"
           }
          ],
          "parcoords": [
           {
            "line": {
             "colorbar": {
              "outlinewidth": 0,
              "ticks": ""
             }
            },
            "type": "parcoords"
           }
          ],
          "pie": [
           {
            "automargin": true,
            "type": "pie"
           }
          ],
          "scatter": [
           {
            "fillpattern": {
             "fillmode": "overlay",
             "size": 10,
             "solidity": 0.2
            },
            "type": "scatter"
           }
          ],
          "scatter3d": [
           {
            "line": {
             "colorbar": {
              "outlinewidth": 0,
              "ticks": ""
             }
            },
            "marker": {
             "colorbar": {
              "outlinewidth": 0,
              "ticks": ""
             }
            },
            "type": "scatter3d"
           }
          ],
          "scattercarpet": [
           {
            "marker": {
             "colorbar": {
              "outlinewidth": 0,
              "ticks": ""
             }
            },
            "type": "scattercarpet"
           }
          ],
          "scattergeo": [
           {
            "marker": {
             "colorbar": {
              "outlinewidth": 0,
              "ticks": ""
             }
            },
            "type": "scattergeo"
           }
          ],
          "scattergl": [
           {
            "marker": {
             "colorbar": {
              "outlinewidth": 0,
              "ticks": ""
             }
            },
            "type": "scattergl"
           }
          ],
          "scattermapbox": [
           {
            "marker": {
             "colorbar": {
              "outlinewidth": 0,
              "ticks": ""
             }
            },
            "type": "scattermapbox"
           }
          ],
          "scatterpolar": [
           {
            "marker": {
             "colorbar": {
              "outlinewidth": 0,
              "ticks": ""
             }
            },
            "type": "scatterpolar"
           }
          ],
          "scatterpolargl": [
           {
            "marker": {
             "colorbar": {
              "outlinewidth": 0,
              "ticks": ""
             }
            },
            "type": "scatterpolargl"
           }
          ],
          "scatterternary": [
           {
            "marker": {
             "colorbar": {
              "outlinewidth": 0,
              "ticks": ""
             }
            },
            "type": "scatterternary"
           }
          ],
          "surface": [
           {
            "colorbar": {
             "outlinewidth": 0,
             "ticks": ""
            },
            "colorscale": [
             [
              0,
              "#0d0887"
             ],
             [
              0.1111111111111111,
              "#46039f"
             ],
             [
              0.2222222222222222,
              "#7201a8"
             ],
             [
              0.3333333333333333,
              "#9c179e"
             ],
             [
              0.4444444444444444,
              "#bd3786"
             ],
             [
              0.5555555555555556,
              "#d8576b"
             ],
             [
              0.6666666666666666,
              "#ed7953"
             ],
             [
              0.7777777777777778,
              "#fb9f3a"
             ],
             [
              0.8888888888888888,
              "#fdca26"
             ],
             [
              1,
              "#f0f921"
             ]
            ],
            "type": "surface"
           }
          ],
          "table": [
           {
            "cells": {
             "fill": {
              "color": "#EBF0F8"
             },
             "line": {
              "color": "white"
             }
            },
            "header": {
             "fill": {
              "color": "#C8D4E3"
             },
             "line": {
              "color": "white"
             }
            },
            "type": "table"
           }
          ]
         },
         "layout": {
          "annotationdefaults": {
           "arrowcolor": "#2a3f5f",
           "arrowhead": 0,
           "arrowwidth": 1
          },
          "autotypenumbers": "strict",
          "coloraxis": {
           "colorbar": {
            "outlinewidth": 0,
            "ticks": ""
           }
          },
          "colorscale": {
           "diverging": [
            [
             0,
             "#8e0152"
            ],
            [
             0.1,
             "#c51b7d"
            ],
            [
             0.2,
             "#de77ae"
            ],
            [
             0.3,
             "#f1b6da"
            ],
            [
             0.4,
             "#fde0ef"
            ],
            [
             0.5,
             "#f7f7f7"
            ],
            [
             0.6,
             "#e6f5d0"
            ],
            [
             0.7,
             "#b8e186"
            ],
            [
             0.8,
             "#7fbc41"
            ],
            [
             0.9,
             "#4d9221"
            ],
            [
             1,
             "#276419"
            ]
           ],
           "sequential": [
            [
             0,
             "#0d0887"
            ],
            [
             0.1111111111111111,
             "#46039f"
            ],
            [
             0.2222222222222222,
             "#7201a8"
            ],
            [
             0.3333333333333333,
             "#9c179e"
            ],
            [
             0.4444444444444444,
             "#bd3786"
            ],
            [
             0.5555555555555556,
             "#d8576b"
            ],
            [
             0.6666666666666666,
             "#ed7953"
            ],
            [
             0.7777777777777778,
             "#fb9f3a"
            ],
            [
             0.8888888888888888,
             "#fdca26"
            ],
            [
             1,
             "#f0f921"
            ]
           ],
           "sequentialminus": [
            [
             0,
             "#0d0887"
            ],
            [
             0.1111111111111111,
             "#46039f"
            ],
            [
             0.2222222222222222,
             "#7201a8"
            ],
            [
             0.3333333333333333,
             "#9c179e"
            ],
            [
             0.4444444444444444,
             "#bd3786"
            ],
            [
             0.5555555555555556,
             "#d8576b"
            ],
            [
             0.6666666666666666,
             "#ed7953"
            ],
            [
             0.7777777777777778,
             "#fb9f3a"
            ],
            [
             0.8888888888888888,
             "#fdca26"
            ],
            [
             1,
             "#f0f921"
            ]
           ]
          },
          "colorway": [
           "#636efa",
           "#EF553B",
           "#00cc96",
           "#ab63fa",
           "#FFA15A",
           "#19d3f3",
           "#FF6692",
           "#B6E880",
           "#FF97FF",
           "#FECB52"
          ],
          "font": {
           "color": "#2a3f5f"
          },
          "geo": {
           "bgcolor": "white",
           "lakecolor": "white",
           "landcolor": "#E5ECF6",
           "showlakes": true,
           "showland": true,
           "subunitcolor": "white"
          },
          "hoverlabel": {
           "align": "left"
          },
          "hovermode": "closest",
          "mapbox": {
           "style": "light"
          },
          "paper_bgcolor": "white",
          "plot_bgcolor": "#E5ECF6",
          "polar": {
           "angularaxis": {
            "gridcolor": "white",
            "linecolor": "white",
            "ticks": ""
           },
           "bgcolor": "#E5ECF6",
           "radialaxis": {
            "gridcolor": "white",
            "linecolor": "white",
            "ticks": ""
           }
          },
          "scene": {
           "xaxis": {
            "backgroundcolor": "#E5ECF6",
            "gridcolor": "white",
            "gridwidth": 2,
            "linecolor": "white",
            "showbackground": true,
            "ticks": "",
            "zerolinecolor": "white"
           },
           "yaxis": {
            "backgroundcolor": "#E5ECF6",
            "gridcolor": "white",
            "gridwidth": 2,
            "linecolor": "white",
            "showbackground": true,
            "ticks": "",
            "zerolinecolor": "white"
           },
           "zaxis": {
            "backgroundcolor": "#E5ECF6",
            "gridcolor": "white",
            "gridwidth": 2,
            "linecolor": "white",
            "showbackground": true,
            "ticks": "",
            "zerolinecolor": "white"
           }
          },
          "shapedefaults": {
           "line": {
            "color": "#2a3f5f"
           }
          },
          "ternary": {
           "aaxis": {
            "gridcolor": "white",
            "linecolor": "white",
            "ticks": ""
           },
           "baxis": {
            "gridcolor": "white",
            "linecolor": "white",
            "ticks": ""
           },
           "bgcolor": "#E5ECF6",
           "caxis": {
            "gridcolor": "white",
            "linecolor": "white",
            "ticks": ""
           }
          },
          "title": {
           "x": 0.05
          },
          "xaxis": {
           "automargin": true,
           "gridcolor": "white",
           "linecolor": "white",
           "ticks": "",
           "title": {
            "standoff": 15
           },
           "zerolinecolor": "white",
           "zerolinewidth": 2
          },
          "yaxis": {
           "automargin": true,
           "gridcolor": "white",
           "linecolor": "white",
           "ticks": "",
           "title": {
            "standoff": 15
           },
           "zerolinecolor": "white",
           "zerolinewidth": 2
          }
         }
        },
        "title": {
         "text": "Discount Usage Analysis"
        },
        "xaxis": {
         "anchor": "y",
         "autorange": true,
         "categoryarray": [
          "Groupon",
          "Company",
          "Promotion"
         ],
         "categoryorder": "array",
         "domain": [
          0,
          1
         ],
         "range": [
          -0.5,
          2.5
         ],
         "title": {
          "text": "Discount Type"
         },
         "type": "category"
        },
        "yaxis": {
         "anchor": "x",
         "autorange": true,
         "domain": [
          0,
          1
         ],
         "range": [
          0,
          144.21052631578948
         ],
         "title": {
          "text": "Number of Times Used"
         },
         "type": "linear"
        }
       }
      },
      "image/png": "[encoded data removed]",
      "text/html": [
       "<div>                            <div id=\"9d8e97c0-117a-4acb-b352-ed7cc30509b5\" class=\"plotly-graph-div\" style=\"height:525px; width:100%;\"></div>            <script type=\"text/javascript\">                require([\"plotly\"], function(Plotly) {                    window.PLOTLYENV=window.PLOTLYENV || {};                                    if (document.getElementById(\"9d8e97c0-117a-4acb-b352-ed7cc30509b5\")) {                    Plotly.newPlot(                        \"9d8e97c0-117a-4acb-b352-ed7cc30509b5\",                        [{\"alignmentgroup\":\"True\",\"hovertemplate\":\"Discount Type=%{x}\\u003cbr\\u003eNumber of Times Used=%{text}\\u003cextra\\u003e\\u003c\\u002fextra\\u003e\",\"legendgroup\":\"Groupon\",\"marker\":{\"color\":\"#636efa\",\"pattern\":{\"shape\":\"\"}},\"name\":\"Groupon\",\"offsetgroup\":\"Groupon\",\"orientation\":\"v\",\"showlegend\":true,\"text\":[137.0],\"textposition\":\"auto\",\"x\":[\"Groupon\"],\"xaxis\":\"x\",\"y\":[137],\"yaxis\":\"y\",\"type\":\"bar\"},{\"alignmentgroup\":\"True\",\"hovertemplate\":\"Discount Type=%{x}\\u003cbr\\u003eNumber of Times Used=%{text}\\u003cextra\\u003e\\u003c\\u002fextra\\u003e\",\"legendgroup\":\"Company\",\"marker\":{\"color\":\"#EF553B\",\"pattern\":{\"shape\":\"\"}},\"name\":\"Company\",\"offsetgroup\":\"Company\",\"orientation\":\"v\",\"showlegend\":true,\"text\":[32.0],\"textposition\":\"auto\",\"x\":[\"Company\"],\"xaxis\":\"x\",\"y\":[32],\"yaxis\":\"y\",\"type\":\"bar\"},{\"alignmentgroup\":\"True\",\"hovertemplate\":\"Discount Type=%{x}\\u003cbr\\u003eNumber of Times Used=%{text}\\u003cextra\\u003e\\u003c\\u002fextra\\u003e\",\"legendgroup\":\"Promotion\",\"marker\":{\"color\":\"#00cc96\",\"pattern\":{\"shape\":\"\"}},\"name\":\"Promotion\",\"offsetgroup\":\"Promotion\",\"orientation\":\"v\",\"showlegend\":true,\"text\":[14.0],\"textposition\":\"auto\",\"x\":[\"Promotion\"],\"xaxis\":\"x\",\"y\":[14],\"yaxis\":\"y\",\"type\":\"bar\"}],                        {\"template\":{\"data\":{\"histogram2dcontour\":[{\"type\":\"histogram2dcontour\",\"colorbar\":{\"outlinewidth\":0,\"ticks\":\"\"},\"colorscale\":[[0.0,\"#0d0887\"],[0.1111111111111111,\"#46039f\"],[0.2222222222222222,\"#7201a8\"],[0.3333333333333333,\"#9c179e\"],[0.4444444444444444,\"#bd3786\"],[0.5555555555555556,\"#d8576b\"],[0.6666666666666666,\"#ed7953\"],[0.7777777777777778,\"#fb9f3a\"],[0.8888888888888888,\"#fdca26\"],[1.0,\"#f0f921\"]]}],\"choropleth\":[{\"type\":\"choropleth\",\"colorbar\":{\"outlinewidth\":0,\"ticks\":\"\"}}],\"histogram2d\":[{\"type\":\"histogram2d\",\"colorbar\":{\"outlinewidth\":0,\"ticks\":\"\"},\"colorscale\":[[0.0,\"#0d0887\"],[0.1111111111111111,\"#46039f\"],[0.2222222222222222,\"#7201a8\"],[0.3333333333333333,\"#9c179e\"],[0.4444444444444444,\"#bd3786\"],[0.5555555555555556,\"#d8576b\"],[0.6666666666666666,\"#ed7953\"],[0.7777777777777778,\"#fb9f3a\"],[0.8888888888888888,\"#fdca26\"],[1.0,\"#f0f921\"]]}],\"heatmap\":[{\"type\":\"heatmap\",\"colorbar\":{\"outlinewidth\":0,\"ticks\":\"\"},\"colorscale\":[[0.0,\"#0d0887\"],[0.1111111111111111,\"#46039f\"],[0.2222222222222222,\"#7201a8\"],[0.3333333333333333,\"#9c179e\"],[0.4444444444444444,\"#bd3786\"],[0.5555555555555556,\"#d8576b\"],[0.6666666666666666,\"#ed7953\"],[0.7777777777777778,\"#fb9f3a\"],[0.8888888888888888,\"#fdca26\"],[1.0,\"#f0f921\"]]}],\"heatmapgl\":[{\"type\":\"heatmapgl\",\"colorbar\":{\"outlinewidth\":0,\"ticks\":\"\"},\"colorscale\":[[0.0,\"#0d0887\"],[0.1111111111111111,\"#46039f\"],[0.2222222222222222,\"#7201a8\"],[0.3333333333333333,\"#9c179e\"],[0.4444444444444444,\"#bd3786\"],[0.5555555555555556,\"#d8576b\"],[0.6666666666666666,\"#ed7953\"],[0.7777777777777778,\"#fb9f3a\"],[0.8888888888888888,\"#fdca26\"],[1.0,\"#f0f921\"]]}],\"contourcarpet\":[{\"type\":\"contourcarpet\",\"colorbar\":{\"outlinewidth\":0,\"ticks\":\"\"}}],\"contour\":[{\"type\":\"contour\",\"colorbar\":{\"outlinewidth\":0,\"ticks\":\"\"},\"colorscale\":[[0.0,\"#0d0887\"],[0.1111111111111111,\"#46039f\"],[0.2222222222222222,\"#7201a8\"],[0.3333333333333333,\"#9c179e\"],[0.4444444444444444,\"#bd3786\"],[0.5555555555555556,\"#d8576b\"],[0.6666666666666666,\"#ed7953\"],[0.7777777777777778,\"#fb9f3a\"],[0.8888888888888888,\"#fdca26\"],[1.0,\"#f0f921\"]]}],\"surface\":[{\"type\":\"surface\",\"colorbar\":{\"outlinewidth\":0,\"ticks\":\"\"},\"colorscale\":[[0.0,\"#0d0887\"],[0.1111111111111111,\"#46039f\"],[0.2222222222222222,\"#7201a8\"],[0.3333333333333333,\"#9c179e\"],[0.4444444444444444,\"#bd3786\"],[0.5555555555555556,\"#d8576b\"],[0.6666666666666666,\"#ed7953\"],[0.7777777777777778,\"#fb9f3a\"],[0.8888888888888888,\"#fdca26\"],[1.0,\"#f0f921\"]]}],\"mesh3d\":[{\"type\":\"mesh3d\",\"colorbar\":{\"outlinewidth\":0,\"ticks\":\"\"}}],\"scatter\":[{\"fillpattern\":{\"fillmode\":\"overlay\",\"size\":10,\"solidity\":0.2},\"type\":\"scatter\"}],\"parcoords\":[{\"type\":\"parcoords\",\"line\":{\"colorbar\":{\"outlinewidth\":0,\"ticks\":\"\"}}}],\"scatterpolargl\":[{\"type\":\"scatterpolargl\",\"marker\":{\"colorbar\":{\"outlinewidth\":0,\"ticks\":\"\"}}}],\"bar\":[{\"error_x\":{\"color\":\"#2a3f5f\"},\"error_y\":{\"color\":\"#2a3f5f\"},\"marker\":{\"line\":{\"color\":\"#E5ECF6\",\"width\":0.5},\"pattern\":{\"fillmode\":\"overlay\",\"size\":10,\"solidity\":0.2}},\"type\":\"bar\"}],\"scattergeo\":[{\"type\":\"scattergeo\",\"marker\":{\"colorbar\":{\"outlinewidth\":0,\"ticks\":\"\"}}}],\"scatterpolar\":[{\"type\":\"scatterpolar\",\"marker\":{\"colorbar\":{\"outlinewidth\":0,\"ticks\":\"\"}}}],\"histogram\":[{\"marker\":{\"pattern\":{\"fillmode\":\"overlay\",\"size\":10,\"solidity\":0.2}},\"type\":\"histogram\"}],\"scattergl\":[{\"type\":\"scattergl\",\"marker\":{\"colorbar\":{\"outlinewidth\":0,\"ticks\":\"\"}}}],\"scatter3d\":[{\"type\":\"scatter3d\",\"line\":{\"colorbar\":{\"outlinewidth\":0,\"ticks\":\"\"}},\"marker\":{\"colorbar\":{\"outlinewidth\":0,\"ticks\":\"\"}}}],\"scattermapbox\":[{\"type\":\"scattermapbox\",\"marker\":{\"colorbar\":{\"outlinewidth\":0,\"ticks\":\"\"}}}],\"scatterternary\":[{\"type\":\"scatterternary\",\"marker\":{\"colorbar\":{\"outlinewidth\":0,\"ticks\":\"\"}}}],\"scattercarpet\":[{\"type\":\"scattercarpet\",\"marker\":{\"colorbar\":{\"outlinewidth\":0,\"ticks\":\"\"}}}],\"carpet\":[{\"aaxis\":{\"endlinecolor\":\"#2a3f5f\",\"gridcolor\":\"white\",\"linecolor\":\"white\",\"minorgridcolor\":\"white\",\"startlinecolor\":\"#2a3f5f\"},\"baxis\":{\"endlinecolor\":\"#2a3f5f\",\"gridcolor\":\"white\",\"linecolor\":\"white\",\"minorgridcolor\":\"white\",\"startlinecolor\":\"#2a3f5f\"},\"type\":\"carpet\"}],\"table\":[{\"cells\":{\"fill\":{\"color\":\"#EBF0F8\"},\"line\":{\"color\":\"white\"}},\"header\":{\"fill\":{\"color\":\"#C8D4E3\"},\"line\":{\"color\":\"white\"}},\"type\":\"table\"}],\"barpolar\":[{\"marker\":{\"line\":{\"color\":\"#E5ECF6\",\"width\":0.5},\"pattern\":{\"fillmode\":\"overlay\",\"size\":10,\"solidity\":0.2}},\"type\":\"barpolar\"}],\"pie\":[{\"automargin\":true,\"type\":\"pie\"}]},\"layout\":{\"autotypenumbers\":\"strict\",\"colorway\":[\"#636efa\",\"#EF553B\",\"#00cc96\",\"#ab63fa\",\"#FFA15A\",\"#19d3f3\",\"#FF6692\",\"#B6E880\",\"#FF97FF\",\"#FECB52\"],\"font\":{\"color\":\"#2a3f5f\"},\"hovermode\":\"closest\",\"hoverlabel\":{\"align\":\"left\"},\"paper_bgcolor\":\"white\",\"plot_bgcolor\":\"#E5ECF6\",\"polar\":{\"bgcolor\":\"#E5ECF6\",\"angularaxis\":{\"gridcolor\":\"white\",\"linecolor\":\"white\",\"ticks\":\"\"},\"radialaxis\":{\"gridcolor\":\"white\",\"linecolor\":\"white\",\"ticks\":\"\"}},\"ternary\":{\"bgcolor\":\"#E5ECF6\",\"aaxis\":{\"gridcolor\":\"white\",\"linecolor\":\"white\",\"ticks\":\"\"},\"baxis\":{\"gridcolor\":\"white\",\"linecolor\":\"white\",\"ticks\":\"\"},\"caxis\":{\"gridcolor\":\"white\",\"linecolor\":\"white\",\"ticks\":\"\"}},\"coloraxis\":{\"colorbar\":{\"outlinewidth\":0,\"ticks\":\"\"}},\"colorscale\":{\"sequential\":[[0.0,\"#0d0887\"],[0.1111111111111111,\"#46039f\"],[0.2222222222222222,\"#7201a8\"],[0.3333333333333333,\"#9c179e\"],[0.4444444444444444,\"#bd3786\"],[0.5555555555555556,\"#d8576b\"],[0.6666666666666666,\"#ed7953\"],[0.7777777777777778,\"#fb9f3a\"],[0.8888888888888888,\"#fdca26\"],[1.0,\"#f0f921\"]],\"sequentialminus\":[[0.0,\"#0d0887\"],[0.1111111111111111,\"#46039f\"],[0.2222222222222222,\"#7201a8\"],[0.3333333333333333,\"#9c179e\"],[0.4444444444444444,\"#bd3786\"],[0.5555555555555556,\"#d8576b\"],[0.6666666666666666,\"#ed7953\"],[0.7777777777777778,\"#fb9f3a\"],[0.8888888888888888,\"#fdca26\"],[1.0,\"#f0f921\"]],\"diverging\":[[0,\"#8e0152\"],[0.1,\"#c51b7d\"],[0.2,\"#de77ae\"],[0.3,\"#f1b6da\"],[0.4,\"#fde0ef\"],[0.5,\"#f7f7f7\"],[0.6,\"#e6f5d0\"],[0.7,\"#b8e186\"],[0.8,\"#7fbc41\"],[0.9,\"#4d9221\"],[1,\"#276419\"]]},\"xaxis\":{\"gridcolor\":\"white\",\"linecolor\":\"white\",\"ticks\":\"\",\"title\":{\"standoff\":15},\"zerolinecolor\":\"white\",\"automargin\":true,\"zerolinewidth\":2},\"yaxis\":{\"gridcolor\":\"white\",\"linecolor\":\"white\",\"ticks\":\"\",\"title\":{\"standoff\":15},\"zerolinecolor\":\"white\",\"automargin\":true,\"zerolinewidth\":2},\"scene\":{\"xaxis\":{\"backgroundcolor\":\"#E5ECF6\",\"gridcolor\":\"white\",\"linecolor\":\"white\",\"showbackground\":true,\"ticks\":\"\",\"zerolinecolor\":\"white\",\"gridwidth\":2},\"yaxis\":{\"backgroundcolor\":\"#E5ECF6\",\"gridcolor\":\"white\",\"linecolor\":\"white\",\"showbackground\":true,\"ticks\":\"\",\"zerolinecolor\":\"white\",\"gridwidth\":2},\"zaxis\":{\"backgroundcolor\":\"#E5ECF6\",\"gridcolor\":\"white\",\"linecolor\":\"white\",\"showbackground\":true,\"ticks\":\"\",\"zerolinecolor\":\"white\",\"gridwidth\":2}},\"shapedefaults\":{\"line\":{\"color\":\"#2a3f5f\"}},\"annotationdefaults\":{\"arrowcolor\":\"#2a3f5f\",\"arrowhead\":0,\"arrowwidth\":1},\"geo\":{\"bgcolor\":\"white\",\"landcolor\":\"#E5ECF6\",\"subunitcolor\":\"white\",\"showland\":true,\"showlakes\":true,\"lakecolor\":\"white\"},\"title\":{\"x\":0.05},\"mapbox\":{\"style\":\"light\"}}},\"xaxis\":{\"anchor\":\"y\",\"domain\":[0.0,1.0],\"title\":{\"text\":\"Discount Type\"},\"categoryorder\":\"array\",\"categoryarray\":[\"Groupon\",\"Company\",\"Promotion\"]},\"yaxis\":{\"anchor\":\"x\",\"domain\":[0.0,1.0],\"title\":{\"text\":\"Number of Times Used\"}},\"legend\":{\"title\":{\"text\":\"Discount Type\"},\"tracegroupgap\":0},\"title\":{\"text\":\"Discount Usage Analysis\"},\"barmode\":\"relative\"},                        {\"responsive\": true}                    ).then(function(){\n",
       "                            \n",
       "var gd = document.getElementById('9d8e97c0-117a-4acb-b352-ed7cc30509b5');\n",
       "var x = new MutationObserver(function (mutations, observer) {{\n",
       "        var display = window.getComputedStyle(gd).display;\n",
       "        if (!display || display === 'none') {{\n",
       "            console.log([gd, 'removed!']);\n",
       "            Plotly.purge(gd);\n",
       "            observer.disconnect();\n",
       "        }}\n",
       "}});\n",
       "\n",
       "// Listen for the removal of the full notebook cells\n",
       "var notebookContainer = gd.closest('#notebook-container');\n",
       "if (notebookContainer) {{\n",
       "    x.observe(notebookContainer, {childList: true});\n",
       "}}\n",
       "\n",
       "// Listen for the clearing of the current output cell\n",
       "var outputEl = gd.closest('.output');\n",
       "if (outputEl) {{\n",
       "    x.observe(outputEl, {childList: true});\n",
       "}}\n",
       "\n",
       "                        })                };                });            </script>        </div>"
      ]
     },
     "metadata": {},
     "output_type": "display_data"
    }
   ],
   "source": [
    "# SQL Query to Fetch Discount Usage Data\n",
    "discount_usage_query = \"\"\"\n",
    "SELECT \n",
    "    d.DiscountSource,\n",
    "    COUNT(b.DiscountID) AS UsageCount,\n",
    "    SUM(b.TotalPrice) AS RevenueImpact\n",
    "FROM Booking b\n",
    "JOIN Discount d ON b.DiscountID = d.DiscountID\n",
    "GROUP BY d.DiscountSource\n",
    "ORDER BY UsageCount DESC;\n",
    "\n",
    "\"\"\"\n",
    "\n",
    "# Fetch Data\n",
    "discount_df = run_query(discount_usage_query)\n",
    "\n",
    "# Create Bar Chart using Plotly Express\n",
    "discount_fig_bar = px.bar(\n",
    "    discount_df,\n",
    "    x=\"DiscountSource\",\n",
    "    y=\"UsageCount\",\n",
    "    title=\"Discount Usage Analysis\",\n",
    "    labels={\"DiscountSource\": \"Discount Type\", \"UsageCount\": \"Number of Times Used\"},\n",
    "    text=\"UsageCount\",\n",
    "    color=\"DiscountSource\"\n",
    ")\n",
    "\n",
    "# Show Bar Chart\n",
    "discount_fig_bar.show()"
   ]
  },
  {
   "cell_type": "markdown",
   "metadata": {},
   "source": [
    "#### - Heatmap for Venue Performance: \n",
    "A visual representation of venue utilization rates, indicating how well venues are being utilized."
   ]
  },
  {
   "cell_type": "code",
   "execution_count": 334,
   "metadata": {},
   "outputs": [
    {
     "data": {
      "application/vnd.plotly.v1+json": {
       "config": {
        "plotlyServerURL": "https://plot.ly"
       },
       "data": [
        {
         "coloraxis": "coloraxis",
         "histfunc": "sum",
         "hovertemplate": "VenueName=%{x}<br>TotalEvents=%{y}<br>sum of AvgOccupancyRate=%{z}<extra></extra>",
         "name": "",
         "type": "histogram2d",
         "x": [
          "Jazz Club",
          "Lecture Hall",
          "Art Gallery",
          "Conference Hall A",
          "Community Hall",
          "Rooftop Arena",
          "Banquet Hall",
          "Cultural Center",
          "Opera House",
          "Music Hall",
          "Open Air Venue",
          "Grand Theater",
          "Aquatic Center",
          "Concert Hall B",
          "Convention Center",
          "City Arena",
          "Expo Center",
          "Stadium X",
          "Tech Convention Center",
          "Sports Stadium"
         ],
         "xaxis": "x",
         "xbingroup": "x",
         "y": [
          2,
          2,
          2,
          11,
          2,
          1,
          3,
          2,
          3,
          5,
          2,
          5,
          1,
          5,
          5,
          6,
          7,
          2,
          5,
          6
         ],
         "yaxis": "y",
         "ybingroup": "y",
         "z": [
          1.5,
          0.86,
          0.75,
          0.7,
          0.67,
          0.6,
          0.5,
          0.46,
          0.42,
          0.4,
          0.38,
          0.36,
          0.33,
          0.31,
          0.22,
          0.17,
          0.14,
          0.12,
          0.12,
          0.1
         ]
        }
       ],
       "layout": {
        "autosize": true,
        "coloraxis": {
         "colorbar": {
          "title": {
           "text": "sum of AvgOccupancyRate"
          }
         },
         "colorscale": [
          [
           0,
           "#0d0887"
          ],
          [
           0.1111111111111111,
           "#46039f"
          ],
          [
           0.2222222222222222,
           "#7201a8"
          ],
          [
           0.3333333333333333,
           "#9c179e"
          ],
          [
           0.4444444444444444,
           "#bd3786"
          ],
          [
           0.5555555555555556,
           "#d8576b"
          ],
          [
           0.6666666666666666,
           "#ed7953"
          ],
          [
           0.7777777777777778,
           "#fb9f3a"
          ],
          [
           0.8888888888888888,
           "#fdca26"
          ],
          [
           1,
           "#f0f921"
          ]
         ]
        },
        "legend": {
         "tracegroupgap": 0
        },
        "template": {
         "data": {
          "bar": [
           {
            "error_x": {
             "color": "#2a3f5f"
            },
            "error_y": {
             "color": "#2a3f5f"
            },
            "marker": {
             "line": {
              "color": "#E5ECF6",
              "width": 0.5
             },
             "pattern": {
              "fillmode": "overlay",
              "size": 10,
              "solidity": 0.2
             }
            },
            "type": "bar"
           }
          ],
          "barpolar": [
           {
            "marker": {
             "line": {
              "color": "#E5ECF6",
              "width": 0.5
             },
             "pattern": {
              "fillmode": "overlay",
              "size": 10,
              "solidity": 0.2
             }
            },
            "type": "barpolar"
           }
          ],
          "carpet": [
           {
            "aaxis": {
             "endlinecolor": "#2a3f5f",
             "gridcolor": "white",
             "linecolor": "white",
             "minorgridcolor": "white",
             "startlinecolor": "#2a3f5f"
            },
            "baxis": {
             "endlinecolor": "#2a3f5f",
             "gridcolor": "white",
             "linecolor": "white",
             "minorgridcolor": "white",
             "startlinecolor": "#2a3f5f"
            },
            "type": "carpet"
           }
          ],
          "choropleth": [
           {
            "colorbar": {
             "outlinewidth": 0,
             "ticks": ""
            },
            "type": "choropleth"
           }
          ],
          "contour": [
           {
            "colorbar": {
             "outlinewidth": 0,
             "ticks": ""
            },
            "colorscale": [
             [
              0,
              "#0d0887"
             ],
             [
              0.1111111111111111,
              "#46039f"
             ],
             [
              0.2222222222222222,
              "#7201a8"
             ],
             [
              0.3333333333333333,
              "#9c179e"
             ],
             [
              0.4444444444444444,
              "#bd3786"
             ],
             [
              0.5555555555555556,
              "#d8576b"
             ],
             [
              0.6666666666666666,
              "#ed7953"
             ],
             [
              0.7777777777777778,
              "#fb9f3a"
             ],
             [
              0.8888888888888888,
              "#fdca26"
             ],
             [
              1,
              "#f0f921"
             ]
            ],
            "type": "contour"
           }
          ],
          "contourcarpet": [
           {
            "colorbar": {
             "outlinewidth": 0,
             "ticks": ""
            },
            "type": "contourcarpet"
           }
          ],
          "heatmap": [
           {
            "colorbar": {
             "outlinewidth": 0,
             "ticks": ""
            },
            "colorscale": [
             [
              0,
              "#0d0887"
             ],
             [
              0.1111111111111111,
              "#46039f"
             ],
             [
              0.2222222222222222,
              "#7201a8"
             ],
             [
              0.3333333333333333,
              "#9c179e"
             ],
             [
              0.4444444444444444,
              "#bd3786"
             ],
             [
              0.5555555555555556,
              "#d8576b"
             ],
             [
              0.6666666666666666,
              "#ed7953"
             ],
             [
              0.7777777777777778,
              "#fb9f3a"
             ],
             [
              0.8888888888888888,
              "#fdca26"
             ],
             [
              1,
              "#f0f921"
             ]
            ],
            "type": "heatmap"
           }
          ],
          "heatmapgl": [
           {
            "colorbar": {
             "outlinewidth": 0,
             "ticks": ""
            },
            "colorscale": [
             [
              0,
              "#0d0887"
             ],
             [
              0.1111111111111111,
              "#46039f"
             ],
             [
              0.2222222222222222,
              "#7201a8"
             ],
             [
              0.3333333333333333,
              "#9c179e"
             ],
             [
              0.4444444444444444,
              "#bd3786"
             ],
             [
              0.5555555555555556,
              "#d8576b"
             ],
             [
              0.6666666666666666,
              "#ed7953"
             ],
             [
              0.7777777777777778,
              "#fb9f3a"
             ],
             [
              0.8888888888888888,
              "#fdca26"
             ],
             [
              1,
              "#f0f921"
             ]
            ],
            "type": "heatmapgl"
           }
          ],
          "histogram": [
           {
            "marker": {
             "pattern": {
              "fillmode": "overlay",
              "size": 10,
              "solidity": 0.2
             }
            },
            "type": "histogram"
           }
          ],
          "histogram2d": [
           {
            "colorbar": {
             "outlinewidth": 0,
             "ticks": ""
            },
            "colorscale": [
             [
              0,
              "#0d0887"
             ],
             [
              0.1111111111111111,
              "#46039f"
             ],
             [
              0.2222222222222222,
              "#7201a8"
             ],
             [
              0.3333333333333333,
              "#9c179e"
             ],
             [
              0.4444444444444444,
              "#bd3786"
             ],
             [
              0.5555555555555556,
              "#d8576b"
             ],
             [
              0.6666666666666666,
              "#ed7953"
             ],
             [
              0.7777777777777778,
              "#fb9f3a"
             ],
             [
              0.8888888888888888,
              "#fdca26"
             ],
             [
              1,
              "#f0f921"
             ]
            ],
            "type": "histogram2d"
           }
          ],
          "histogram2dcontour": [
           {
            "colorbar": {
             "outlinewidth": 0,
             "ticks": ""
            },
            "colorscale": [
             [
              0,
              "#0d0887"
             ],
             [
              0.1111111111111111,
              "#46039f"
             ],
             [
              0.2222222222222222,
              "#7201a8"
             ],
             [
              0.3333333333333333,
              "#9c179e"
             ],
             [
              0.4444444444444444,
              "#bd3786"
             ],
             [
              0.5555555555555556,
              "#d8576b"
             ],
             [
              0.6666666666666666,
              "#ed7953"
             ],
             [
              0.7777777777777778,
              "#fb9f3a"
             ],
             [
              0.8888888888888888,
              "#fdca26"
             ],
             [
              1,
              "#f0f921"
             ]
            ],
            "type": "histogram2dcontour"
           }
          ],
          "mesh3d": [
           {
            "colorbar": {
             "outlinewidth": 0,
             "ticks": ""
            },
            "type": "mesh3d"
           }
          ],
          "parcoords": [
           {
            "line": {
             "colorbar": {
              "outlinewidth": 0,
              "ticks": ""
             }
            },
            "type": "parcoords"
           }
          ],
          "pie": [
           {
            "automargin": true,
            "type": "pie"
           }
          ],
          "scatter": [
           {
            "fillpattern": {
             "fillmode": "overlay",
             "size": 10,
             "solidity": 0.2
            },
            "type": "scatter"
           }
          ],
          "scatter3d": [
           {
            "line": {
             "colorbar": {
              "outlinewidth": 0,
              "ticks": ""
             }
            },
            "marker": {
             "colorbar": {
              "outlinewidth": 0,
              "ticks": ""
             }
            },
            "type": "scatter3d"
           }
          ],
          "scattercarpet": [
           {
            "marker": {
             "colorbar": {
              "outlinewidth": 0,
              "ticks": ""
             }
            },
            "type": "scattercarpet"
           }
          ],
          "scattergeo": [
           {
            "marker": {
             "colorbar": {
              "outlinewidth": 0,
              "ticks": ""
             }
            },
            "type": "scattergeo"
           }
          ],
          "scattergl": [
           {
            "marker": {
             "colorbar": {
              "outlinewidth": 0,
              "ticks": ""
             }
            },
            "type": "scattergl"
           }
          ],
          "scattermapbox": [
           {
            "marker": {
             "colorbar": {
              "outlinewidth": 0,
              "ticks": ""
             }
            },
            "type": "scattermapbox"
           }
          ],
          "scatterpolar": [
           {
            "marker": {
             "colorbar": {
              "outlinewidth": 0,
              "ticks": ""
             }
            },
            "type": "scatterpolar"
           }
          ],
          "scatterpolargl": [
           {
            "marker": {
             "colorbar": {
              "outlinewidth": 0,
              "ticks": ""
             }
            },
            "type": "scatterpolargl"
           }
          ],
          "scatterternary": [
           {
            "marker": {
             "colorbar": {
              "outlinewidth": 0,
              "ticks": ""
             }
            },
            "type": "scatterternary"
           }
          ],
          "surface": [
           {
            "colorbar": {
             "outlinewidth": 0,
             "ticks": ""
            },
            "colorscale": [
             [
              0,
              "#0d0887"
             ],
             [
              0.1111111111111111,
              "#46039f"
             ],
             [
              0.2222222222222222,
              "#7201a8"
             ],
             [
              0.3333333333333333,
              "#9c179e"
             ],
             [
              0.4444444444444444,
              "#bd3786"
             ],
             [
              0.5555555555555556,
              "#d8576b"
             ],
             [
              0.6666666666666666,
              "#ed7953"
             ],
             [
              0.7777777777777778,
              "#fb9f3a"
             ],
             [
              0.8888888888888888,
              "#fdca26"
             ],
             [
              1,
              "#f0f921"
             ]
            ],
            "type": "surface"
           }
          ],
          "table": [
           {
            "cells": {
             "fill": {
              "color": "#EBF0F8"
             },
             "line": {
              "color": "white"
             }
            },
            "header": {
             "fill": {
              "color": "#C8D4E3"
             },
             "line": {
              "color": "white"
             }
            },
            "type": "table"
           }
          ]
         },
         "layout": {
          "annotationdefaults": {
           "arrowcolor": "#2a3f5f",
           "arrowhead": 0,
           "arrowwidth": 1
          },
          "autotypenumbers": "strict",
          "coloraxis": {
           "colorbar": {
            "outlinewidth": 0,
            "ticks": ""
           }
          },
          "colorscale": {
           "diverging": [
            [
             0,
             "#8e0152"
            ],
            [
             0.1,
             "#c51b7d"
            ],
            [
             0.2,
             "#de77ae"
            ],
            [
             0.3,
             "#f1b6da"
            ],
            [
             0.4,
             "#fde0ef"
            ],
            [
             0.5,
             "#f7f7f7"
            ],
            [
             0.6,
             "#e6f5d0"
            ],
            [
             0.7,
             "#b8e186"
            ],
            [
             0.8,
             "#7fbc41"
            ],
            [
             0.9,
             "#4d9221"
            ],
            [
             1,
             "#276419"
            ]
           ],
           "sequential": [
            [
             0,
             "#0d0887"
            ],
            [
             0.1111111111111111,
             "#46039f"
            ],
            [
             0.2222222222222222,
             "#7201a8"
            ],
            [
             0.3333333333333333,
             "#9c179e"
            ],
            [
             0.4444444444444444,
             "#bd3786"
            ],
            [
             0.5555555555555556,
             "#d8576b"
            ],
            [
             0.6666666666666666,
             "#ed7953"
            ],
            [
             0.7777777777777778,
             "#fb9f3a"
            ],
            [
             0.8888888888888888,
             "#fdca26"
            ],
            [
             1,
             "#f0f921"
            ]
           ],
           "sequentialminus": [
            [
             0,
             "#0d0887"
            ],
            [
             0.1111111111111111,
             "#46039f"
            ],
            [
             0.2222222222222222,
             "#7201a8"
            ],
            [
             0.3333333333333333,
             "#9c179e"
            ],
            [
             0.4444444444444444,
             "#bd3786"
            ],
            [
             0.5555555555555556,
             "#d8576b"
            ],
            [
             0.6666666666666666,
             "#ed7953"
            ],
            [
             0.7777777777777778,
             "#fb9f3a"
            ],
            [
             0.8888888888888888,
             "#fdca26"
            ],
            [
             1,
             "#f0f921"
            ]
           ]
          },
          "colorway": [
           "#636efa",
           "#EF553B",
           "#00cc96",
           "#ab63fa",
           "#FFA15A",
           "#19d3f3",
           "#FF6692",
           "#B6E880",
           "#FF97FF",
           "#FECB52"
          ],
          "font": {
           "color": "#2a3f5f"
          },
          "geo": {
           "bgcolor": "white",
           "lakecolor": "white",
           "landcolor": "#E5ECF6",
           "showlakes": true,
           "showland": true,
           "subunitcolor": "white"
          },
          "hoverlabel": {
           "align": "left"
          },
          "hovermode": "closest",
          "mapbox": {
           "style": "light"
          },
          "paper_bgcolor": "white",
          "plot_bgcolor": "#E5ECF6",
          "polar": {
           "angularaxis": {
            "gridcolor": "white",
            "linecolor": "white",
            "ticks": ""
           },
           "bgcolor": "#E5ECF6",
           "radialaxis": {
            "gridcolor": "white",
            "linecolor": "white",
            "ticks": ""
           }
          },
          "scene": {
           "xaxis": {
            "backgroundcolor": "#E5ECF6",
            "gridcolor": "white",
            "gridwidth": 2,
            "linecolor": "white",
            "showbackground": true,
            "ticks": "",
            "zerolinecolor": "white"
           },
           "yaxis": {
            "backgroundcolor": "#E5ECF6",
            "gridcolor": "white",
            "gridwidth": 2,
            "linecolor": "white",
            "showbackground": true,
            "ticks": "",
            "zerolinecolor": "white"
           },
           "zaxis": {
            "backgroundcolor": "#E5ECF6",
            "gridcolor": "white",
            "gridwidth": 2,
            "linecolor": "white",
            "showbackground": true,
            "ticks": "",
            "zerolinecolor": "white"
           }
          },
          "shapedefaults": {
           "line": {
            "color": "#2a3f5f"
           }
          },
          "ternary": {
           "aaxis": {
            "gridcolor": "white",
            "linecolor": "white",
            "ticks": ""
           },
           "baxis": {
            "gridcolor": "white",
            "linecolor": "white",
            "ticks": ""
           },
           "bgcolor": "#E5ECF6",
           "caxis": {
            "gridcolor": "white",
            "linecolor": "white",
            "ticks": ""
           }
          },
          "title": {
           "x": 0.05
          },
          "xaxis": {
           "automargin": true,
           "gridcolor": "white",
           "linecolor": "white",
           "ticks": "",
           "title": {
            "standoff": 15
           },
           "zerolinecolor": "white",
           "zerolinewidth": 2
          },
          "yaxis": {
           "automargin": true,
           "gridcolor": "white",
           "linecolor": "white",
           "ticks": "",
           "title": {
            "standoff": 15
           },
           "zerolinecolor": "white",
           "zerolinewidth": 2
          }
         }
        },
        "title": {
         "text": "Venue Performance Heatmap"
        },
        "xaxis": {
         "anchor": "y",
         "autorange": true,
         "domain": [
          0,
          1
         ],
         "range": [
          -0.5,
          19.5
         ],
         "title": {
          "text": "VenueName"
         },
         "type": "category"
        },
        "yaxis": {
         "anchor": "x",
         "autorange": true,
         "domain": [
          0,
          1
         ],
         "range": [
          -0.5,
          14.5
         ],
         "title": {
          "text": "TotalEvents"
         },
         "type": "linear"
        }
       }
      },
      "image/png": "[encoded data removed]",
      "text/html": [
       "<div>                            <div id=\"0c7b4fc1-f4f5-4dae-aa74-284374aa0edb\" class=\"plotly-graph-div\" style=\"height:525px; width:100%;\"></div>            <script type=\"text/javascript\">                require([\"plotly\"], function(Plotly) {                    window.PLOTLYENV=window.PLOTLYENV || {};                                    if (document.getElementById(\"0c7b4fc1-f4f5-4dae-aa74-284374aa0edb\")) {                    Plotly.newPlot(                        \"0c7b4fc1-f4f5-4dae-aa74-284374aa0edb\",                        [{\"coloraxis\":\"coloraxis\",\"histfunc\":\"sum\",\"hovertemplate\":\"VenueName=%{x}\\u003cbr\\u003eTotalEvents=%{y}\\u003cbr\\u003esum of AvgOccupancyRate=%{z}\\u003cextra\\u003e\\u003c\\u002fextra\\u003e\",\"name\":\"\",\"x\":[\"Jazz Club\",\"Lecture Hall\",\"Art Gallery\",\"Conference Hall A\",\"Community Hall\",\"Rooftop Arena\",\"Banquet Hall\",\"Cultural Center\",\"Opera House\",\"Music Hall\",\"Open Air Venue\",\"Grand Theater\",\"Aquatic Center\",\"Concert Hall B\",\"Convention Center\",\"City Arena\",\"Expo Center\",\"Stadium X\",\"Tech Convention Center\",\"Sports Stadium\"],\"xaxis\":\"x\",\"xbingroup\":\"x\",\"y\":[2,2,2,11,2,1,3,2,3,5,2,5,1,5,5,6,7,2,5,6],\"yaxis\":\"y\",\"ybingroup\":\"y\",\"z\":[1.5,0.86,0.75,0.7,0.67,0.6,0.5,0.46,0.42,0.4,0.38,0.36,0.33,0.31,0.22,0.17,0.14,0.12,0.12,0.1],\"type\":\"histogram2d\"}],                        {\"template\":{\"data\":{\"histogram2dcontour\":[{\"type\":\"histogram2dcontour\",\"colorbar\":{\"outlinewidth\":0,\"ticks\":\"\"},\"colorscale\":[[0.0,\"#0d0887\"],[0.1111111111111111,\"#46039f\"],[0.2222222222222222,\"#7201a8\"],[0.3333333333333333,\"#9c179e\"],[0.4444444444444444,\"#bd3786\"],[0.5555555555555556,\"#d8576b\"],[0.6666666666666666,\"#ed7953\"],[0.7777777777777778,\"#fb9f3a\"],[0.8888888888888888,\"#fdca26\"],[1.0,\"#f0f921\"]]}],\"choropleth\":[{\"type\":\"choropleth\",\"colorbar\":{\"outlinewidth\":0,\"ticks\":\"\"}}],\"histogram2d\":[{\"type\":\"histogram2d\",\"colorbar\":{\"outlinewidth\":0,\"ticks\":\"\"},\"colorscale\":[[0.0,\"#0d0887\"],[0.1111111111111111,\"#46039f\"],[0.2222222222222222,\"#7201a8\"],[0.3333333333333333,\"#9c179e\"],[0.4444444444444444,\"#bd3786\"],[0.5555555555555556,\"#d8576b\"],[0.6666666666666666,\"#ed7953\"],[0.7777777777777778,\"#fb9f3a\"],[0.8888888888888888,\"#fdca26\"],[1.0,\"#f0f921\"]]}],\"heatmap\":[{\"type\":\"heatmap\",\"colorbar\":{\"outlinewidth\":0,\"ticks\":\"\"},\"colorscale\":[[0.0,\"#0d0887\"],[0.1111111111111111,\"#46039f\"],[0.2222222222222222,\"#7201a8\"],[0.3333333333333333,\"#9c179e\"],[0.4444444444444444,\"#bd3786\"],[0.5555555555555556,\"#d8576b\"],[0.6666666666666666,\"#ed7953\"],[0.7777777777777778,\"#fb9f3a\"],[0.8888888888888888,\"#fdca26\"],[1.0,\"#f0f921\"]]}],\"heatmapgl\":[{\"type\":\"heatmapgl\",\"colorbar\":{\"outlinewidth\":0,\"ticks\":\"\"},\"colorscale\":[[0.0,\"#0d0887\"],[0.1111111111111111,\"#46039f\"],[0.2222222222222222,\"#7201a8\"],[0.3333333333333333,\"#9c179e\"],[0.4444444444444444,\"#bd3786\"],[0.5555555555555556,\"#d8576b\"],[0.6666666666666666,\"#ed7953\"],[0.7777777777777778,\"#fb9f3a\"],[0.8888888888888888,\"#fdca26\"],[1.0,\"#f0f921\"]]}],\"contourcarpet\":[{\"type\":\"contourcarpet\",\"colorbar\":{\"outlinewidth\":0,\"ticks\":\"\"}}],\"contour\":[{\"type\":\"contour\",\"colorbar\":{\"outlinewidth\":0,\"ticks\":\"\"},\"colorscale\":[[0.0,\"#0d0887\"],[0.1111111111111111,\"#46039f\"],[0.2222222222222222,\"#7201a8\"],[0.3333333333333333,\"#9c179e\"],[0.4444444444444444,\"#bd3786\"],[0.5555555555555556,\"#d8576b\"],[0.6666666666666666,\"#ed7953\"],[0.7777777777777778,\"#fb9f3a\"],[0.8888888888888888,\"#fdca26\"],[1.0,\"#f0f921\"]]}],\"surface\":[{\"type\":\"surface\",\"colorbar\":{\"outlinewidth\":0,\"ticks\":\"\"},\"colorscale\":[[0.0,\"#0d0887\"],[0.1111111111111111,\"#46039f\"],[0.2222222222222222,\"#7201a8\"],[0.3333333333333333,\"#9c179e\"],[0.4444444444444444,\"#bd3786\"],[0.5555555555555556,\"#d8576b\"],[0.6666666666666666,\"#ed7953\"],[0.7777777777777778,\"#fb9f3a\"],[0.8888888888888888,\"#fdca26\"],[1.0,\"#f0f921\"]]}],\"mesh3d\":[{\"type\":\"mesh3d\",\"colorbar\":{\"outlinewidth\":0,\"ticks\":\"\"}}],\"scatter\":[{\"fillpattern\":{\"fillmode\":\"overlay\",\"size\":10,\"solidity\":0.2},\"type\":\"scatter\"}],\"parcoords\":[{\"type\":\"parcoords\",\"line\":{\"colorbar\":{\"outlinewidth\":0,\"ticks\":\"\"}}}],\"scatterpolargl\":[{\"type\":\"scatterpolargl\",\"marker\":{\"colorbar\":{\"outlinewidth\":0,\"ticks\":\"\"}}}],\"bar\":[{\"error_x\":{\"color\":\"#2a3f5f\"},\"error_y\":{\"color\":\"#2a3f5f\"},\"marker\":{\"line\":{\"color\":\"#E5ECF6\",\"width\":0.5},\"pattern\":{\"fillmode\":\"overlay\",\"size\":10,\"solidity\":0.2}},\"type\":\"bar\"}],\"scattergeo\":[{\"type\":\"scattergeo\",\"marker\":{\"colorbar\":{\"outlinewidth\":0,\"ticks\":\"\"}}}],\"scatterpolar\":[{\"type\":\"scatterpolar\",\"marker\":{\"colorbar\":{\"outlinewidth\":0,\"ticks\":\"\"}}}],\"histogram\":[{\"marker\":{\"pattern\":{\"fillmode\":\"overlay\",\"size\":10,\"solidity\":0.2}},\"type\":\"histogram\"}],\"scattergl\":[{\"type\":\"scattergl\",\"marker\":{\"colorbar\":{\"outlinewidth\":0,\"ticks\":\"\"}}}],\"scatter3d\":[{\"type\":\"scatter3d\",\"line\":{\"colorbar\":{\"outlinewidth\":0,\"ticks\":\"\"}},\"marker\":{\"colorbar\":{\"outlinewidth\":0,\"ticks\":\"\"}}}],\"scattermapbox\":[{\"type\":\"scattermapbox\",\"marker\":{\"colorbar\":{\"outlinewidth\":0,\"ticks\":\"\"}}}],\"scatterternary\":[{\"type\":\"scatterternary\",\"marker\":{\"colorbar\":{\"outlinewidth\":0,\"ticks\":\"\"}}}],\"scattercarpet\":[{\"type\":\"scattercarpet\",\"marker\":{\"colorbar\":{\"outlinewidth\":0,\"ticks\":\"\"}}}],\"carpet\":[{\"aaxis\":{\"endlinecolor\":\"#2a3f5f\",\"gridcolor\":\"white\",\"linecolor\":\"white\",\"minorgridcolor\":\"white\",\"startlinecolor\":\"#2a3f5f\"},\"baxis\":{\"endlinecolor\":\"#2a3f5f\",\"gridcolor\":\"white\",\"linecolor\":\"white\",\"minorgridcolor\":\"white\",\"startlinecolor\":\"#2a3f5f\"},\"type\":\"carpet\"}],\"table\":[{\"cells\":{\"fill\":{\"color\":\"#EBF0F8\"},\"line\":{\"color\":\"white\"}},\"header\":{\"fill\":{\"color\":\"#C8D4E3\"},\"line\":{\"color\":\"white\"}},\"type\":\"table\"}],\"barpolar\":[{\"marker\":{\"line\":{\"color\":\"#E5ECF6\",\"width\":0.5},\"pattern\":{\"fillmode\":\"overlay\",\"size\":10,\"solidity\":0.2}},\"type\":\"barpolar\"}],\"pie\":[{\"automargin\":true,\"type\":\"pie\"}]},\"layout\":{\"autotypenumbers\":\"strict\",\"colorway\":[\"#636efa\",\"#EF553B\",\"#00cc96\",\"#ab63fa\",\"#FFA15A\",\"#19d3f3\",\"#FF6692\",\"#B6E880\",\"#FF97FF\",\"#FECB52\"],\"font\":{\"color\":\"#2a3f5f\"},\"hovermode\":\"closest\",\"hoverlabel\":{\"align\":\"left\"},\"paper_bgcolor\":\"white\",\"plot_bgcolor\":\"#E5ECF6\",\"polar\":{\"bgcolor\":\"#E5ECF6\",\"angularaxis\":{\"gridcolor\":\"white\",\"linecolor\":\"white\",\"ticks\":\"\"},\"radialaxis\":{\"gridcolor\":\"white\",\"linecolor\":\"white\",\"ticks\":\"\"}},\"ternary\":{\"bgcolor\":\"#E5ECF6\",\"aaxis\":{\"gridcolor\":\"white\",\"linecolor\":\"white\",\"ticks\":\"\"},\"baxis\":{\"gridcolor\":\"white\",\"linecolor\":\"white\",\"ticks\":\"\"},\"caxis\":{\"gridcolor\":\"white\",\"linecolor\":\"white\",\"ticks\":\"\"}},\"coloraxis\":{\"colorbar\":{\"outlinewidth\":0,\"ticks\":\"\"}},\"colorscale\":{\"sequential\":[[0.0,\"#0d0887\"],[0.1111111111111111,\"#46039f\"],[0.2222222222222222,\"#7201a8\"],[0.3333333333333333,\"#9c179e\"],[0.4444444444444444,\"#bd3786\"],[0.5555555555555556,\"#d8576b\"],[0.6666666666666666,\"#ed7953\"],[0.7777777777777778,\"#fb9f3a\"],[0.8888888888888888,\"#fdca26\"],[1.0,\"#f0f921\"]],\"sequentialminus\":[[0.0,\"#0d0887\"],[0.1111111111111111,\"#46039f\"],[0.2222222222222222,\"#7201a8\"],[0.3333333333333333,\"#9c179e\"],[0.4444444444444444,\"#bd3786\"],[0.5555555555555556,\"#d8576b\"],[0.6666666666666666,\"#ed7953\"],[0.7777777777777778,\"#fb9f3a\"],[0.8888888888888888,\"#fdca26\"],[1.0,\"#f0f921\"]],\"diverging\":[[0,\"#8e0152\"],[0.1,\"#c51b7d\"],[0.2,\"#de77ae\"],[0.3,\"#f1b6da\"],[0.4,\"#fde0ef\"],[0.5,\"#f7f7f7\"],[0.6,\"#e6f5d0\"],[0.7,\"#b8e186\"],[0.8,\"#7fbc41\"],[0.9,\"#4d9221\"],[1,\"#276419\"]]},\"xaxis\":{\"gridcolor\":\"white\",\"linecolor\":\"white\",\"ticks\":\"\",\"title\":{\"standoff\":15},\"zerolinecolor\":\"white\",\"automargin\":true,\"zerolinewidth\":2},\"yaxis\":{\"gridcolor\":\"white\",\"linecolor\":\"white\",\"ticks\":\"\",\"title\":{\"standoff\":15},\"zerolinecolor\":\"white\",\"automargin\":true,\"zerolinewidth\":2},\"scene\":{\"xaxis\":{\"backgroundcolor\":\"#E5ECF6\",\"gridcolor\":\"white\",\"linecolor\":\"white\",\"showbackground\":true,\"ticks\":\"\",\"zerolinecolor\":\"white\",\"gridwidth\":2},\"yaxis\":{\"backgroundcolor\":\"#E5ECF6\",\"gridcolor\":\"white\",\"linecolor\":\"white\",\"showbackground\":true,\"ticks\":\"\",\"zerolinecolor\":\"white\",\"gridwidth\":2},\"zaxis\":{\"backgroundcolor\":\"#E5ECF6\",\"gridcolor\":\"white\",\"linecolor\":\"white\",\"showbackground\":true,\"ticks\":\"\",\"zerolinecolor\":\"white\",\"gridwidth\":2}},\"shapedefaults\":{\"line\":{\"color\":\"#2a3f5f\"}},\"annotationdefaults\":{\"arrowcolor\":\"#2a3f5f\",\"arrowhead\":0,\"arrowwidth\":1},\"geo\":{\"bgcolor\":\"white\",\"landcolor\":\"#E5ECF6\",\"subunitcolor\":\"white\",\"showland\":true,\"showlakes\":true,\"lakecolor\":\"white\"},\"title\":{\"x\":0.05},\"mapbox\":{\"style\":\"light\"}}},\"xaxis\":{\"anchor\":\"y\",\"domain\":[0.0,1.0],\"title\":{\"text\":\"VenueName\"}},\"yaxis\":{\"anchor\":\"x\",\"domain\":[0.0,1.0],\"title\":{\"text\":\"TotalEvents\"}},\"coloraxis\":{\"colorbar\":{\"title\":{\"text\":\"sum of AvgOccupancyRate\"}},\"colorscale\":[[0.0,\"#0d0887\"],[0.1111111111111111,\"#46039f\"],[0.2222222222222222,\"#7201a8\"],[0.3333333333333333,\"#9c179e\"],[0.4444444444444444,\"#bd3786\"],[0.5555555555555556,\"#d8576b\"],[0.6666666666666666,\"#ed7953\"],[0.7777777777777778,\"#fb9f3a\"],[0.8888888888888888,\"#fdca26\"],[1.0,\"#f0f921\"]]},\"legend\":{\"tracegroupgap\":0},\"title\":{\"text\":\"Venue Performance Heatmap\"}},                        {\"responsive\": true}                    ).then(function(){\n",
       "                            \n",
       "var gd = document.getElementById('0c7b4fc1-f4f5-4dae-aa74-284374aa0edb');\n",
       "var x = new MutationObserver(function (mutations, observer) {{\n",
       "        var display = window.getComputedStyle(gd).display;\n",
       "        if (!display || display === 'none') {{\n",
       "            console.log([gd, 'removed!']);\n",
       "            Plotly.purge(gd);\n",
       "            observer.disconnect();\n",
       "        }}\n",
       "}});\n",
       "\n",
       "// Listen for the removal of the full notebook cells\n",
       "var notebookContainer = gd.closest('#notebook-container');\n",
       "if (notebookContainer) {{\n",
       "    x.observe(notebookContainer, {childList: true});\n",
       "}}\n",
       "\n",
       "// Listen for the clearing of the current output cell\n",
       "var outputEl = gd.closest('.output');\n",
       "if (outputEl) {{\n",
       "    x.observe(outputEl, {childList: true});\n",
       "}}\n",
       "\n",
       "                        })                };                });            </script>        </div>"
      ]
     },
     "metadata": {},
     "output_type": "display_data"
    }
   ],
   "source": [
    "# SQL Query to Fetch Venue Utilization Data\n",
    "venue_utilization_query = \"\"\"\n",
    "SELECT \n",
    "    v.VenueName,\n",
    "    COUNT(ev.EventID) AS TotalEvents,\n",
    "    ROUND((SUM(bs.SeatCount) / (COUNT(ev.EventID) * v.Capacity)) * 100, 2) AS AvgOccupancyRate\n",
    "FROM Venue v\n",
    "JOIN EventVenue ev ON v.VenueID = ev.VenueID\n",
    "JOIN Event e ON ev.EventID = e.EventID\n",
    "LEFT JOIN (\n",
    "    SELECT b.EventID, COUNT(bs.SeatID) AS SeatCount\n",
    "    FROM BookingSeat bs\n",
    "    JOIN Booking b ON bs.BookingID = b.BookingID\n",
    "    GROUP BY b.EventID\n",
    ") bs ON e.EventID = bs.EventID\n",
    "GROUP BY v.VenueName, v.Capacity\n",
    "ORDER BY AvgOccupancyRate DESC;\n",
    "\"\"\"\n",
    "\n",
    "# Fetch Data\n",
    "venue_df = run_query(venue_utilization_query)\n",
    "\n",
    "venue_fig_heatmap = px.density_heatmap(\n",
    "    venue_df,\n",
    "    x=\"VenueName\",\n",
    "    y=\"TotalEvents\",\n",
    "    z=\"AvgOccupancyRate\",\n",
    "    title=\"Venue Performance Heatmap\"\n",
    ")\n",
    "\n",
    "venue_fig_heatmap.show()\n",
    "\n"
   ]
  },
  {
   "cell_type": "code",
   "execution_count": null,
   "metadata": {},
   "outputs": [],
   "source": []
  },
  {
   "cell_type": "code",
   "execution_count": 336,
   "metadata": {},
   "outputs": [
    {
     "data": {
      "text/markdown": [
       "App saved to ./ticket_reservation_insights_dashboard.html"
      ],
      "text/plain": [
       "<IPython.core.display.Markdown object>"
      ]
     },
     "metadata": {},
     "output_type": "display_data"
    }
   ],
   "source": [
    "# Dashboard with datapane\n",
    "report = dp.Report(\n",
    "    dp.Text(\"# Ticket Reservation Insights Dashboard\"),\n",
    "\n",
    "    # Section 1: Key Performance Indicators (KPIs)\n",
    "    dp.Group(\n",
    "        dp.BigNumber(heading=\"Total Revenue\", value=f\"${total_revenue:,.2f}\"),\n",
    "        dp.BigNumber(heading=\"Total Bookings\", value=total_bookings),\n",
    "        dp.BigNumber(heading=\"Total Customers\", value=total_customers),\n",
    "        columns=3\n",
    "    ),\n",
    "\n",
    "    dp.Text(\"### Upcoming Five Events\"),\n",
    "    dp.Table(upcoming_event_df),\n",
    "\n",
    "    # Section 2: Revenue Analytics\n",
    "    dp.Text(\"## Revenue Analytics\"),\n",
    "    dp.Group(\n",
    "        dp.Plot(revenue_by_event_plot, caption=\"Revenue by Event\"),\n",
    "        dp.Table(top_venue_df, caption=\"Top Revenue-Generating Venues\"),\n",
    "        columns=2\n",
    "    ),\n",
    "    dp.Plot(revenue_by_month_plot, caption=\"Monthly Revenue Growth Analysis\"),\n",
    "\n",
    "    # Section 3: Customer Behavior & Sales Analysis\n",
    "    dp.Text(\"## Customer Behavior & Sales Analysis\"),\n",
    "    dp.Group(\n",
    "        dp.Plot(sales_fig_bar, caption=\"Ticket Sales by Seat Category\"),\n",
    "        dp.Plot(user_fig_pie, caption=\"User Type Distribution\"),\n",
    "        columns=2\n",
    "    ),\n",
    "    dp.Group(\n",
    "        dp.Plot(organizer_revenue_plot, caption=\"Top Organizers by Revenue Percentage\"),\n",
    "        dp.Plot(payment_fig_pie, caption=\"Payment Method Analysis\"),\n",
    "        columns=2\n",
    "    ),\n",
    "    dp.Plot(discount_fig_bar, caption=\"Discount Source Usage Data\"),\n",
    "\n",
    "    # Section 4: Venue Performance\n",
    "    dp.Text(\"## Venue Performance\"),\n",
    "    dp.Plot(venue_fig_heatmap, caption=\"Heatmap for Venue Performance\", responsive=True)\n",
    ")\n",
    "\n",
    "# Save the report\n",
    "report.save(path=\"ticket_reservation_insights_dashboard.html\")\n"
   ]
  },
  {
   "cell_type": "code",
   "execution_count": 332,
   "metadata": {},
   "outputs": [
    {
     "data": {
      "text/html": [
       "<style>\n",
       "  #dp-50cde9473ab5456a9e5c03f5ba4c0e1f {\n",
       "    width: 1px;\n",
       "    min-width: 100%;\n",
       "  }\n",
       "</style>\n",
       "<iframe id=\"dp-50cde9473ab5456a9e5c03f5ba4c0e1f\" srcdoc=\"&lt;!DOCTYPE html&gt;\n",
       "&lt;html lang=&quot;en&quot;&gt;\n",
       "  &lt;head&gt;\n",
       "&lt;meta charset=&quot;UTF-8&quot; /&gt;\n",
       "\n",
       "&lt;link rel=&quot;shortcut icon&quot; type=&quot;image/png&quot; href=&quot;https://datapane-cdn.com/static/v1/datapane-icon-192x192.png&quot;/&gt;\n",
       "&lt;link rel=&quot;shortcut icon&quot; sizes=&quot;192x192&quot; href=&quot;https://datapane-cdn.com/static/v1/datapane-icon-192x192.png&quot;/&gt;\n",
       "&lt;link rel=&quot;apple-touch-icon&quot; href=&quot;https://datapane-cdn.com/static/v1/datapane-icon-192x192.png&quot;/&gt;\n",
       "\n",
       "&lt;script src=&quot;https://kit.fontawesome.com/256c714d9a.js&quot;&gt;&lt;/script&gt;\n",
       "&lt;link\n",
       "  href=&quot;https://fonts.googleapis.com/css?family=Inter:400,500,600,700|Inconsolata|Karla|Rubik&amp;display=swap&quot;\n",
       "  rel=&quot;stylesheet&quot;\n",
       "/&gt;\n",
       "&lt;link rel=&quot;stylesheet&quot; href=&quot;https://datapane-cdn.com/v0.17.0/report/index.css&quot; /&gt;\n",
       "&lt;link rel=&quot;stylesheet&quot; href=&quot;https://datapane-cdn.com/v0.17.0/report/tailwind.css&quot; /&gt;\n",
       "&lt;script&gt;\n",
       "  // analytics config\n",
       "  // TODO -- pass these in as props for consistency?\n",
       "  window.dpAppRunner = false;\n",
       "  window.dpLocal = true;\n",
       "\n",
       "  /* construct the view */\n",
       "  const htmlHeader = `&lt;style type=&quot;text/css&quot;&gt;:root {\n",
       "    --dp-accent-color: #4E46E5;\n",
       "    --dp-bg-color: #FFF;\n",
       "    --dp-text-align: left;\n",
       "    --dp-font-family: Inter, ui-sans-serif, system-ui;\n",
       "}&lt;/style&gt;`;\n",
       "  window.reportProps = { htmlHeader, isLightProse: false, isOrg: false, mode: &quot;VIEW&quot;, reportWidthClass: &quot;max-w-screen-xl&quot; };\n",
       "\n",
       "  if (!window.dpAppRunner) {\n",
       "      // pass app data via props if in local (static) mode, otherwise this data is fetched from the server\n",
       "      window.reportProps[&quot;appData&quot;] = { data: { result: {&quot;view_xml&quot;: &quot;\\u003cView version=\\&quot;1\\&quot; fragment=\\&quot;false\\&quot;\\u003e\\u003cText\\u003e\\u003c![CDATA[# Ticket Reservation Insights Dashboard]]\\u003e\\u003c/Text\\u003e\\u003cGroup columns=\\&quot;3\\&quot; valign=\\&quot;top\\&quot;\\u003e\\u003cBigNumber heading=\\&quot;Total Revenue\\&quot; value=\\&quot;$70,958.35\\&quot; is_positive_intent=\\&quot;false\\&quot; is_upward_change=\\&quot;false\\&quot;/\\u003e\\u003cBigNumber heading=\\&quot;Total Bookings\\&quot; value=\\&quot;183\\&quot; is_positive_intent=\\&quot;false\\&quot; is_upward_change=\\&quot;false\\&quot;/\\u003e\\u003cBigNumber heading=\\&quot;Total Customers\\&quot; value=\\&quot;37\\&quot; is_positive_intent=\\&quot;false\\&quot; is_upward_change=\\&quot;false\\&quot;/\\u003e\\u003c/Group\\u003e\\u003cText\\u003e\\u003c![CDATA[### Upcoming Five Events]]\\u003e\\u003c/Text\\u003e\\u003cTable type=\\&quot;application/vnd.datapane.table+html\\&quot; src=\\&quot;ref://4bf4475b3d\\&quot;/\\u003e\\u003cText\\u003e\\u003c![CDATA[## Revenue Analytics]]\\u003e\\u003c/Text\\u003e\\u003cGroup columns=\\&quot;2\\&quot; valign=\\&quot;top\\&quot;\\u003e\\u003cPlot type=\\&quot;application/vnd.plotly.v1+json\\&quot; responsive=\\&quot;true\\&quot; scale=\\&quot;1.0\\&quot; src=\\&quot;ref://6c6f2337a7\\&quot; caption=\\&quot;Revenue by Event\\&quot;/\\u003e\\u003cTable type=\\&quot;application/vnd.datapane.table+html\\&quot; src=\\&quot;ref://e70f84ba12\\&quot; caption=\\&quot;Top Revenue-Generating Venues\\&quot;/\\u003e\\u003c/Group\\u003e\\u003cPlot type=\\&quot;application/vnd.plotly.v1+json\\&quot; responsive=\\&quot;true\\&quot; scale=\\&quot;1.0\\&quot; src=\\&quot;ref://57037b6ad2\\&quot; caption=\\&quot;Monthly Revenue Growth Analysis\\&quot;/\\u003e\\u003cText\\u003e\\u003c![CDATA[## Customer Behavior \\u0026 Sales Analysis]]\\u003e\\u003c/Text\\u003e\\u003cGroup columns=\\&quot;2\\&quot; valign=\\&quot;top\\&quot;\\u003e\\u003cPlot type=\\&quot;application/vnd.plotly.v1+json\\&quot; responsive=\\&quot;true\\&quot; scale=\\&quot;1.0\\&quot; src=\\&quot;ref://4dfa892118\\&quot; caption=\\&quot;Ticket Sales by Seat Category\\&quot;/\\u003e\\u003cPlot type=\\&quot;application/vnd.plotly.v1+json\\&quot; responsive=\\&quot;true\\&quot; scale=\\&quot;1.0\\&quot; src=\\&quot;ref://aca349da33\\&quot; caption=\\&quot;User Type Distribution\\&quot;/\\u003e\\u003c/Group\\u003e\\u003cGroup columns=\\&quot;2\\&quot; valign=\\&quot;top\\&quot;\\u003e\\u003cPlot type=\\&quot;application/vnd.plotly.v1+json\\&quot; responsive=\\&quot;true\\&quot; scale=\\&quot;1.0\\&quot; src=\\&quot;ref://cf26e8a3ba\\&quot; caption=\\&quot;Top Organizers by Revenue Percentage\\&quot;/\\u003e\\u003cPlot type=\\&quot;application/vnd.plotly.v1+json\\&quot; responsive=\\&quot;true\\&quot; scale=\\&quot;1.0\\&quot; src=\\&quot;ref://5a1dad14d2\\&quot; caption=\\&quot;Payment Method Analysis\\&quot;/\\u003e\\u003c/Group\\u003e\\u003cPlot type=\\&quot;application/vnd.plotly.v1+json\\&quot; responsive=\\&quot;true\\&quot; scale=\\&quot;1.0\\&quot; src=\\&quot;ref://3d0e1845ba\\&quot; caption=\\&quot;Discount Source Usage Data\\&quot;/\\u003e\\u003cText\\u003e\\u003c![CDATA[## Venue Performance]]\\u003e\\u003c/Text\\u003e\\u003cPlot type=\\&quot;application/vnd.plotly.v1+json\\&quot; responsive=\\&quot;true\\&quot; scale=\\&quot;1.0\\&quot; src=\\&quot;ref://c5678fd033\\&quot; caption=\\&quot;Heatmap for Venue Performance\\&quot;/\\u003e\\u003c/View\\u003e&quot;, &quot;assets&quot;: {&quot;4bf4475b3d&quot;: {&quot;src&quot;: &quot;data:application/vnd.datapane.table+html;base64,PHRhYmxlIGJvcmRlcj0iMSIgY2xhc3M9ImRhdGFmcmFtZSI+CiAgPHRoZWFkPgogICAgPHRyIHN0eWxlPSJ0ZXh0LWFsaWduOiByaWdodDsiPgogICAgICA8dGg+PC90aD4KICAgICAgPHRoPkV2ZW50TmFtZTwvdGg+CiAgICAgIDx0aD5WZW51ZU5hbWU8L3RoPgogICAgICA8dGg+RGF0ZTwvdGg+CiAgICA8L3RyPgogIDwvdGhlYWQ+CiAgPHRib2R5PgogICAgPHRyPgogICAgICA8dGg+MDwvdGg+CiAgICAgIDx0ZD5DaGVzcyBUb3VybmFtZW50PC90ZD4KICAgICAgPHRkPlJvb2Z0b3AgQXJlbmE8L3RkPgogICAgICA8dGQ+MjAyNS0wMy0yMTwvdGQ+CiAgICA8L3RyPgogICAgPHRyPgogICAgICA8dGg+MTwvdGg+CiAgICAgIDx0ZD5DaGVzcyBUb3VybmFtZW50PC90ZD4KICAgICAgPHRkPkdyYW5kIFRoZWF0ZXI8L3RkPgogICAgICA8dGQ+MjAyNS0wMy0yODwvdGQ+CiAgICA8L3RyPgogICAgPHRyPgogICAgICA8dGg+MjwvdGg+CiAgICAgIDx0ZD5DaGVzcyBUb3VybmFtZW50PC90ZD4KICAgICAgPHRkPkNvbmZlcmVuY2UgSGFsbCBBPC90ZD4KICAgICAgPHRkPjIwMjUtMDQtMDQ8L3RkPgogICAgPC90cj4KICAgIDx0cj4KICAgICAgPHRoPjM8L3RoPgogICAgICA8dGQ+U3RhcnR1cCBQaXRjaCBOaWdodDwvdGQ+CiAgICAgIDx0ZD5DdWx0dXJhbCBDZW50ZXI8L3RkPgogICAgICA8dGQ+MjAyNS0wNC0xNTwvdGQ+CiAgICA8L3RyPgogICAgPHRyPgogICAgICA8dGg+NDwvdGg+CiAgICAgIDx0ZD5Db21lZHkgTmlnaHQ8L3RkPgogICAgICA8dGQ+QmFucXVldCBIYWxsPC90ZD4KICAgICAgPHRkPjIwMjUtMDUtMTA8L3RkPgogICAgPC90cj4KICA8L3Rib2R5Pgo8L3RhYmxlPg==&quot;, &quot;hash&quot;: &quot;4bf4475b3d&quot;, &quot;size&quot;: 1120, &quot;mime&quot;: &quot;application/vnd.datapane.table+html&quot;}, &quot;6c6f2337a7&quot;: {&quot;src&quot;: &quot;data:application/vnd.plotly.v1+json;base64,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&quot;, &quot;hash&quot;: &quot;6c6f2337a7&quot;, &quot;size&quot;: 11992, &quot;mime&quot;: &quot;application/vnd.plotly.v1+json&quot;}, &quot;e70f84ba12&quot;: {&quot;src&quot;: &quot;data:application/vnd.datapane.table+html;base64,PHRhYmxlIGJvcmRlcj0iMSIgY2xhc3M9ImRhdGFmcmFtZSI+CiAgPHRoZWFkPgogICAgPHRyIHN0eWxlPSJ0ZXh0LWFsaWduOiByaWdodDsiPgogICAgICA8dGg+PC90aD4KICAgICAgPHRoPlZlbnVlTmFtZTwvdGg+CiAgICAgIDx0aD5Ub3RhbFJldmVudWU8L3RoPgogICAgPC90cj4KICA8L3RoZWFkPgogIDx0Ym9keT4KICAgIDx0cj4KICAgICAgPHRoPjA8L3RoPgogICAgICA8dGQ+Q29uZmVyZW5jZSBIYWxsIEE8L3RkPgogICAgICA8dGQ+ODg3NS44MDwvdGQ+CiAgICA8L3RyPgogICAgPHRyPgogICAgICA8dGg+MTwvdGg+CiAgICAgIDx0ZD5NdXNpYyBIYWxsPC90ZD4KICAgICAgPHRkPjc0NDUuMTA8L3RkPgogICAgPC90cj4KICAgIDx0cj4KICAgICAgPHRoPjI8L3RoPgogICAgICA8dGQ+Q29udmVudGlvbiBDZW50ZXI8L3RkPgogICAgICA8dGQ+NzI3Ni4wMDwvdGQ+CiAgICA8L3RyPgogICAgPHRyPgogICAgICA8dGg+MzwvdGg+CiAgICAgIDx0ZD5PcGVyYSBIb3VzZTwvdGQ+CiAgICAgIDx0ZD40Njc0Ljc1PC90ZD4KICAgIDwvdHI+CiAgICA8dHI+CiAgICAgIDx0aD40PC90aD4KICAgICAgPHRkPkV4cG8gQ2VudGVyPC90ZD4KICAgICAgPHRkPjQ2MTQuMDA8L3RkPgogICAgPC90cj4KICAgIDx0cj4KICAgICAgPHRoPjU8L3RoPgogICAgICA8dGQ+Q29uY2VydCBIYWxsIEI8L3RkPgogICAgICA8dGQ+NDQ1Ny41MDwvdGQ+CiAgICA8L3RyPgogICAgPHRyPgogICAgICA8dGg+NjwvdGg+CiAgICAgIDx0ZD5CYW5xdWV0IEhhbGw8L3RkPgogICAgICA8dGQ+NDM5Ny41MDwvdGQ+CiAgICA8L3RyPgogICAgPHRyPgogICAgICA8dGg+NzwvdGg+CiAgICAgIDx0ZD5UZWNoIENvbnZlbnRpb24gQ2VudGVyPC90ZD4KICAgICAgPHRkPjM5ODUuNTA8L3RkPgogICAgPC90cj4KICAgIDx0cj4KICAgICAgPHRoPjg8L3RoPgogICAgICA8dGQ+U3BvcnRzIFN0YWRpdW08L3RkPgogICAgICA8dGQ+Mzk0NS4wMDwvdGQ+CiAgICA8L3RyPgogICAgPHRyPgogICAgICA8dGg+OTwvdGg+CiAgICAgIDx0ZD5BcnQgR2FsbGVyeTwvdGQ+CiAgICAgIDx0ZD4zMTY5LjUwPC90ZD4KICAgIDwvdHI+CiAgPC90Ym9keT4KPC90YWJsZT4=&quot;, &quot;hash&quot;: &quot;e70f84ba12&quot;, &quot;size&quot;: 1456, &quot;mime&quot;: &quot;application/vnd.datapane.table+html&quot;}, &quot;57037b6ad2&quot;: {&quot;src&quot;: &quot;data:application/vnd.plotly.v1+json;base64,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&quot;, &quot;hash&quot;: &quot;57037b6ad2&quot;, &quot;size&quot;: 12152, &quot;mime&quot;: &quot;application/vnd.plotly.v1+json&quot;}, &quot;4dfa892118&quot;: {&quot;src&quot;: &quot;data:application/vnd.plotly.v1+json;base64,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&quot;, &quot;hash&quot;: &quot;4dfa892118&quot;, &quot;size&quot;: 13064, &quot;mime&quot;: &quot;application/vnd.plotly.v1+json&quot;}, &quot;aca349da33&quot;: {&quot;src&quot;: &quot;data:application/vnd.plotly.v1+json;base64,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&quot;, &quot;hash&quot;: &quot;aca349da33&quot;, &quot;size&quot;: 11136, &quot;mime&quot;: &quot;application/vnd.plotly.v1+json&quot;}, &quot;cf26e8a3ba&quot;: {&quot;src&quot;: &quot;data:application/vnd.plotly.v1+json;base64,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&quot;, &quot;hash&quot;: &quot;cf26e8a3ba&quot;, &quot;size&quot;: 12392, &quot;mime&quot;: &quot;application/vnd.plotly.v1+json&quot;}, &quot;5a1dad14d2&quot;: {&quot;src&quot;: &quot;data:application/vnd.plotly.v1+json;base64,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&quot;, &quot;hash&quot;: &quot;5a1dad14d2&quot;, &quot;size&quot;: 11180, &quot;mime&quot;: &quot;application/vnd.plotly.v1+json&quot;}, &quot;3d0e1845ba&quot;: {&quot;src&quot;: &quot;data:application/vnd.plotly.v1+json;base64,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&quot;, &quot;hash&quot;: &quot;3d0e1845ba&quot;, &quot;size&quot;: 13024, &quot;mime&quot;: &quot;application/vnd.plotly.v1+json&quot;}, &quot;c5678fd033&quot;: {&quot;src&quot;: &quot;data:application/vnd.plotly.v1+json;base64,IntcImRhdGFcIjpbe1wiY29sb3JheGlzXCI6XCJjb2xvcmF4aXNcIixcImhpc3RmdW5jXCI6XCJzdW1cIixcImhvdmVydGVtcGxhdGVcIjpcIlZlbnVlTmFtZT0le3h9XFx1MDAzY2JyXFx1MDAzZVRvdGFsRXZlbnRzPSV7eX1cXHUwMDNjYnJcXHUwMDNlc3VtIG9mIEF2Z09jY3VwYW5jeVJhdGU9JXt6fVxcdTAwM2NleHRyYVxcdTAwM2VcXHUwMDNjXFx1MDAyZmV4dHJhXFx1MDAzZVwiLFwibmFtZVwiOlwiXCIsXCJ4XCI6W1wiSmF6eiBDbHViXCIsXCJMZWN0dXJlIEhhbGxcIixcIkFydCBHYWxsZXJ5XCIsXCJDb25mZXJlbmNlIEhhbGwgQVwiLFwiQ29tbXVuaXR5IEhhbGxcIixcIlJvb2Z0b3AgQXJlbmFcIixcIkJhbnF1ZXQgSGFsbFwiLFwiQ3VsdHVyYWwgQ2VudGVyXCIsXCJPcGVyYSBIb3VzZVwiLFwiTXVzaWMgSGFsbFwiLFwiT3BlbiBBaXIgVmVudWVcIixcIkdyYW5kIFRoZWF0ZXJcIixcIkFxdWF0aWMgQ2VudGVyXCIsXCJDb25jZXJ0IEhhbGwgQlwiLFwiQ29udmVudGlvbiBDZW50ZXJcIixcIkNpdHkgQXJlbmFcIixcIkV4cG8gQ2VudGVyXCIsXCJTdGFkaXVtIFhcIixcIlRlY2ggQ29udmVudGlvbiBDZW50ZXJcIixcIlNwb3J0cyBTdGFkaXVtXCJdLFwieGF4aXNcIjpcInhcIixcInhiaW5ncm91cFwiOlwieFwiLFwieVwiOlsyLDIsMiwxMSwyLDEsMywyLDMsNSwyLDUsMSw1LDUsNiw3LDIsNSw2XSxcInlheGlzXCI6XCJ5XCIsXCJ5YmluZ3JvdXBcIjpcInlcIixcInpcIjpbMS41LDAuODYsMC43NSwwLjcsMC42NywwLjYsMC41LDAuNDYsMC40MiwwLjQsMC4zOCwwLjM2LDAuMzMsMC4zMSwwLjIyLDAuMTcsMC4xNCwwLjEyLDAuMTIsMC4xXSxcInR5cGVcIjpcImhpc3RvZ3JhbTJkXCJ9XSxcImxheW91dFwiOntcInRlbXBsYXRlXCI6e1wiZGF0YVwiOntcImhpc3RvZ3JhbTJkY29udG91clwiOlt7XCJ0eXBlXCI6XCJoaXN0b2dyYW0yZGNvbnRvdXJcIixcImNvbG9yYmFyXCI6e1wib3V0bGluZXdpZHRoXCI6MCxcInRpY2tzXCI6XCJcIn0sXCJjb2xvcnNjYWxlXCI6W1swLjAsXCIjMGQwODg3XCJdLFswLjExMTExMTExMTExMTExMTEsXCIjNDYwMzlmXCJdLFswLjIyMjIyMjIyMjIyMjIyMjIsXCIjNzIwMWE4XCJdLFswLjMzMzMzMzMzMzMzMzMzMzMsXCIjOWMxNzllXCJdLFswLjQ0NDQ0NDQ0NDQ0NDQ0NDQsXCIjYmQzNzg2XCJdLFswLjU1NTU1NTU1NTU1NTU1NTYsXCIjZDg1NzZiXCJdLFswLjY2NjY2NjY2NjY2NjY2NjYsXCIjZWQ3OTUzXCJdLFswLjc3Nzc3Nzc3Nzc3Nzc3NzgsXCIjZmI5ZjNhXCJdLFswLjg4ODg4ODg4ODg4ODg4ODgsXCIjZmRjYTI2XCJdLFsxLjAsXCIjZjBmOTIxXCJdXX1dLFwiY2hvcm9wbGV0aFwiOlt7XCJ0eXBlXCI6XCJjaG9yb3BsZXRoXCIsXCJjb2xvcmJhclwiOntcIm91dGxpbmV3aWR0aFwiOjAsXCJ0aWNrc1wiOlwiXCJ9fV0sXCJoaXN0b2dyYW0yZFwiOlt7XCJ0eXBlXCI6XCJoaXN0b2dyYW0yZFwiLFwiY29sb3JiYXJcIjp7XCJvdXRsaW5ld2lkdGhcIjowLFwidGlja3NcIjpcIlwifSxcImNvbG9yc2NhbGVcIjpbWzAuMCxcIiMwZDA4ODdcIl0sWzAuMTExMTExMTExMTExMTExMSxcIiM0NjAzOWZcIl0sWzAuMjIyMjIyMjIyMjIyMjIyMixcIiM3MjAxYThcIl0sWzAuMzMzMzMzMzMzMzMzMzMzMyxcIiM5YzE3OWVcIl0sWzAuNDQ0NDQ0NDQ0NDQ0NDQ0NCxcIiNiZDM3ODZcIl0sWzAuNTU1NTU1NTU1NTU1NTU1NixcIiNkODU3NmJcIl0sWzAuNjY2NjY2NjY2NjY2NjY2NixcIiNlZDc5NTNcIl0sWzAuNzc3Nzc3Nzc3Nzc3Nzc3OCxcIiNmYjlmM2FcIl0sWzAuODg4ODg4ODg4ODg4ODg4OCxcIiNmZGNhMjZcIl0sWzEuMCxcIiNmMGY5MjFcIl1dfV0sXCJoZWF0bWFwXCI6W3tcInR5cGVcIjpcImhlYXRtYXBcIixcImNvbG9yYmFyXCI6e1wib3V0bGluZXdpZHRoXCI6MCxcInRpY2tzXCI6XCJcIn0sXCJjb2xvcnNjYWxlXCI6W1swLjAsXCIjMGQwODg3XCJdLFswLjExMTExMTExMTExMTExMTEsXCIjNDYwMzlmXCJdLFswLjIyMjIyMjIyMjIyMjIyMjIsXCIjNzIwMWE4XCJdLFswLjMzMzMzMzMzMzMzMzMzMzMsXCIjOWMxNzllXCJdLFswLjQ0NDQ0NDQ0NDQ0NDQ0NDQsXCIjYmQzNzg2XCJdLFswLjU1NTU1NTU1NTU1NTU1NTYsXCIjZDg1NzZiXCJdLFswLjY2NjY2NjY2NjY2NjY2NjYsXCIjZWQ3OTUzXCJdLFswLjc3Nzc3Nzc3Nzc3Nzc3NzgsXCIjZmI5ZjNhXCJdLFswLjg4ODg4ODg4ODg4ODg4ODgsXCIjZmRjYTI2XCJdLFsxLjAsXCIjZjBmOTIxXCJdXX1dLFwiaGVhdG1hcGdsXCI6W3tcInR5cGVcIjpcImhlYXRtYXBnbFwiLFwiY29sb3JiYXJcIjp7XCJvdXRsaW5ld2lkdGhcIjowLFwidGlja3NcIjpcIlwifSxcImNvbG9yc2NhbGVcIjpbWzAuMCxcIiMwZDA4ODdcIl0sWzAuMTExMTExMTExMTExMTExMSxcIiM0NjAzOWZcIl0sWzAuMjIyMjIyMjIyMjIyMjIyMixcIiM3MjAxYThcIl0sWzAuMzMzMzMzMzMzMzMzMzMzMyxcIiM5YzE3OWVcIl0sWzAuNDQ0NDQ0NDQ0NDQ0NDQ0NCxcIiNiZDM3ODZcIl0sWzAuNTU1NTU1NTU1NTU1NTU1NixcIiNkODU3NmJcIl0sWzAuNjY2NjY2NjY2NjY2NjY2NixcIiNlZDc5NTNcIl0sWzAuNzc3Nzc3Nzc3Nzc3Nzc3OCxcIiNmYjlmM2FcIl0sWzAuODg4ODg4ODg4ODg4ODg4OCxcIiNmZGNhMjZcIl0sWzEuMCxcIiNmMGY5MjFcIl1dfV0sXCJjb250b3VyY2FycGV0XCI6W3tcInR5cGVcIjpcImNvbnRvdXJjYXJwZXRcIixcImNvbG9yYmFyXCI6e1wib3V0bGluZXdpZHRoXCI6MCxcInRpY2tzXCI6XCJcIn19XSxcImNvbnRvdXJcIjpbe1widHlwZVwiOlwiY29udG91clwiLFwiY29sb3JiYXJcIjp7XCJvdXRsaW5ld2lkdGhcIjowLFwidGlja3NcIjpcIlwifSxcImNvbG9yc2NhbGVcIjpbWzAuMCxcIiMwZDA4ODdcIl0sWzAuMTExMTExMTExMTExMTExMSxcIiM0NjAzOWZcIl0sWzAuMjIyMjIyMjIyMjIyMjIyMixcIiM3MjAxYThcIl0sWzAuMzMzMzMzMzMzMzMzMzMzMyxcIiM5YzE3OWVcIl0sWzAuNDQ0NDQ0NDQ0NDQ0NDQ0NCxcIiNiZDM3ODZcIl0sWzAuNTU1NTU1NTU1NTU1NTU1NixcIiNkODU3NmJcIl0sWzAuNjY2NjY2NjY2NjY2NjY2NixcIiNlZDc5NTNcIl0sWzAuNzc3Nzc3Nzc3Nzc3Nzc3OCxcIiNmYjlmM2FcIl0sWzAuODg4ODg4ODg4ODg4ODg4OCxcIiNmZGNhMjZcIl0sWzEuMCxcIiNmMGY5MjFcIl1dfV0sXCJzdXJmYWNlXCI6W3tcInR5cGVcIjpcInN1cmZhY2VcIixcImNvbG9yYmFyXCI6e1wib3V0bGluZXdpZHRoXCI6MCxcInRpY2tzXCI6XCJcIn0sXCJjb2xvcnNjYWxlXCI6W1swLjAsXCIjMGQwODg3XCJdLFswLjExMTExMTExMTExMTExMTEsXCIjNDYwMzlmXCJdLFswLjIyMjIyMjIyMjIyMjIyMjIsXCIjNzIwMWE4XCJdLFswLjMzMzMzMzMzMzMzMzMzMzMsXCIjOWMxNzllXCJdLFswLjQ0NDQ0NDQ0NDQ0NDQ0NDQsXCIjYmQzNzg2XCJdLFswLjU1NTU1NTU1NTU1NTU1NTYsXCIjZDg1NzZiXCJdLFswLjY2NjY2NjY2NjY2NjY2NjYsXCIjZWQ3OTUzXCJdLFswLjc3Nzc3Nzc3Nzc3Nzc3NzgsXCIjZmI5ZjNhXCJdLFswLjg4ODg4ODg4ODg4ODg4ODgsXCIjZmRjYTI2XCJdLFsxLjAsXCIjZjBmOTIxXCJdXX1dLFwibWVzaDNkXCI6W3tcInR5cGVcIjpcIm1lc2gzZFwiLFwiY29sb3JiYXJcIjp7XCJvdXRsaW5ld2lkdGhcIjowLFwidGlja3NcIjpcIlwifX1dLFwic2NhdHRlclwiOlt7XCJmaWxscGF0dGVyblwiOntcImZpbGxtb2RlXCI6XCJvdmVybGF5XCIsXCJzaXplXCI6MTAsXCJzb2xpZGl0eVwiOjAuMn0sXCJ0eXBlXCI6XCJzY2F0dGVyXCJ9XSxcInBhcmNvb3Jkc1wiOlt7XCJ0eXBlXCI6XCJwYXJjb29yZHNcIixcImxpbmVcIjp7XCJjb2xvcmJhclwiOntcIm91dGxpbmV3aWR0aFwiOjAsXCJ0aWNrc1wiOlwiXCJ9fX1dLFwic2NhdHRlcnBvbGFyZ2xcIjpbe1widHlwZVwiOlwic2NhdHRlcnBvbGFyZ2xcIixcIm1hcmtlclwiOntcImNvbG9yYmFyXCI6e1wib3V0bGluZXdpZHRoXCI6MCxcInRpY2tzXCI6XCJcIn19fV0sXCJiYXJcIjpbe1wiZXJyb3JfeFwiOntcImNvbG9yXCI6XCIjMmEzZjVmXCJ9LFwiZXJyb3JfeVwiOntcImNvbG9yXCI6XCIjMmEzZjVmXCJ9LFwibWFya2VyXCI6e1wibGluZVwiOntcImNvbG9yXCI6XCIjRTVFQ0Y2XCIsXCJ3aWR0aFwiOjAuNX0sXCJwYXR0ZXJuXCI6e1wiZmlsbG1vZGVcIjpcIm92ZXJsYXlcIixcInNpemVcIjoxMCxcInNvbGlkaXR5XCI6MC4yfX0sXCJ0eXBlXCI6XCJiYXJcIn1dLFwic2NhdHRlcmdlb1wiOlt7XCJ0eXBlXCI6XCJzY2F0dGVyZ2VvXCIsXCJtYXJrZXJcIjp7XCJjb2xvcmJhclwiOntcIm91dGxpbmV3aWR0aFwiOjAsXCJ0aWNrc1wiOlwiXCJ9fX1dLFwic2NhdHRlcnBvbGFyXCI6W3tcInR5cGVcIjpcInNjYXR0ZXJwb2xhclwiLFwibWFya2VyXCI6e1wiY29sb3JiYXJcIjp7XCJvdXRsaW5ld2lkdGhcIjowLFwidGlja3NcIjpcIlwifX19XSxcImhpc3RvZ3JhbVwiOlt7XCJtYXJrZXJcIjp7XCJwYXR0ZXJuXCI6e1wiZmlsbG1vZGVcIjpcIm92ZXJsYXlcIixcInNpemVcIjoxMCxcInNvbGlkaXR5XCI6MC4yfX0sXCJ0eXBlXCI6XCJoaXN0b2dyYW1cIn1dLFwic2NhdHRlcmdsXCI6W3tcInR5cGVcIjpcInNjYXR0ZXJnbFwiLFwibWFya2VyXCI6e1wiY29sb3JiYXJcIjp7XCJvdXRsaW5ld2lkdGhcIjowLFwidGlja3NcIjpcIlwifX19XSxcInNjYXR0ZXIzZFwiOlt7XCJ0eXBlXCI6XCJzY2F0dGVyM2RcIixcImxpbmVcIjp7XCJjb2xvcmJhclwiOntcIm91dGxpbmV3aWR0aFwiOjAsXCJ0aWNrc1wiOlwiXCJ9fSxcIm1hcmtlclwiOntcImNvbG9yYmFyXCI6e1wib3V0bGluZXdpZHRoXCI6MCxcInRpY2tzXCI6XCJcIn19fV0sXCJzY2F0dGVybWFwYm94XCI6W3tcInR5cGVcIjpcInNjYXR0ZXJtYXBib3hcIixcIm1hcmtlclwiOntcImNvbG9yYmFyXCI6e1wib3V0bGluZXdpZHRoXCI6MCxcInRpY2tzXCI6XCJcIn19fV0sXCJzY2F0dGVydGVybmFyeVwiOlt7XCJ0eXBlXCI6XCJzY2F0dGVydGVybmFyeVwiLFwibWFya2VyXCI6e1wiY29sb3JiYXJcIjp7XCJvdXRsaW5ld2lkdGhcIjowLFwidGlja3NcIjpcIlwifX19XSxcInNjYXR0ZXJjYXJwZXRcIjpbe1widHlwZVwiOlwic2NhdHRlcmNhcnBldFwiLFwibWFya2VyXCI6e1wiY29sb3JiYXJcIjp7XCJvdXRsaW5ld2lkdGhcIjowLFwidGlja3NcIjpcIlwifX19XSxcImNhcnBldFwiOlt7XCJhYXhpc1wiOntcImVuZGxpbmVjb2xvclwiOlwiIzJhM2Y1ZlwiLFwiZ3JpZGNvbG9yXCI6XCJ3aGl0ZVwiLFwibGluZWNvbG9yXCI6XCJ3aGl0ZVwiLFwibWlub3JncmlkY29sb3JcIjpcIndoaXRlXCIsXCJzdGFydGxpbmVjb2xvclwiOlwiIzJhM2Y1ZlwifSxcImJheGlzXCI6e1wiZW5kbGluZWNvbG9yXCI6XCIjMmEzZjVmXCIsXCJncmlkY29sb3JcIjpcIndoaXRlXCIsXCJsaW5lY29sb3JcIjpcIndoaXRlXCIsXCJtaW5vcmdyaWRjb2xvclwiOlwid2hpdGVcIixcInN0YXJ0bGluZWNvbG9yXCI6XCIjMmEzZjVmXCJ9LFwidHlwZVwiOlwiY2FycGV0XCJ9XSxcInRhYmxlXCI6W3tcImNlbGxzXCI6e1wiZmlsbFwiOntcImNvbG9yXCI6XCIjRUJGMEY4XCJ9LFwibGluZVwiOntcImNvbG9yXCI6XCJ3aGl0ZVwifX0sXCJoZWFkZXJcIjp7XCJmaWxsXCI6e1wiY29sb3JcIjpcIiNDOEQ0RTNcIn0sXCJsaW5lXCI6e1wiY29sb3JcIjpcIndoaXRlXCJ9fSxcInR5cGVcIjpcInRhYmxlXCJ9XSxcImJhcnBvbGFyXCI6W3tcIm1hcmtlclwiOntcImxpbmVcIjp7XCJjb2xvclwiOlwiI0U1RUNGNlwiLFwid2lkdGhcIjowLjV9LFwicGF0dGVyblwiOntcImZpbGxtb2RlXCI6XCJvdmVybGF5XCIsXCJzaXplXCI6MTAsXCJzb2xpZGl0eVwiOjAuMn19LFwidHlwZVwiOlwiYmFycG9sYXJcIn1dLFwicGllXCI6W3tcImF1dG9tYXJnaW5cIjp0cnVlLFwidHlwZVwiOlwicGllXCJ9XX0sXCJsYXlvdXRcIjp7XCJhdXRvdHlwZW51bWJlcnNcIjpcInN0cmljdFwiLFwiY29sb3J3YXlcIjpbXCIjNjM2ZWZhXCIsXCIjRUY1NTNCXCIsXCIjMDBjYzk2XCIsXCIjYWI2M2ZhXCIsXCIjRkZBMTVBXCIsXCIjMTlkM2YzXCIsXCIjRkY2NjkyXCIsXCIjQjZFODgwXCIsXCIjRkY5N0ZGXCIsXCIjRkVDQjUyXCJdLFwiZm9udFwiOntcImNvbG9yXCI6XCIjMmEzZjVmXCJ9LFwiaG92ZXJtb2RlXCI6XCJjbG9zZXN0XCIsXCJob3ZlcmxhYmVsXCI6e1wiYWxpZ25cIjpcImxlZnRcIn0sXCJwYXBlcl9iZ2NvbG9yXCI6XCJ3aGl0ZVwiLFwicGxvdF9iZ2NvbG9yXCI6XCIjRTVFQ0Y2XCIsXCJwb2xhclwiOntcImJnY29sb3JcIjpcIiNFNUVDRjZcIixcImFuZ3VsYXJheGlzXCI6e1wiZ3JpZGNvbG9yXCI6XCJ3aGl0ZVwiLFwibGluZWNvbG9yXCI6XCJ3aGl0ZVwiLFwidGlja3NcIjpcIlwifSxcInJhZGlhbGF4aXNcIjp7XCJncmlkY29sb3JcIjpcIndoaXRlXCIsXCJsaW5lY29sb3JcIjpcIndoaXRlXCIsXCJ0aWNrc1wiOlwiXCJ9fSxcInRlcm5hcnlcIjp7XCJiZ2NvbG9yXCI6XCIjRTVFQ0Y2XCIsXCJhYXhpc1wiOntcImdyaWRjb2xvclwiOlwid2hpdGVcIixcImxpbmVjb2xvclwiOlwid2hpdGVcIixcInRpY2tzXCI6XCJcIn0sXCJiYXhpc1wiOntcImdyaWRjb2xvclwiOlwid2hpdGVcIixcImxpbmVjb2xvclwiOlwid2hpdGVcIixcInRpY2tzXCI6XCJcIn0sXCJjYXhpc1wiOntcImdyaWRjb2xvclwiOlwid2hpdGVcIixcImxpbmVjb2xvclwiOlwid2hpdGVcIixcInRpY2tzXCI6XCJcIn19LFwiY29sb3JheGlzXCI6e1wiY29sb3JiYXJcIjp7XCJvdXRsaW5ld2lkdGhcIjowLFwidGlja3NcIjpcIlwifX0sXCJjb2xvcnNjYWxlXCI6e1wic2VxdWVudGlhbFwiOltbMC4wLFwiIzBkMDg4N1wiXSxbMC4xMTExMTExMTExMTExMTExLFwiIzQ2MDM5ZlwiXSxbMC4yMjIyMjIyMjIyMjIyMjIyLFwiIzcyMDFhOFwiXSxbMC4zMzMzMzMzMzMzMzMzMzMzLFwiIzljMTc5ZVwiXSxbMC40NDQ0NDQ0NDQ0NDQ0NDQ0LFwiI2JkMzc4NlwiXSxbMC41NTU1NTU1NTU1NTU1NTU2LFwiI2Q4NTc2YlwiXSxbMC42NjY2NjY2NjY2NjY2NjY2LFwiI2VkNzk1M1wiXSxbMC43Nzc3Nzc3Nzc3Nzc3Nzc4LFwiI2ZiOWYzYVwiXSxbMC44ODg4ODg4ODg4ODg4ODg4LFwiI2ZkY2EyNlwiXSxbMS4wLFwiI2YwZjkyMVwiXV0sXCJzZXF1ZW50aWFsbWludXNcIjpbWzAuMCxcIiMwZDA4ODdcIl0sWzAuMTExMTExMTExMTExMTExMSxcIiM0NjAzOWZcIl0sWzAuMjIyMjIyMjIyMjIyMjIyMixcIiM3MjAxYThcIl0sWzAuMzMzMzMzMzMzMzMzMzMzMyxcIiM5YzE3OWVcIl0sWzAuNDQ0NDQ0NDQ0NDQ0NDQ0NCxcIiNiZDM3ODZcIl0sWzAuNTU1NTU1NTU1NTU1NTU1NixcIiNkODU3NmJcIl0sWzAuNjY2NjY2NjY2NjY2NjY2NixcIiNlZDc5NTNcIl0sWzAuNzc3Nzc3Nzc3Nzc3Nzc3OCxcIiNmYjlmM2FcIl0sWzAuODg4ODg4ODg4ODg4ODg4OCxcIiNmZGNhMjZcIl0sWzEuMCxcIiNmMGY5MjFcIl1dLFwiZGl2ZXJnaW5nXCI6W1swLFwiIzhlMDE1MlwiXSxbMC4xLFwiI2M1MWI3ZFwiXSxbMC4yLFwiI2RlNzdhZVwiXSxbMC4zLFwiI2YxYjZkYVwiXSxbMC40LFwiI2ZkZTBlZlwiXSxbMC41LFwiI2Y3ZjdmN1wiXSxbMC42LFwiI2U2ZjVkMFwiXSxbMC43LFwiI2I4ZTE4NlwiXSxbMC44LFwiIzdmYmM0MVwiXSxbMC45LFwiIzRkOTIyMVwiXSxbMSxcIiMyNzY0MTlcIl1dfSxcInhheGlzXCI6e1wiZ3JpZGNvbG9yXCI6XCJ3aGl0ZVwiLFwibGluZWNvbG9yXCI6XCJ3aGl0ZVwiLFwidGlja3NcIjpcIlwiLFwidGl0bGVcIjp7XCJzdGFuZG9mZlwiOjE1fSxcInplcm9saW5lY29sb3JcIjpcIndoaXRlXCIsXCJhdXRvbWFyZ2luXCI6dHJ1ZSxcInplcm9saW5ld2lkdGhcIjoyfSxcInlheGlzXCI6e1wiZ3JpZGNvbG9yXCI6XCJ3aGl0ZVwiLFwibGluZWNvbG9yXCI6XCJ3aGl0ZVwiLFwidGlja3NcIjpcIlwiLFwidGl0bGVcIjp7XCJzdGFuZG9mZlwiOjE1fSxcInplcm9saW5lY29sb3JcIjpcIndoaXRlXCIsXCJhdXRvbWFyZ2luXCI6dHJ1ZSxcInplcm9saW5ld2lkdGhcIjoyfSxcInNjZW5lXCI6e1wieGF4aXNcIjp7XCJiYWNrZ3JvdW5kY29sb3JcIjpcIiNFNUVDRjZcIixcImdyaWRjb2xvclwiOlwid2hpdGVcIixcImxpbmVjb2xvclwiOlwid2hpdGVcIixcInNob3diYWNrZ3JvdW5kXCI6dHJ1ZSxcInRpY2tzXCI6XCJcIixcInplcm9saW5lY29sb3JcIjpcIndoaXRlXCIsXCJncmlkd2lkdGhcIjoyfSxcInlheGlzXCI6e1wiYmFja2dyb3VuZGNvbG9yXCI6XCIjRTVFQ0Y2XCIsXCJncmlkY29sb3JcIjpcIndoaXRlXCIsXCJsaW5lY29sb3JcIjpcIndoaXRlXCIsXCJzaG93YmFja2dyb3VuZFwiOnRydWUsXCJ0aWNrc1wiOlwiXCIsXCJ6ZXJvbGluZWNvbG9yXCI6XCJ3aGl0ZVwiLFwiZ3JpZHdpZHRoXCI6Mn0sXCJ6YXhpc1wiOntcImJhY2tncm91bmRjb2xvclwiOlwiI0U1RUNGNlwiLFwiZ3JpZGNvbG9yXCI6XCJ3aGl0ZVwiLFwibGluZWNvbG9yXCI6XCJ3aGl0ZVwiLFwic2hvd2JhY2tncm91bmRcIjp0cnVlLFwidGlja3NcIjpcIlwiLFwiemVyb2xpbmVjb2xvclwiOlwid2hpdGVcIixcImdyaWR3aWR0aFwiOjJ9fSxcInNoYXBlZGVmYXVsdHNcIjp7XCJsaW5lXCI6e1wiY29sb3JcIjpcIiMyYTNmNWZcIn19LFwiYW5ub3RhdGlvbmRlZmF1bHRzXCI6e1wiYXJyb3djb2xvclwiOlwiIzJhM2Y1ZlwiLFwiYXJyb3doZWFkXCI6MCxcImFycm93d2lkdGhcIjoxfSxcImdlb1wiOntcImJnY29sb3JcIjpcIndoaXRlXCIsXCJsYW5kY29sb3JcIjpcIiNFNUVDRjZcIixcInN1YnVuaXRjb2xvclwiOlwid2hpdGVcIixcInNob3dsYW5kXCI6dHJ1ZSxcInNob3dsYWtlc1wiOnRydWUsXCJsYWtlY29sb3JcIjpcIndoaXRlXCJ9LFwidGl0bGVcIjp7XCJ4XCI6MC4wNX0sXCJtYXBib3hcIjp7XCJzdHlsZVwiOlwibGlnaHRcIn19fSxcInhheGlzXCI6e1wiYW5jaG9yXCI6XCJ5XCIsXCJkb21haW5cIjpbMC4wLDEuMF0sXCJ0aXRsZVwiOntcInRleHRcIjpcIlZlbnVlTmFtZVwifX0sXCJ5YXhpc1wiOntcImFuY2hvclwiOlwieFwiLFwiZG9tYWluXCI6WzAuMCwxLjBdLFwidGl0bGVcIjp7XCJ0ZXh0XCI6XCJUb3RhbEV2ZW50c1wifX0sXCJjb2xvcmF4aXNcIjp7XCJjb2xvcmJhclwiOntcInRpdGxlXCI6e1widGV4dFwiOlwic3VtIG9mIEF2Z09jY3VwYW5jeVJhdGVcIn19LFwiY29sb3JzY2FsZVwiOltbMC4wLFwiIzBkMDg4N1wiXSxbMC4xMTExMTExMTExMTExMTExLFwiIzQ2MDM5ZlwiXSxbMC4yMjIyMjIyMjIyMjIyMjIyLFwiIzcyMDFhOFwiXSxbMC4zMzMzMzMzMzMzMzMzMzMzLFwiIzljMTc5ZVwiXSxbMC40NDQ0NDQ0NDQ0NDQ0NDQ0LFwiI2JkMzc4NlwiXSxbMC41NTU1NTU1NTU1NTU1NTU2LFwiI2Q4NTc2YlwiXSxbMC42NjY2NjY2NjY2NjY2NjY2LFwiI2VkNzk1M1wiXSxbMC43Nzc3Nzc3Nzc3Nzc3Nzc4LFwiI2ZiOWYzYVwiXSxbMC44ODg4ODg4ODg4ODg4ODg4LFwiI2ZkY2EyNlwiXSxbMS4wLFwiI2YwZjkyMVwiXV19LFwibGVnZW5kXCI6e1widHJhY2Vncm91cGdhcFwiOjB9LFwidGl0bGVcIjp7XCJ0ZXh0XCI6XCJWZW51ZSBQZXJmb3JtYW5jZSBIZWF0bWFwXCJ9fX0i&quot;, &quot;hash&quot;: &quot;c5678fd033&quot;, &quot;size&quot;: 12584, &quot;mime&quot;: &quot;application/vnd.plotly.v1+json&quot;}}} }};\n",
       "  }\n",
       "&lt;/script&gt;\n",
       "&lt;script type=&quot;module&quot;&gt;\n",
       "  import { mountReport } from &quot;https://datapane-cdn.com/v0.17.0/report/index.es.js&quot;;\n",
       "  mountReport(window.reportProps);\n",
       "&lt;/script&gt;\n",
       "  &lt;/head&gt;\n",
       "  &lt;script&gt;\n",
       "    window.isIPythonEmbed = true;\n",
       "  &lt;/script&gt;\n",
       "  &lt;body&gt;\n",
       "    &lt;main class=&quot;max-w-screen-xl w-full mx-auto&quot;&gt;\n",
       "      &lt;div id=&quot;report&quot; class=&quot;w-full&quot;&gt;&lt;/div&gt;\n",
       "    &lt;/main&gt;\n",
       "    &lt;script src=&quot;https://datapane-cdn.com/v0.17.0/assets/iframeResizer.contentWindow.min.js&quot;&gt;&lt;/script&gt;\n",
       "  &lt;/body&gt;\n",
       "&lt;/html&gt;\n",
       "\" style=\"border: none\">\n",
       "</iframe>\n",
       "<script type=\"module\">\n",
       "  import { iframeResize } from \"https://datapane-cdn.com/v0.17.0/report/index.es.js\";\n",
       "  iframeResize({ log: true, checkOrigin: false }, \"#dp-50cde9473ab5456a9e5c03f5ba4c0e1f\");\n",
       "</script>\n"
      ],
      "text/plain": [
       "<IPython.core.display.HTML object>"
      ]
     },
     "metadata": {},
     "output_type": "display_data"
    }
   ],
   "source": [
    "report"
   ]
  },
  {
   "cell_type": "code",
   "execution_count": null,
   "metadata": {},
   "outputs": [],
   "source": []
  }
 ],
 "metadata": {
  "colab": {
   "provenance": []
  },
  "kernelspec": {
   "display_name": "Python 3 (ipykernel)",
   "language": "python",
   "name": "python3"
  },
  "language_info": {
   "codemirror_mode": {
    "name": "ipython",
    "version": 3
   },
   "file_extension": ".py",
   "mimetype": "text/x-python",
   "name": "python",
   "nbconvert_exporter": "python",
   "pygments_lexer": "ipython3",
   "version": "3.12.4"
  }
 },
 "nbformat": 4,
 "nbformat_minor": 4
}
